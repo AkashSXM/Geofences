{
 "cells": [
  {
   "cell_type": "code",
   "execution_count": 51,
   "metadata": {},
   "outputs": [],
   "source": [
    "from PIL import Image\n",
    "import pandas as pd\n",
    "import matplotlib.pyplot as plt\n",
    "import s3fs\n",
    "import numpy as np\n",
    "import boto3\n",
    "import cv2"
   ]
  },
  {
   "cell_type": "code",
   "execution_count": 52,
   "metadata": {},
   "outputs": [],
   "source": [
    "fs = s3fs.S3FileSystem()\n",
    "\n",
    "# To List 5 files in your accessible bucket\n",
    "images = fs.ls('s3://sxm-ecommerce-p66-location-data/version2/training_freqs/')"
   ]
  },
  {
   "cell_type": "code",
   "execution_count": 53,
   "metadata": {},
   "outputs": [],
   "source": [
    "images = [i.replace(\"sxm-ecommerce-p66-location-data/version2/training_freqs/\", \"\") for i in images]\n"
   ]
  },
  {
   "cell_type": "code",
   "execution_count": 60,
   "metadata": {},
   "outputs": [
    {
     "name": "stdout",
     "output_type": "stream",
     "text": [
      "output: image-classification-model-2021-07-20-16-01-54/output/other/img_21.331533, -157.865814_freq_2.png.out\n",
      "sxm-ecommerce-p66-location-data\n",
      "image-classification-model-2021-07-20-16-01-54/output/other/img_21.331533, -157.865814_freq_2.png.out\n",
      "img_21.331533, -157.865814_freq_2.png.out\n",
      "batch_input+base: s3://sxm-ecommerce-p66-location-data/version2/training_freqs/img_21.331533, -157.865814_freq_2.png\n",
      "batch_input: s3://sxm-ecommerce-p66-location-data/version2/training_freqs/\n",
      "base: img_21.331533, -157.865814_freq_2.png\n",
      "img_21.331533, -157.865814_freq_2.png\n",
      "('Not road', 1.0)\n"
     ]
    },
    {
     "data": {
      "image/png": "[encoded data removed]",
      "text/plain": [
       "<Figure size 432x288 with 1 Axes>"
      ]
     },
     "metadata": {
      "needs_background": "light"
     },
     "output_type": "display_data"
    },
    {
     "name": "stdout",
     "output_type": "stream",
     "text": [
      "output: image-classification-model-2021-07-20-16-01-54/output/other/img_29.449435, -95.078111_freq_1.png.out\n",
      "sxm-ecommerce-p66-location-data\n",
      "image-classification-model-2021-07-20-16-01-54/output/other/img_29.449435, -95.078111_freq_1.png.out\n",
      "img_29.449435, -95.078111_freq_1.png.out\n",
      "batch_input+base: s3://sxm-ecommerce-p66-location-data/version2/training_freqs/img_29.449435, -95.078111_freq_1.png\n",
      "batch_input: s3://sxm-ecommerce-p66-location-data/version2/training_freqs/\n",
      "base: img_29.449435, -95.078111_freq_1.png\n",
      "img_29.449435, -95.078111_freq_1.png\n",
      "('Not road', 0.9999990463256836)\n"
     ]
    },
    {
     "data": {
      "image/png": "[encoded data removed]",
      "text/plain": [
       "<Figure size 432x288 with 1 Axes>"
      ]
     },
     "metadata": {
      "needs_background": "light"
     },
     "output_type": "display_data"
    },
    {
     "name": "stdout",
     "output_type": "stream",
     "text": [
      "output: image-classification-model-2021-07-20-16-01-54/output/other/img_30.166849, -81.748018_freq_1.png.out\n",
      "sxm-ecommerce-p66-location-data\n",
      "image-classification-model-2021-07-20-16-01-54/output/other/img_30.166849, -81.748018_freq_1.png.out\n",
      "img_30.166849, -81.748018_freq_1.png.out\n",
      "batch_input+base: s3://sxm-ecommerce-p66-location-data/version2/training_freqs/img_30.166849, -81.748018_freq_1.png\n",
      "batch_input: s3://sxm-ecommerce-p66-location-data/version2/training_freqs/\n",
      "base: img_30.166849, -81.748018_freq_1.png\n",
      "img_30.166849, -81.748018_freq_1.png\n",
      "('Not road', 0.9999990463256836)\n"
     ]
    },
    {
     "data": {
      "image/png": "[encoded data removed]",
      "text/plain": [
       "<Figure size 432x288 with 1 Axes>"
      ]
     },
     "metadata": {
      "needs_background": "light"
     },
     "output_type": "display_data"
    },
    {
     "name": "stdout",
     "output_type": "stream",
     "text": [
      "output: image-classification-model-2021-07-20-16-01-54/output/other/img_32.196769, -95.853902_freq_2.png.out\n",
      "sxm-ecommerce-p66-location-data\n",
      "image-classification-model-2021-07-20-16-01-54/output/other/img_32.196769, -95.853902_freq_2.png.out\n",
      "img_32.196769, -95.853902_freq_2.png.out\n",
      "batch_input+base: s3://sxm-ecommerce-p66-location-data/version2/training_freqs/img_32.196769, -95.853902_freq_2.png\n",
      "batch_input: s3://sxm-ecommerce-p66-location-data/version2/training_freqs/\n",
      "base: img_32.196769, -95.853902_freq_2.png\n",
      "img_32.196769, -95.853902_freq_2.png\n",
      "('Not road', 0.9999997615814209)\n"
     ]
    },
    {
     "data": {
      "image/png": "[encoded data removed]",
      "text/plain": [
       "<Figure size 432x288 with 1 Axes>"
      ]
     },
     "metadata": {
      "needs_background": "light"
     },
     "output_type": "display_data"
    },
    {
     "name": "stdout",
     "output_type": "stream",
     "text": [
      "output: image-classification-model-2021-07-20-16-01-54/output/other/img_33.037973, -111.378656_freq_4.png.out\n",
      "sxm-ecommerce-p66-location-data\n",
      "image-classification-model-2021-07-20-16-01-54/output/other/img_33.037973, -111.378656_freq_4.png.out\n",
      "img_33.037973, -111.378656_freq_4.png.out\n",
      "batch_input+base: s3://sxm-ecommerce-p66-location-data/version2/training_freqs/img_33.037973, -111.378656_freq_4.png\n",
      "batch_input: s3://sxm-ecommerce-p66-location-data/version2/training_freqs/\n",
      "base: img_33.037973, -111.378656_freq_4.png\n",
      "img_33.037973, -111.378656_freq_4.png\n",
      "('Not road', 1.0)\n"
     ]
    },
    {
     "data": {
      "image/png": "[encoded data removed]",
      "text/plain": [
       "<Figure size 432x288 with 1 Axes>"
      ]
     },
     "metadata": {
      "needs_background": "light"
     },
     "output_type": "display_data"
    },
    {
     "name": "stdout",
     "output_type": "stream",
     "text": [
      "output: image-classification-model-2021-07-20-16-01-54/output/other/img_33.611694, -114.725608_freq_4.png.out\n",
      "sxm-ecommerce-p66-location-data\n",
      "image-classification-model-2021-07-20-16-01-54/output/other/img_33.611694, -114.725608_freq_4.png.out\n",
      "img_33.611694, -114.725608_freq_4.png.out\n",
      "batch_input+base: s3://sxm-ecommerce-p66-location-data/version2/training_freqs/img_33.611694, -114.725608_freq_4.png\n",
      "batch_input: s3://sxm-ecommerce-p66-location-data/version2/training_freqs/\n",
      "base: img_33.611694, -114.725608_freq_4.png\n",
      "img_33.611694, -114.725608_freq_4.png\n",
      "('Not road', 0.9999998807907104)\n"
     ]
    },
    {
     "data": {
      "image/png": "[encoded data removed]",
      "text/plain": [
       "<Figure size 432x288 with 1 Axes>"
      ]
     },
     "metadata": {
      "needs_background": "light"
     },
     "output_type": "display_data"
    },
    {
     "name": "stdout",
     "output_type": "stream",
     "text": [
      "output: image-classification-model-2021-07-20-16-01-54/output/other/img_34.042803, -118.219286_freq_1.png.out\n",
      "sxm-ecommerce-p66-location-data\n",
      "image-classification-model-2021-07-20-16-01-54/output/other/img_34.042803, -118.219286_freq_1.png.out\n",
      "img_34.042803, -118.219286_freq_1.png.out\n",
      "batch_input+base: s3://sxm-ecommerce-p66-location-data/version2/training_freqs/img_34.042803, -118.219286_freq_1.png\n",
      "batch_input: s3://sxm-ecommerce-p66-location-data/version2/training_freqs/\n",
      "base: img_34.042803, -118.219286_freq_1.png\n",
      "img_34.042803, -118.219286_freq_1.png\n",
      "('Not road', 0.9904491305351257)\n"
     ]
    },
    {
     "data": {
      "image/png": "[encoded data removed]",
      "text/plain": [
       "<Figure size 432x288 with 1 Axes>"
      ]
     },
     "metadata": {
      "needs_background": "light"
     },
     "output_type": "display_data"
    },
    {
     "name": "stdout",
     "output_type": "stream",
     "text": [
      "output: image-classification-model-2021-07-20-16-01-54/output/other/img_34.221697, -118.467373_freq_1.png.out\n",
      "sxm-ecommerce-p66-location-data\n",
      "image-classification-model-2021-07-20-16-01-54/output/other/img_34.221697, -118.467373_freq_1.png.out\n",
      "img_34.221697, -118.467373_freq_1.png.out\n",
      "batch_input+base: s3://sxm-ecommerce-p66-location-data/version2/training_freqs/img_34.221697, -118.467373_freq_1.png\n",
      "batch_input: s3://sxm-ecommerce-p66-location-data/version2/training_freqs/\n",
      "base: img_34.221697, -118.467373_freq_1.png\n",
      "img_34.221697, -118.467373_freq_1.png\n",
      "('Not road', 0.9999994039535522)\n"
     ]
    },
    {
     "data": {
      "image/png": "[encoded data removed]",
      "text/plain": [
       "<Figure size 432x288 with 1 Axes>"
      ]
     },
     "metadata": {
      "needs_background": "light"
     },
     "output_type": "display_data"
    },
    {
     "name": "stdout",
     "output_type": "stream",
     "text": [
      "output: image-classification-model-2021-07-20-16-01-54/output/other/img_34.493382, -118.199384_freq_4.png.out\n",
      "sxm-ecommerce-p66-location-data\n",
      "image-classification-model-2021-07-20-16-01-54/output/other/img_34.493382, -118.199384_freq_4.png.out\n",
      "img_34.493382, -118.199384_freq_4.png.out\n",
      "batch_input+base: s3://sxm-ecommerce-p66-location-data/version2/training_freqs/img_34.493382, -118.199384_freq_4.png\n",
      "batch_input: s3://sxm-ecommerce-p66-location-data/version2/training_freqs/\n",
      "base: img_34.493382, -118.199384_freq_4.png\n",
      "img_34.493382, -118.199384_freq_4.png\n",
      "('Not road', 1.0)\n"
     ]
    },
    {
     "data": {
      "image/png": "[encoded data removed]",
      "text/plain": [
       "<Figure size 432x288 with 1 Axes>"
      ]
     },
     "metadata": {
      "needs_background": "light"
     },
     "output_type": "display_data"
    },
    {
     "name": "stdout",
     "output_type": "stream",
     "text": [
      "output: image-classification-model-2021-07-20-16-01-54/output/other/img_34.865696, -111.764206_freq_1.png.out\n",
      "sxm-ecommerce-p66-location-data\n",
      "image-classification-model-2021-07-20-16-01-54/output/other/img_34.865696, -111.764206_freq_1.png.out\n",
      "img_34.865696, -111.764206_freq_1.png.out\n",
      "batch_input+base: s3://sxm-ecommerce-p66-location-data/version2/training_freqs/img_34.865696, -111.764206_freq_1.png\n",
      "batch_input: s3://sxm-ecommerce-p66-location-data/version2/training_freqs/\n",
      "base: img_34.865696, -111.764206_freq_1.png\n",
      "img_34.865696, -111.764206_freq_1.png\n",
      "('Not road', 0.9998500347137451)\n"
     ]
    },
    {
     "data": {
      "image/png": "[encoded data removed]",
      "text/plain": [
       "<Figure size 432x288 with 1 Axes>"
      ]
     },
     "metadata": {
      "needs_background": "light"
     },
     "output_type": "display_data"
    },
    {
     "name": "stdout",
     "output_type": "stream",
     "text": [
      "output: image-classification-model-2021-07-20-16-01-54/output/other/img_34.865696, -111.764206_freq_2.png.out\n",
      "sxm-ecommerce-p66-location-data\n",
      "image-classification-model-2021-07-20-16-01-54/output/other/img_34.865696, -111.764206_freq_2.png.out\n",
      "img_34.865696, -111.764206_freq_2.png.out\n",
      "batch_input+base: s3://sxm-ecommerce-p66-location-data/version2/training_freqs/img_34.865696, -111.764206_freq_2.png\n",
      "batch_input: s3://sxm-ecommerce-p66-location-data/version2/training_freqs/\n",
      "base: img_34.865696, -111.764206_freq_2.png\n",
      "img_34.865696, -111.764206_freq_2.png\n",
      "('Not road', 1.0)\n"
     ]
    },
    {
     "data": {
      "image/png": "[encoded data removed]",
      "text/plain": [
       "<Figure size 432x288 with 1 Axes>"
      ]
     },
     "metadata": {
      "needs_background": "light"
     },
     "output_type": "display_data"
    },
    {
     "name": "stdout",
     "output_type": "stream",
     "text": [
      "output: image-classification-model-2021-07-20-16-01-54/output/other/img_35.218759, -97.422209_freq_4.png.out\n",
      "sxm-ecommerce-p66-location-data\n",
      "image-classification-model-2021-07-20-16-01-54/output/other/img_35.218759, -97.422209_freq_4.png.out\n",
      "img_35.218759, -97.422209_freq_4.png.out\n",
      "batch_input+base: s3://sxm-ecommerce-p66-location-data/version2/training_freqs/img_35.218759, -97.422209_freq_4.png\n",
      "batch_input: s3://sxm-ecommerce-p66-location-data/version2/training_freqs/\n",
      "base: img_35.218759, -97.422209_freq_4.png\n",
      "img_35.218759, -97.422209_freq_4.png\n",
      "('Not road', 1.0)\n"
     ]
    },
    {
     "data": {
      "image/png": "[encoded data removed]",
      "text/plain": [
       "<Figure size 432x288 with 1 Axes>"
      ]
     },
     "metadata": {
      "needs_background": "light"
     },
     "output_type": "display_data"
    },
    {
     "name": "stdout",
     "output_type": "stream",
     "text": [
      "output: image-classification-model-2021-07-20-16-01-54/output/other/img_35.463771, -97.417655_freq_2.png.out\n",
      "sxm-ecommerce-p66-location-data\n",
      "image-classification-model-2021-07-20-16-01-54/output/other/img_35.463771, -97.417655_freq_2.png.out\n",
      "img_35.463771, -97.417655_freq_2.png.out\n",
      "batch_input+base: s3://sxm-ecommerce-p66-location-data/version2/training_freqs/img_35.463771, -97.417655_freq_2.png\n",
      "batch_input: s3://sxm-ecommerce-p66-location-data/version2/training_freqs/\n",
      "base: img_35.463771, -97.417655_freq_2.png\n",
      "img_35.463771, -97.417655_freq_2.png\n",
      "('Not road', 1.0)\n"
     ]
    },
    {
     "data": {
      "image/png": "[encoded data removed]",
      "text/plain": [
       "<Figure size 432x288 with 1 Axes>"
      ]
     },
     "metadata": {
      "needs_background": "light"
     },
     "output_type": "display_data"
    },
    {
     "name": "stdout",
     "output_type": "stream",
     "text": [
      "output: image-classification-model-2021-07-20-16-01-54/output/other/img_35.464036, -97.530790_freq_1.png.out\n",
      "sxm-ecommerce-p66-location-data\n",
      "image-classification-model-2021-07-20-16-01-54/output/other/img_35.464036, -97.530790_freq_1.png.out\n",
      "img_35.464036, -97.530790_freq_1.png.out\n",
      "batch_input+base: s3://sxm-ecommerce-p66-location-data/version2/training_freqs/img_35.464036, -97.530790_freq_1.png\n",
      "batch_input: s3://sxm-ecommerce-p66-location-data/version2/training_freqs/\n",
      "base: img_35.464036, -97.530790_freq_1.png\n",
      "img_35.464036, -97.530790_freq_1.png\n",
      "('Not road', 0.9999994039535522)\n"
     ]
    },
    {
     "data": {
      "image/png": "[encoded data removed]",
      "text/plain": [
       "<Figure size 432x288 with 1 Axes>"
      ]
     },
     "metadata": {
      "needs_background": "light"
     },
     "output_type": "display_data"
    },
    {
     "name": "stdout",
     "output_type": "stream",
     "text": [
      "output: image-classification-model-2021-07-20-16-01-54/output/other/img_35.464036, -97.530790_freq_4.png.out\n",
      "sxm-ecommerce-p66-location-data\n",
      "image-classification-model-2021-07-20-16-01-54/output/other/img_35.464036, -97.530790_freq_4.png.out\n",
      "img_35.464036, -97.530790_freq_4.png.out\n",
      "batch_input+base: s3://sxm-ecommerce-p66-location-data/version2/training_freqs/img_35.464036, -97.530790_freq_4.png\n",
      "batch_input: s3://sxm-ecommerce-p66-location-data/version2/training_freqs/\n",
      "base: img_35.464036, -97.530790_freq_4.png\n",
      "img_35.464036, -97.530790_freq_4.png\n",
      "('Not road', 1.0)\n"
     ]
    },
    {
     "data": {
      "image/png": "[encoded data removed]",
      "text/plain": [
       "<Figure size 432x288 with 1 Axes>"
      ]
     },
     "metadata": {
      "needs_background": "light"
     },
     "output_type": "display_data"
    },
    {
     "name": "stdout",
     "output_type": "stream",
     "text": [
      "output: image-classification-model-2021-07-20-16-01-54/output/other/img_35.467226, -93.831410_freq_1.png.out\n",
      "sxm-ecommerce-p66-location-data\n",
      "image-classification-model-2021-07-20-16-01-54/output/other/img_35.467226, -93.831410_freq_1.png.out\n",
      "img_35.467226, -93.831410_freq_1.png.out\n",
      "batch_input+base: s3://sxm-ecommerce-p66-location-data/version2/training_freqs/img_35.467226, -93.831410_freq_1.png\n",
      "batch_input: s3://sxm-ecommerce-p66-location-data/version2/training_freqs/\n",
      "base: img_35.467226, -93.831410_freq_1.png\n",
      "img_35.467226, -93.831410_freq_1.png\n",
      "('Not road', 0.9999990463256836)\n"
     ]
    },
    {
     "data": {
      "image/png": "[encoded data removed]",
      "text/plain": [
       "<Figure size 432x288 with 1 Axes>"
      ]
     },
     "metadata": {
      "needs_background": "light"
     },
     "output_type": "display_data"
    },
    {
     "name": "stdout",
     "output_type": "stream",
     "text": [
      "output: image-classification-model-2021-07-20-16-01-54/output/other/img_36.461764, -94.302287_freq_2.png.out\n",
      "sxm-ecommerce-p66-location-data\n",
      "image-classification-model-2021-07-20-16-01-54/output/other/img_36.461764, -94.302287_freq_2.png.out\n",
      "img_36.461764, -94.302287_freq_2.png.out\n",
      "batch_input+base: s3://sxm-ecommerce-p66-location-data/version2/training_freqs/img_36.461764, -94.302287_freq_2.png\n",
      "batch_input: s3://sxm-ecommerce-p66-location-data/version2/training_freqs/\n",
      "base: img_36.461764, -94.302287_freq_2.png\n",
      "img_36.461764, -94.302287_freq_2.png\n",
      "('Not road', 0.999997615814209)\n"
     ]
    },
    {
     "data": {
      "image/png": "[encoded data removed]",
      "text/plain": [
       "<Figure size 432x288 with 1 Axes>"
      ]
     },
     "metadata": {
      "needs_background": "light"
     },
     "output_type": "display_data"
    },
    {
     "name": "stdout",
     "output_type": "stream",
     "text": [
      "output: image-classification-model-2021-07-20-16-01-54/output/other/img_36.642210, -93.204353_freq_4.png.out\n",
      "sxm-ecommerce-p66-location-data\n",
      "image-classification-model-2021-07-20-16-01-54/output/other/img_36.642210, -93.204353_freq_4.png.out\n",
      "img_36.642210, -93.204353_freq_4.png.out\n",
      "batch_input+base: s3://sxm-ecommerce-p66-location-data/version2/training_freqs/img_36.642210, -93.204353_freq_4.png\n",
      "batch_input: s3://sxm-ecommerce-p66-location-data/version2/training_freqs/\n",
      "base: img_36.642210, -93.204353_freq_4.png\n",
      "img_36.642210, -93.204353_freq_4.png\n",
      "('Not road', 0.9999997615814209)\n"
     ]
    },
    {
     "data": {
      "image/png": "[encoded data removed]",
      "text/plain": [
       "<Figure size 432x288 with 1 Axes>"
      ]
     },
     "metadata": {
      "needs_background": "light"
     },
     "output_type": "display_data"
    },
    {
     "name": "stdout",
     "output_type": "stream",
     "text": [
      "output: image-classification-model-2021-07-20-16-01-54/output/other/img_36.808486, -119.874246_freq_2.png.out\n",
      "sxm-ecommerce-p66-location-data\n",
      "image-classification-model-2021-07-20-16-01-54/output/other/img_36.808486, -119.874246_freq_2.png.out\n",
      "img_36.808486, -119.874246_freq_2.png.out\n",
      "batch_input+base: s3://sxm-ecommerce-p66-location-data/version2/training_freqs/img_36.808486, -119.874246_freq_2.png\n",
      "batch_input: s3://sxm-ecommerce-p66-location-data/version2/training_freqs/\n",
      "base: img_36.808486, -119.874246_freq_2.png\n",
      "img_36.808486, -119.874246_freq_2.png\n",
      "('Not road', 0.9999980926513672)\n"
     ]
    },
    {
     "data": {
      "image/png": "[encoded data removed]",
      "text/plain": [
       "<Figure size 432x288 with 1 Axes>"
      ]
     },
     "metadata": {
      "needs_background": "light"
     },
     "output_type": "display_data"
    },
    {
     "name": "stdout",
     "output_type": "stream",
     "text": [
      "output: image-classification-model-2021-07-20-16-01-54/output/other/img_37.315876, -122.031860_freq_4.png.out\n",
      "sxm-ecommerce-p66-location-data\n",
      "image-classification-model-2021-07-20-16-01-54/output/other/img_37.315876, -122.031860_freq_4.png.out\n",
      "img_37.315876, -122.031860_freq_4.png.out\n",
      "batch_input+base: s3://sxm-ecommerce-p66-location-data/version2/training_freqs/img_37.315876, -122.031860_freq_4.png\n",
      "batch_input: s3://sxm-ecommerce-p66-location-data/version2/training_freqs/\n",
      "base: img_37.315876, -122.031860_freq_4.png\n",
      "img_37.315876, -122.031860_freq_4.png\n",
      "('Not road', 0.9976473450660706)\n"
     ]
    },
    {
     "data": {
      "image/png": "[encoded data removed]",
      "text/plain": [
       "<Figure size 432x288 with 1 Axes>"
      ]
     },
     "metadata": {
      "needs_background": "light"
     },
     "output_type": "display_data"
    },
    {
     "name": "stdout",
     "output_type": "stream",
     "text": [
      "output: image-classification-model-2021-07-20-16-01-54/output/other/img_37.568253, -122.026146_freq_1.png.out\n",
      "sxm-ecommerce-p66-location-data\n",
      "image-classification-model-2021-07-20-16-01-54/output/other/img_37.568253, -122.026146_freq_1.png.out\n",
      "img_37.568253, -122.026146_freq_1.png.out\n",
      "batch_input+base: s3://sxm-ecommerce-p66-location-data/version2/training_freqs/img_37.568253, -122.026146_freq_1.png\n",
      "batch_input: s3://sxm-ecommerce-p66-location-data/version2/training_freqs/\n",
      "base: img_37.568253, -122.026146_freq_1.png\n",
      "img_37.568253, -122.026146_freq_1.png\n",
      "('Not road', 0.999993085861206)\n"
     ]
    },
    {
     "data": {
      "image/png": "[encoded data removed]",
      "text/plain": [
       "<Figure size 432x288 with 1 Axes>"
      ]
     },
     "metadata": {
      "needs_background": "light"
     },
     "output_type": "display_data"
    },
    {
     "name": "stdout",
     "output_type": "stream",
     "text": [
      "output: image-classification-model-2021-07-20-16-01-54/output/other/img_37.570248, -90.286181_freq_4.png.out\n",
      "sxm-ecommerce-p66-location-data\n",
      "image-classification-model-2021-07-20-16-01-54/output/other/img_37.570248, -90.286181_freq_4.png.out\n",
      "img_37.570248, -90.286181_freq_4.png.out\n",
      "batch_input+base: s3://sxm-ecommerce-p66-location-data/version2/training_freqs/img_37.570248, -90.286181_freq_4.png\n",
      "batch_input: s3://sxm-ecommerce-p66-location-data/version2/training_freqs/\n",
      "base: img_37.570248, -90.286181_freq_4.png\n",
      "img_37.570248, -90.286181_freq_4.png\n",
      "('Not road', 1.0)\n"
     ]
    },
    {
     "data": {
      "image/png": "[encoded data removed]",
      "text/plain": [
       "<Figure size 432x288 with 1 Axes>"
      ]
     },
     "metadata": {
      "needs_background": "light"
     },
     "output_type": "display_data"
    },
    {
     "name": "stdout",
     "output_type": "stream",
     "text": [
      "output: image-classification-model-2021-07-20-16-01-54/output/other/img_37.754088, -100.044436_freq_2.png.out\n",
      "sxm-ecommerce-p66-location-data\n",
      "image-classification-model-2021-07-20-16-01-54/output/other/img_37.754088, -100.044436_freq_2.png.out\n",
      "img_37.754088, -100.044436_freq_2.png.out\n",
      "batch_input+base: s3://sxm-ecommerce-p66-location-data/version2/training_freqs/img_37.754088, -100.044436_freq_2.png\n",
      "batch_input: s3://sxm-ecommerce-p66-location-data/version2/training_freqs/\n",
      "base: img_37.754088, -100.044436_freq_2.png\n",
      "img_37.754088, -100.044436_freq_2.png\n",
      "('Not road', 1.0)\n"
     ]
    },
    {
     "data": {
      "image/png": "[encoded data removed]",
      "text/plain": [
       "<Figure size 432x288 with 1 Axes>"
      ]
     },
     "metadata": {
      "needs_background": "light"
     },
     "output_type": "display_data"
    },
    {
     "name": "stdout",
     "output_type": "stream",
     "text": [
      "output: image-classification-model-2021-07-20-16-01-54/output/other/img_37.761433, -122.477325_freq_3.png.out\n",
      "sxm-ecommerce-p66-location-data\n",
      "image-classification-model-2021-07-20-16-01-54/output/other/img_37.761433, -122.477325_freq_3.png.out\n",
      "img_37.761433, -122.477325_freq_3.png.out\n",
      "batch_input+base: s3://sxm-ecommerce-p66-location-data/version2/training_freqs/img_37.761433, -122.477325_freq_3.png\n",
      "batch_input: s3://sxm-ecommerce-p66-location-data/version2/training_freqs/\n",
      "base: img_37.761433, -122.477325_freq_3.png\n",
      "img_37.761433, -122.477325_freq_3.png\n",
      "('Not road', 1.0)\n"
     ]
    },
    {
     "data": {
      "image/png": "[encoded data removed]",
      "text/plain": [
       "<Figure size 432x288 with 1 Axes>"
      ]
     },
     "metadata": {
      "needs_background": "light"
     },
     "output_type": "display_data"
    },
    {
     "name": "stdout",
     "output_type": "stream",
     "text": [
      "output: image-classification-model-2021-07-20-16-01-54/output/other/img_38.306587, -90.531544_freq_1.png.out\n",
      "sxm-ecommerce-p66-location-data\n",
      "image-classification-model-2021-07-20-16-01-54/output/other/img_38.306587, -90.531544_freq_1.png.out\n",
      "img_38.306587, -90.531544_freq_1.png.out\n",
      "batch_input+base: s3://sxm-ecommerce-p66-location-data/version2/training_freqs/img_38.306587, -90.531544_freq_1.png\n",
      "batch_input: s3://sxm-ecommerce-p66-location-data/version2/training_freqs/\n",
      "base: img_38.306587, -90.531544_freq_1.png\n",
      "img_38.306587, -90.531544_freq_1.png\n",
      "('Not road', 0.9999862909317017)\n"
     ]
    },
    {
     "data": {
      "image/png": "[encoded data removed]",
      "text/plain": [
       "<Figure size 432x288 with 1 Axes>"
      ]
     },
     "metadata": {
      "needs_background": "light"
     },
     "output_type": "display_data"
    },
    {
     "name": "stdout",
     "output_type": "stream",
     "text": [
      "output: image-classification-model-2021-07-20-16-01-54/output/other/img_38.306587, -90.531544_freq_2.png.out\n",
      "sxm-ecommerce-p66-location-data\n",
      "image-classification-model-2021-07-20-16-01-54/output/other/img_38.306587, -90.531544_freq_2.png.out\n",
      "img_38.306587, -90.531544_freq_2.png.out\n",
      "batch_input+base: s3://sxm-ecommerce-p66-location-data/version2/training_freqs/img_38.306587, -90.531544_freq_2.png\n",
      "batch_input: s3://sxm-ecommerce-p66-location-data/version2/training_freqs/\n",
      "base: img_38.306587, -90.531544_freq_2.png\n",
      "img_38.306587, -90.531544_freq_2.png\n",
      "('Not road', 1.0)\n"
     ]
    },
    {
     "data": {
      "image/png": "[encoded data removed]",
      "text/plain": [
       "<Figure size 432x288 with 1 Axes>"
      ]
     },
     "metadata": {
      "needs_background": "light"
     },
     "output_type": "display_data"
    },
    {
     "name": "stdout",
     "output_type": "stream",
     "text": [
      "output: image-classification-model-2021-07-20-16-01-54/output/other/img_38.502609, -90.298036_freq_4.png.out\n",
      "sxm-ecommerce-p66-location-data\n",
      "image-classification-model-2021-07-20-16-01-54/output/other/img_38.502609, -90.298036_freq_4.png.out\n",
      "img_38.502609, -90.298036_freq_4.png.out\n",
      "batch_input+base: s3://sxm-ecommerce-p66-location-data/version2/training_freqs/img_38.502609, -90.298036_freq_4.png\n",
      "batch_input: s3://sxm-ecommerce-p66-location-data/version2/training_freqs/\n",
      "base: img_38.502609, -90.298036_freq_4.png\n",
      "img_38.502609, -90.298036_freq_4.png\n",
      "('Not road', 1.0)\n"
     ]
    },
    {
     "data": {
      "image/png": "[encoded data removed]",
      "text/plain": [
       "<Figure size 432x288 with 1 Axes>"
      ]
     },
     "metadata": {
      "needs_background": "light"
     },
     "output_type": "display_data"
    },
    {
     "name": "stdout",
     "output_type": "stream",
     "text": [
      "output: image-classification-model-2021-07-20-16-01-54/output/other/img_38.542992, -90.192497_freq_2.png.out\n",
      "sxm-ecommerce-p66-location-data\n",
      "image-classification-model-2021-07-20-16-01-54/output/other/img_38.542992, -90.192497_freq_2.png.out\n",
      "img_38.542992, -90.192497_freq_2.png.out\n",
      "batch_input+base: s3://sxm-ecommerce-p66-location-data/version2/training_freqs/img_38.542992, -90.192497_freq_2.png\n",
      "batch_input: s3://sxm-ecommerce-p66-location-data/version2/training_freqs/\n",
      "base: img_38.542992, -90.192497_freq_2.png\n",
      "img_38.542992, -90.192497_freq_2.png\n",
      "('Not road', 0.9904491305351257)\n"
     ]
    },
    {
     "data": {
      "image/png": "[encoded data removed]",
      "text/plain": [
       "<Figure size 432x288 with 1 Axes>"
      ]
     },
     "metadata": {
      "needs_background": "light"
     },
     "output_type": "display_data"
    },
    {
     "name": "stdout",
     "output_type": "stream",
     "text": [
      "output: image-classification-model-2021-07-20-16-01-54/output/other/img_38.542992, -90.192497_freq_3.png.out\n",
      "sxm-ecommerce-p66-location-data\n",
      "image-classification-model-2021-07-20-16-01-54/output/other/img_38.542992, -90.192497_freq_3.png.out\n",
      "img_38.542992, -90.192497_freq_3.png.out\n",
      "batch_input+base: s3://sxm-ecommerce-p66-location-data/version2/training_freqs/img_38.542992, -90.192497_freq_3.png\n",
      "batch_input: s3://sxm-ecommerce-p66-location-data/version2/training_freqs/\n",
      "base: img_38.542992, -90.192497_freq_3.png\n",
      "img_38.542992, -90.192497_freq_3.png\n",
      "('Not road', 0.9904491305351257)\n"
     ]
    },
    {
     "data": {
      "image/png": "[encoded data removed]",
      "text/plain": [
       "<Figure size 432x288 with 1 Axes>"
      ]
     },
     "metadata": {
      "needs_background": "light"
     },
     "output_type": "display_data"
    },
    {
     "name": "stdout",
     "output_type": "stream",
     "text": [
      "output: image-classification-model-2021-07-20-16-01-54/output/other/img_38.567398, -90.495452_freq_4.png.out\n",
      "sxm-ecommerce-p66-location-data\n",
      "image-classification-model-2021-07-20-16-01-54/output/other/img_38.567398, -90.495452_freq_4.png.out\n",
      "img_38.567398, -90.495452_freq_4.png.out\n",
      "batch_input+base: s3://sxm-ecommerce-p66-location-data/version2/training_freqs/img_38.567398, -90.495452_freq_4.png\n",
      "batch_input: s3://sxm-ecommerce-p66-location-data/version2/training_freqs/\n",
      "base: img_38.567398, -90.495452_freq_4.png\n",
      "img_38.567398, -90.495452_freq_4.png\n",
      "('Not road', 1.0)\n"
     ]
    },
    {
     "data": {
      "image/png": "[encoded data removed]",
      "text/plain": [
       "<Figure size 432x288 with 1 Axes>"
      ]
     },
     "metadata": {
      "needs_background": "light"
     },
     "output_type": "display_data"
    },
    {
     "name": "stdout",
     "output_type": "stream",
     "text": [
      "output: image-classification-model-2021-07-20-16-01-54/output/other/img_38.664221, -121.272608_freq_2.png.out\n",
      "sxm-ecommerce-p66-location-data\n",
      "image-classification-model-2021-07-20-16-01-54/output/other/img_38.664221, -121.272608_freq_2.png.out\n",
      "img_38.664221, -121.272608_freq_2.png.out\n",
      "batch_input+base: s3://sxm-ecommerce-p66-location-data/version2/training_freqs/img_38.664221, -121.272608_freq_2.png\n",
      "batch_input: s3://sxm-ecommerce-p66-location-data/version2/training_freqs/\n",
      "base: img_38.664221, -121.272608_freq_2.png\n",
      "img_38.664221, -121.272608_freq_2.png\n",
      "('Not road', 1.0)\n"
     ]
    },
    {
     "data": {
      "image/png": "[encoded data removed]",
      "text/plain": [
       "<Figure size 432x288 with 1 Axes>"
      ]
     },
     "metadata": {
      "needs_background": "light"
     },
     "output_type": "display_data"
    },
    {
     "name": "stdout",
     "output_type": "stream",
     "text": [
      "output: image-classification-model-2021-07-20-16-01-54/output/other/img_38.974446, -94.551028_freq_4.png.out\n",
      "sxm-ecommerce-p66-location-data\n",
      "image-classification-model-2021-07-20-16-01-54/output/other/img_38.974446, -94.551028_freq_4.png.out\n",
      "img_38.974446, -94.551028_freq_4.png.out\n",
      "batch_input+base: s3://sxm-ecommerce-p66-location-data/version2/training_freqs/img_38.974446, -94.551028_freq_4.png\n",
      "batch_input: s3://sxm-ecommerce-p66-location-data/version2/training_freqs/\n",
      "base: img_38.974446, -94.551028_freq_4.png\n",
      "img_38.974446, -94.551028_freq_4.png\n",
      "('Not road', 1.0)\n"
     ]
    },
    {
     "data": {
      "image/png": "[encoded data removed]",
      "text/plain": [
       "<Figure size 432x288 with 1 Axes>"
      ]
     },
     "metadata": {
      "needs_background": "light"
     },
     "output_type": "display_data"
    },
    {
     "name": "stdout",
     "output_type": "stream",
     "text": [
      "output: image-classification-model-2021-07-20-16-01-54/output/other/img_39.014388, -94.736880_freq_4.png.out\n",
      "sxm-ecommerce-p66-location-data\n",
      "image-classification-model-2021-07-20-16-01-54/output/other/img_39.014388, -94.736880_freq_4.png.out\n",
      "img_39.014388, -94.736880_freq_4.png.out\n",
      "batch_input+base: s3://sxm-ecommerce-p66-location-data/version2/training_freqs/img_39.014388, -94.736880_freq_4.png\n",
      "batch_input: s3://sxm-ecommerce-p66-location-data/version2/training_freqs/\n",
      "base: img_39.014388, -94.736880_freq_4.png\n",
      "img_39.014388, -94.736880_freq_4.png\n",
      "('Not road', 0.775770366191864)\n"
     ]
    },
    {
     "data": {
      "image/png": "[encoded data removed]",
      "text/plain": [
       "<Figure size 432x288 with 1 Axes>"
      ]
     },
     "metadata": {
      "needs_background": "light"
     },
     "output_type": "display_data"
    },
    {
     "name": "stdout",
     "output_type": "stream",
     "text": [
      "output: image-classification-model-2021-07-20-16-01-54/output/other/img_39.392193, -119.790039_freq_1.png.out\n",
      "sxm-ecommerce-p66-location-data\n",
      "image-classification-model-2021-07-20-16-01-54/output/other/img_39.392193, -119.790039_freq_1.png.out\n",
      "img_39.392193, -119.790039_freq_1.png.out\n",
      "batch_input+base: s3://sxm-ecommerce-p66-location-data/version2/training_freqs/img_39.392193, -119.790039_freq_1.png\n",
      "batch_input: s3://sxm-ecommerce-p66-location-data/version2/training_freqs/\n",
      "base: img_39.392193, -119.790039_freq_1.png\n",
      "img_39.392193, -119.790039_freq_1.png\n",
      "('Not road', 0.9904491305351257)\n"
     ]
    },
    {
     "data": {
      "image/png": "[encoded data removed]",
      "text/plain": [
       "<Figure size 432x288 with 1 Axes>"
      ]
     },
     "metadata": {
      "needs_background": "light"
     },
     "output_type": "display_data"
    },
    {
     "name": "stdout",
     "output_type": "stream",
     "text": [
      "output: image-classification-model-2021-07-20-16-01-54/output/other/img_39.620273, -104.888916_freq_1.png.out\n",
      "sxm-ecommerce-p66-location-data\n",
      "image-classification-model-2021-07-20-16-01-54/output/other/img_39.620273, -104.888916_freq_1.png.out\n",
      "img_39.620273, -104.888916_freq_1.png.out\n",
      "batch_input+base: s3://sxm-ecommerce-p66-location-data/version2/training_freqs/img_39.620273, -104.888916_freq_1.png\n",
      "batch_input: s3://sxm-ecommerce-p66-location-data/version2/training_freqs/\n",
      "base: img_39.620273, -104.888916_freq_1.png\n",
      "img_39.620273, -104.888916_freq_1.png\n",
      "('Not road', 0.998847246170044)\n"
     ]
    },
    {
     "data": {
      "image/png": "[encoded data removed]",
      "text/plain": [
       "<Figure size 432x288 with 1 Axes>"
      ]
     },
     "metadata": {
      "needs_background": "light"
     },
     "output_type": "display_data"
    },
    {
     "name": "stdout",
     "output_type": "stream",
     "text": [
      "output: image-classification-model-2021-07-20-16-01-54/output/other/img_39.620273, -104.888916_freq_4.png.out\n",
      "sxm-ecommerce-p66-location-data\n",
      "image-classification-model-2021-07-20-16-01-54/output/other/img_39.620273, -104.888916_freq_4.png.out\n",
      "img_39.620273, -104.888916_freq_4.png.out\n",
      "batch_input+base: s3://sxm-ecommerce-p66-location-data/version2/training_freqs/img_39.620273, -104.888916_freq_4.png\n",
      "batch_input: s3://sxm-ecommerce-p66-location-data/version2/training_freqs/\n",
      "base: img_39.620273, -104.888916_freq_4.png\n",
      "img_39.620273, -104.888916_freq_4.png\n",
      "('Not road', 0.9960611462593079)\n"
     ]
    },
    {
     "data": {
      "image/png": "[encoded data removed]",
      "text/plain": [
       "<Figure size 432x288 with 1 Axes>"
      ]
     },
     "metadata": {
      "needs_background": "light"
     },
     "output_type": "display_data"
    },
    {
     "name": "stdout",
     "output_type": "stream",
     "text": [
      "output: image-classification-model-2021-07-20-16-01-54/output/other/img_39.781769, -86.083413_freq_4.png.out\n",
      "sxm-ecommerce-p66-location-data\n",
      "image-classification-model-2021-07-20-16-01-54/output/other/img_39.781769, -86.083413_freq_4.png.out\n",
      "img_39.781769, -86.083413_freq_4.png.out\n",
      "batch_input+base: s3://sxm-ecommerce-p66-location-data/version2/training_freqs/img_39.781769, -86.083413_freq_4.png\n",
      "batch_input: s3://sxm-ecommerce-p66-location-data/version2/training_freqs/\n",
      "base: img_39.781769, -86.083413_freq_4.png\n",
      "img_39.781769, -86.083413_freq_4.png\n",
      "('Not road', 1.0)\n"
     ]
    },
    {
     "data": {
      "image/png": "[encoded data removed]",
      "text/plain": [
       "<Figure size 432x288 with 1 Axes>"
      ]
     },
     "metadata": {
      "needs_background": "light"
     },
     "output_type": "display_data"
    },
    {
     "name": "stdout",
     "output_type": "stream",
     "text": [
      "output: image-classification-model-2021-07-20-16-01-54/output/other/img_39.875982, -75.121634_freq_4.png.out\n",
      "sxm-ecommerce-p66-location-data\n",
      "image-classification-model-2021-07-20-16-01-54/output/other/img_39.875982, -75.121634_freq_4.png.out\n",
      "img_39.875982, -75.121634_freq_4.png.out\n",
      "batch_input+base: s3://sxm-ecommerce-p66-location-data/version2/training_freqs/img_39.875982, -75.121634_freq_4.png\n",
      "batch_input: s3://sxm-ecommerce-p66-location-data/version2/training_freqs/\n",
      "base: img_39.875982, -75.121634_freq_4.png\n",
      "img_39.875982, -75.121634_freq_4.png\n",
      "('Not road', 0.9999992847442627)\n"
     ]
    },
    {
     "data": {
      "image/png": "[encoded data removed]",
      "text/plain": [
       "<Figure size 432x288 with 1 Axes>"
      ]
     },
     "metadata": {
      "needs_background": "light"
     },
     "output_type": "display_data"
    },
    {
     "name": "stdout",
     "output_type": "stream",
     "text": [
      "output: image-classification-model-2021-07-20-16-01-54/output/other/img_40.588079, -111.958350_freq_2.png.out\n",
      "sxm-ecommerce-p66-location-data\n",
      "image-classification-model-2021-07-20-16-01-54/output/other/img_40.588079, -111.958350_freq_2.png.out\n",
      "img_40.588079, -111.958350_freq_2.png.out\n",
      "batch_input+base: s3://sxm-ecommerce-p66-location-data/version2/training_freqs/img_40.588079, -111.958350_freq_2.png\n",
      "batch_input: s3://sxm-ecommerce-p66-location-data/version2/training_freqs/\n",
      "base: img_40.588079, -111.958350_freq_2.png\n",
      "img_40.588079, -111.958350_freq_2.png\n",
      "('Not road', 0.99776291847229)\n"
     ]
    },
    {
     "data": {
      "image/png": "[encoded data removed]",
      "text/plain": [
       "<Figure size 432x288 with 1 Axes>"
      ]
     },
     "metadata": {
      "needs_background": "light"
     },
     "output_type": "display_data"
    },
    {
     "name": "stdout",
     "output_type": "stream",
     "text": [
      "output: image-classification-model-2021-07-20-16-01-54/output/other/img_40.788970, -91.115783_freq_1.png.out\n",
      "sxm-ecommerce-p66-location-data\n",
      "image-classification-model-2021-07-20-16-01-54/output/other/img_40.788970, -91.115783_freq_1.png.out\n",
      "img_40.788970, -91.115783_freq_1.png.out\n",
      "batch_input+base: s3://sxm-ecommerce-p66-location-data/version2/training_freqs/img_40.788970, -91.115783_freq_1.png\n",
      "batch_input: s3://sxm-ecommerce-p66-location-data/version2/training_freqs/\n",
      "base: img_40.788970, -91.115783_freq_1.png\n",
      "img_40.788970, -91.115783_freq_1.png\n",
      "('Not road', 0.9999997615814209)\n"
     ]
    },
    {
     "data": {
      "image/png": "[encoded data removed]",
      "text/plain": [
       "<Figure size 432x288 with 1 Axes>"
      ]
     },
     "metadata": {
      "needs_background": "light"
     },
     "output_type": "display_data"
    },
    {
     "name": "stdout",
     "output_type": "stream",
     "text": [
      "output: image-classification-model-2021-07-20-16-01-54/output/other/img_40.788970, -91.115783_freq_2.png.out\n",
      "sxm-ecommerce-p66-location-data\n",
      "image-classification-model-2021-07-20-16-01-54/output/other/img_40.788970, -91.115783_freq_2.png.out\n",
      "img_40.788970, -91.115783_freq_2.png.out\n",
      "batch_input+base: s3://sxm-ecommerce-p66-location-data/version2/training_freqs/img_40.788970, -91.115783_freq_2.png\n",
      "batch_input: s3://sxm-ecommerce-p66-location-data/version2/training_freqs/\n",
      "base: img_40.788970, -91.115783_freq_2.png\n",
      "img_40.788970, -91.115783_freq_2.png\n",
      "('Not road', 1.0)\n"
     ]
    },
    {
     "data": {
      "image/png": "[encoded data removed]",
      "text/plain": [
       "<Figure size 432x288 with 1 Axes>"
      ]
     },
     "metadata": {
      "needs_background": "light"
     },
     "output_type": "display_data"
    },
    {
     "name": "stdout",
     "output_type": "stream",
     "text": [
      "output: image-classification-model-2021-07-20-16-01-54/output/other/img_40.804153, -96.682148_freq_4.png.out\n",
      "sxm-ecommerce-p66-location-data\n",
      "image-classification-model-2021-07-20-16-01-54/output/other/img_40.804153, -96.682148_freq_4.png.out\n",
      "img_40.804153, -96.682148_freq_4.png.out\n",
      "batch_input+base: s3://sxm-ecommerce-p66-location-data/version2/training_freqs/img_40.804153, -96.682148_freq_4.png\n",
      "batch_input: s3://sxm-ecommerce-p66-location-data/version2/training_freqs/\n",
      "base: img_40.804153, -96.682148_freq_4.png\n",
      "img_40.804153, -96.682148_freq_4.png\n",
      "('Not road', 1.0)\n"
     ]
    },
    {
     "data": {
      "image/png": "[encoded data removed]",
      "text/plain": [
       "<Figure size 432x288 with 1 Axes>"
      ]
     },
     "metadata": {
      "needs_background": "light"
     },
     "output_type": "display_data"
    },
    {
     "name": "stdout",
     "output_type": "stream",
     "text": [
      "output: image-classification-model-2021-07-20-16-01-54/output/other/img_40.826027, -91.208710_freq_2.png.out\n",
      "sxm-ecommerce-p66-location-data\n",
      "image-classification-model-2021-07-20-16-01-54/output/other/img_40.826027, -91.208710_freq_2.png.out\n",
      "img_40.826027, -91.208710_freq_2.png.out\n",
      "batch_input+base: s3://sxm-ecommerce-p66-location-data/version2/training_freqs/img_40.826027, -91.208710_freq_2.png\n",
      "batch_input: s3://sxm-ecommerce-p66-location-data/version2/training_freqs/\n",
      "base: img_40.826027, -91.208710_freq_2.png\n",
      "img_40.826027, -91.208710_freq_2.png\n",
      "('Not road', 0.9996985197067261)\n"
     ]
    },
    {
     "data": {
      "image/png": "[encoded data removed]",
      "text/plain": [
       "<Figure size 432x288 with 1 Axes>"
      ]
     },
     "metadata": {
      "needs_background": "light"
     },
     "output_type": "display_data"
    },
    {
     "name": "stdout",
     "output_type": "stream",
     "text": [
      "output: image-classification-model-2021-07-20-16-01-54/output/other/img_40.826027, -91.208710_freq_4.png.out\n",
      "sxm-ecommerce-p66-location-data\n",
      "image-classification-model-2021-07-20-16-01-54/output/other/img_40.826027, -91.208710_freq_4.png.out\n",
      "img_40.826027, -91.208710_freq_4.png.out\n",
      "batch_input+base: s3://sxm-ecommerce-p66-location-data/version2/training_freqs/img_40.826027, -91.208710_freq_4.png\n",
      "batch_input: s3://sxm-ecommerce-p66-location-data/version2/training_freqs/\n",
      "base: img_40.826027, -91.208710_freq_4.png\n",
      "img_40.826027, -91.208710_freq_4.png\n",
      "('Not road', 1.0)\n"
     ]
    },
    {
     "data": {
      "image/png": "[encoded data removed]",
      "text/plain": [
       "<Figure size 432x288 with 1 Axes>"
      ]
     },
     "metadata": {
      "needs_background": "light"
     },
     "output_type": "display_data"
    },
    {
     "name": "stdout",
     "output_type": "stream",
     "text": [
      "output: image-classification-model-2021-07-20-16-01-54/output/other/img_41.260788, -96.177233_freq_1.png.out\n",
      "sxm-ecommerce-p66-location-data\n",
      "image-classification-model-2021-07-20-16-01-54/output/other/img_41.260788, -96.177233_freq_1.png.out\n",
      "img_41.260788, -96.177233_freq_1.png.out\n",
      "batch_input+base: s3://sxm-ecommerce-p66-location-data/version2/training_freqs/img_41.260788, -96.177233_freq_1.png\n",
      "batch_input: s3://sxm-ecommerce-p66-location-data/version2/training_freqs/\n",
      "base: img_41.260788, -96.177233_freq_1.png\n",
      "img_41.260788, -96.177233_freq_1.png\n",
      "('Not road', 0.9999791383743286)\n"
     ]
    },
    {
     "data": {
      "image/png": "[encoded data removed]",
      "text/plain": [
       "<Figure size 432x288 with 1 Axes>"
      ]
     },
     "metadata": {
      "needs_background": "light"
     },
     "output_type": "display_data"
    },
    {
     "name": "stdout",
     "output_type": "stream",
     "text": [
      "output: image-classification-model-2021-07-20-16-01-54/output/other/img_42.325612, -88.983268_freq_4.png.out\n",
      "sxm-ecommerce-p66-location-data\n",
      "image-classification-model-2021-07-20-16-01-54/output/other/img_42.325612, -88.983268_freq_4.png.out\n",
      "img_42.325612, -88.983268_freq_4.png.out\n",
      "batch_input+base: s3://sxm-ecommerce-p66-location-data/version2/training_freqs/img_42.325612, -88.983268_freq_4.png\n",
      "batch_input: s3://sxm-ecommerce-p66-location-data/version2/training_freqs/\n",
      "base: img_42.325612, -88.983268_freq_4.png\n",
      "img_42.325612, -88.983268_freq_4.png\n",
      "('Not road', 1.0)\n"
     ]
    },
    {
     "data": {
      "image/png": "[encoded data removed]",
      "text/plain": [
       "<Figure size 432x288 with 1 Axes>"
      ]
     },
     "metadata": {
      "needs_background": "light"
     },
     "output_type": "display_data"
    },
    {
     "name": "stdout",
     "output_type": "stream",
     "text": [
      "output: image-classification-model-2021-07-20-16-01-54/output/other/img_42.436798, -96.413577_freq_2.png.out\n",
      "sxm-ecommerce-p66-location-data\n",
      "image-classification-model-2021-07-20-16-01-54/output/other/img_42.436798, -96.413577_freq_2.png.out\n",
      "img_42.436798, -96.413577_freq_2.png.out\n",
      "batch_input+base: s3://sxm-ecommerce-p66-location-data/version2/training_freqs/img_42.436798, -96.413577_freq_2.png\n",
      "batch_input: s3://sxm-ecommerce-p66-location-data/version2/training_freqs/\n",
      "base: img_42.436798, -96.413577_freq_2.png\n",
      "img_42.436798, -96.413577_freq_2.png\n",
      "('Not road', 0.9999997615814209)\n"
     ]
    },
    {
     "data": {
      "image/png": "[encoded data removed]",
      "text/plain": [
       "<Figure size 432x288 with 1 Axes>"
      ]
     },
     "metadata": {
      "needs_background": "light"
     },
     "output_type": "display_data"
    },
    {
     "name": "stdout",
     "output_type": "stream",
     "text": [
      "output: image-classification-model-2021-07-20-16-01-54/output/other/img_44.067844, -103.195831_freq_1.png.out\n",
      "sxm-ecommerce-p66-location-data\n",
      "image-classification-model-2021-07-20-16-01-54/output/other/img_44.067844, -103.195831_freq_1.png.out\n",
      "img_44.067844, -103.195831_freq_1.png.out\n",
      "batch_input+base: s3://sxm-ecommerce-p66-location-data/version2/training_freqs/img_44.067844, -103.195831_freq_1.png\n",
      "batch_input: s3://sxm-ecommerce-p66-location-data/version2/training_freqs/\n",
      "base: img_44.067844, -103.195831_freq_1.png\n",
      "img_44.067844, -103.195831_freq_1.png\n",
      "('Not road', 1.0)\n"
     ]
    },
    {
     "data": {
      "image/png": "[encoded data removed]",
      "text/plain": [
       "<Figure size 432x288 with 1 Axes>"
      ]
     },
     "metadata": {
      "needs_background": "light"
     },
     "output_type": "display_data"
    },
    {
     "name": "stdout",
     "output_type": "stream",
     "text": [
      "output: image-classification-model-2021-07-20-16-01-54/output/other/img_44.067844, -103.195831_freq_4.png.out\n",
      "sxm-ecommerce-p66-location-data\n",
      "image-classification-model-2021-07-20-16-01-54/output/other/img_44.067844, -103.195831_freq_4.png.out\n",
      "img_44.067844, -103.195831_freq_4.png.out\n",
      "batch_input+base: s3://sxm-ecommerce-p66-location-data/version2/training_freqs/img_44.067844, -103.195831_freq_4.png\n",
      "batch_input: s3://sxm-ecommerce-p66-location-data/version2/training_freqs/\n",
      "base: img_44.067844, -103.195831_freq_4.png\n",
      "img_44.067844, -103.195831_freq_4.png\n",
      "('Not road', 1.0)\n"
     ]
    },
    {
     "data": {
      "image/png": "[encoded data removed]",
      "text/plain": [
       "<Figure size 432x288 with 1 Axes>"
      ]
     },
     "metadata": {
      "needs_background": "light"
     },
     "output_type": "display_data"
    },
    {
     "name": "stdout",
     "output_type": "stream",
     "text": [
      "output: image-classification-model-2021-07-20-16-01-54/output/other/img_45.306483, -122.948029_freq_4.png.out\n",
      "sxm-ecommerce-p66-location-data\n",
      "image-classification-model-2021-07-20-16-01-54/output/other/img_45.306483, -122.948029_freq_4.png.out\n",
      "img_45.306483, -122.948029_freq_4.png.out\n",
      "batch_input+base: s3://sxm-ecommerce-p66-location-data/version2/training_freqs/img_45.306483, -122.948029_freq_4.png\n",
      "batch_input: s3://sxm-ecommerce-p66-location-data/version2/training_freqs/\n",
      "base: img_45.306483, -122.948029_freq_4.png\n",
      "img_45.306483, -122.948029_freq_4.png\n",
      "('Not road', 0.999991774559021)\n"
     ]
    },
    {
     "data": {
      "image/png": "[encoded data removed]",
      "text/plain": [
       "<Figure size 432x288 with 1 Axes>"
      ]
     },
     "metadata": {
      "needs_background": "light"
     },
     "output_type": "display_data"
    },
    {
     "name": "stdout",
     "output_type": "stream",
     "text": [
      "output: image-classification-model-2021-07-20-16-01-54/output/other/img_45.415814, -122.593356_freq_1.png.out\n",
      "sxm-ecommerce-p66-location-data\n",
      "image-classification-model-2021-07-20-16-01-54/output/other/img_45.415814, -122.593356_freq_1.png.out\n",
      "img_45.415814, -122.593356_freq_1.png.out\n",
      "batch_input+base: s3://sxm-ecommerce-p66-location-data/version2/training_freqs/img_45.415814, -122.593356_freq_1.png\n",
      "batch_input: s3://sxm-ecommerce-p66-location-data/version2/training_freqs/\n",
      "base: img_45.415814, -122.593356_freq_1.png\n",
      "img_45.415814, -122.593356_freq_1.png\n",
      "('Not road', 0.9999970197677612)\n"
     ]
    },
    {
     "data": {
      "image/png": "[encoded data removed]",
      "text/plain": [
       "<Figure size 432x288 with 1 Axes>"
      ]
     },
     "metadata": {
      "needs_background": "light"
     },
     "output_type": "display_data"
    },
    {
     "name": "stdout",
     "output_type": "stream",
     "text": [
      "output: image-classification-model-2021-07-20-16-01-54/output/other/img_46.599908, -120.572529_freq_1.png.out\n",
      "sxm-ecommerce-p66-location-data\n",
      "image-classification-model-2021-07-20-16-01-54/output/other/img_46.599908, -120.572529_freq_1.png.out\n",
      "img_46.599908, -120.572529_freq_1.png.out\n",
      "batch_input+base: s3://sxm-ecommerce-p66-location-data/version2/training_freqs/img_46.599908, -120.572529_freq_1.png\n",
      "batch_input: s3://sxm-ecommerce-p66-location-data/version2/training_freqs/\n",
      "base: img_46.599908, -120.572529_freq_1.png\n",
      "img_46.599908, -120.572529_freq_1.png\n",
      "('Not road', 0.9904491305351257)\n"
     ]
    },
    {
     "data": {
      "image/png": "[encoded data removed]",
      "text/plain": [
       "<Figure size 432x288 with 1 Axes>"
      ]
     },
     "metadata": {
      "needs_background": "light"
     },
     "output_type": "display_data"
    },
    {
     "name": "stdout",
     "output_type": "stream",
     "text": [
      "output: image-classification-model-2021-07-20-16-01-54/output/other/img_46.599908, -120.572529_freq_3.png.out\n",
      "sxm-ecommerce-p66-location-data\n",
      "image-classification-model-2021-07-20-16-01-54/output/other/img_46.599908, -120.572529_freq_3.png.out\n",
      "img_46.599908, -120.572529_freq_3.png.out\n",
      "batch_input+base: s3://sxm-ecommerce-p66-location-data/version2/training_freqs/img_46.599908, -120.572529_freq_3.png\n",
      "batch_input: s3://sxm-ecommerce-p66-location-data/version2/training_freqs/\n",
      "base: img_46.599908, -120.572529_freq_3.png\n",
      "img_46.599908, -120.572529_freq_3.png\n",
      "('Not road', 1.0)\n"
     ]
    },
    {
     "data": {
      "image/png": "[encoded data removed]",
      "text/plain": [
       "<Figure size 432x288 with 1 Axes>"
      ]
     },
     "metadata": {
      "needs_background": "light"
     },
     "output_type": "display_data"
    },
    {
     "name": "stdout",
     "output_type": "stream",
     "text": [
      "output: image-classification-model-2021-07-20-16-01-54/output/other/img_47.138551, -122.525624_freq_1.png.out\n",
      "sxm-ecommerce-p66-location-data\n",
      "image-classification-model-2021-07-20-16-01-54/output/other/img_47.138551, -122.525624_freq_1.png.out\n",
      "img_47.138551, -122.525624_freq_1.png.out\n",
      "batch_input+base: s3://sxm-ecommerce-p66-location-data/version2/training_freqs/img_47.138551, -122.525624_freq_1.png\n",
      "batch_input: s3://sxm-ecommerce-p66-location-data/version2/training_freqs/\n",
      "base: img_47.138551, -122.525624_freq_1.png\n",
      "img_47.138551, -122.525624_freq_1.png\n",
      "('Not road', 1.0)\n"
     ]
    },
    {
     "data": {
      "image/png": "[encoded data removed]",
      "text/plain": [
       "<Figure size 432x288 with 1 Axes>"
      ]
     },
     "metadata": {
      "needs_background": "light"
     },
     "output_type": "display_data"
    },
    {
     "name": "stdout",
     "output_type": "stream",
     "text": [
      "output: image-classification-model-2021-07-20-16-01-54/output/other/img_48.398601, -122.328557_freq_2.png.out\n",
      "sxm-ecommerce-p66-location-data\n",
      "image-classification-model-2021-07-20-16-01-54/output/other/img_48.398601, -122.328557_freq_2.png.out\n",
      "img_48.398601, -122.328557_freq_2.png.out\n",
      "batch_input+base: s3://sxm-ecommerce-p66-location-data/version2/training_freqs/img_48.398601, -122.328557_freq_2.png\n",
      "batch_input: s3://sxm-ecommerce-p66-location-data/version2/training_freqs/\n",
      "base: img_48.398601, -122.328557_freq_2.png\n",
      "img_48.398601, -122.328557_freq_2.png\n",
      "('Not road', 0.9999998807907104)\n"
     ]
    },
    {
     "data": {
      "image/png": "[encoded data removed]",
      "text/plain": [
       "<Figure size 432x288 with 1 Axes>"
      ]
     },
     "metadata": {
      "needs_background": "light"
     },
     "output_type": "display_data"
    },
    {
     "name": "stdout",
     "output_type": "stream",
     "text": [
      "output: image-classification-model-2021-07-20-16-01-54/output/road/img_28.782888, -97.045563_freq_3.png.out\n",
      "sxm-ecommerce-p66-location-data\n",
      "image-classification-model-2021-07-20-16-01-54/output/road/img_28.782888, -97.045563_freq_3.png.out\n",
      "img_28.782888, -97.045563_freq_3.png.out\n",
      "batch_input+base: s3://sxm-ecommerce-p66-location-data/version2/training_freqs/img_28.782888, -97.045563_freq_3.png\n",
      "batch_input: s3://sxm-ecommerce-p66-location-data/version2/training_freqs/\n",
      "base: img_28.782888, -97.045563_freq_3.png\n",
      "img_28.782888, -97.045563_freq_3.png\n",
      "('Road', 0.9889828562736511)\n"
     ]
    },
    {
     "data": {
      "image/png": "[encoded data removed]",
      "text/plain": [
       "<Figure size 432x288 with 1 Axes>"
      ]
     },
     "metadata": {
      "needs_background": "light"
     },
     "output_type": "display_data"
    },
    {
     "name": "stdout",
     "output_type": "stream",
     "text": [
      "output: image-classification-model-2021-07-20-16-01-54/output/road/img_32.156635, -94.345393_freq_3.png.out\n",
      "sxm-ecommerce-p66-location-data\n",
      "image-classification-model-2021-07-20-16-01-54/output/road/img_32.156635, -94.345393_freq_3.png.out\n",
      "img_32.156635, -94.345393_freq_3.png.out\n",
      "batch_input+base: s3://sxm-ecommerce-p66-location-data/version2/training_freqs/img_32.156635, -94.345393_freq_3.png\n",
      "batch_input: s3://sxm-ecommerce-p66-location-data/version2/training_freqs/\n",
      "base: img_32.156635, -94.345393_freq_3.png\n",
      "img_32.156635, -94.345393_freq_3.png\n",
      "('Road', 0.9999973773956299)\n"
     ]
    },
    {
     "data": {
      "image/png": "[encoded data removed]",
      "text/plain": [
       "<Figure size 432x288 with 1 Axes>"
      ]
     },
     "metadata": {
      "needs_background": "light"
     },
     "output_type": "display_data"
    },
    {
     "name": "stdout",
     "output_type": "stream",
     "text": [
      "output: image-classification-model-2021-07-20-16-01-54/output/road/img_32.621311, -93.268366_freq_2.png.out\n",
      "sxm-ecommerce-p66-location-data\n",
      "image-classification-model-2021-07-20-16-01-54/output/road/img_32.621311, -93.268366_freq_2.png.out\n",
      "img_32.621311, -93.268366_freq_2.png.out\n",
      "batch_input+base: s3://sxm-ecommerce-p66-location-data/version2/training_freqs/img_32.621311, -93.268366_freq_2.png\n",
      "batch_input: s3://sxm-ecommerce-p66-location-data/version2/training_freqs/\n",
      "base: img_32.621311, -93.268366_freq_2.png\n",
      "img_32.621311, -93.268366_freq_2.png\n",
      "('Road', 0.9997122883796692)\n"
     ]
    },
    {
     "data": {
      "image/png": "[encoded data removed]",
      "text/plain": [
       "<Figure size 432x288 with 1 Axes>"
      ]
     },
     "metadata": {
      "needs_background": "light"
     },
     "output_type": "display_data"
    },
    {
     "name": "stdout",
     "output_type": "stream",
     "text": [
      "output: image-classification-model-2021-07-20-16-01-54/output/road/img_33.037973, -111.378656_freq_2.png.out\n",
      "sxm-ecommerce-p66-location-data\n",
      "image-classification-model-2021-07-20-16-01-54/output/road/img_33.037973, -111.378656_freq_2.png.out\n",
      "img_33.037973, -111.378656_freq_2.png.out\n",
      "batch_input+base: s3://sxm-ecommerce-p66-location-data/version2/training_freqs/img_33.037973, -111.378656_freq_2.png\n",
      "batch_input: s3://sxm-ecommerce-p66-location-data/version2/training_freqs/\n",
      "base: img_33.037973, -111.378656_freq_2.png\n",
      "img_33.037973, -111.378656_freq_2.png\n",
      "('Road', 0.9986655712127686)\n"
     ]
    },
    {
     "data": {
      "image/png": "[encoded data removed]",
      "text/plain": [
       "<Figure size 432x288 with 1 Axes>"
      ]
     },
     "metadata": {
      "needs_background": "light"
     },
     "output_type": "display_data"
    },
    {
     "name": "stdout",
     "output_type": "stream",
     "text": [
      "output: image-classification-model-2021-07-20-16-01-54/output/road/img_33.611694, -114.725608_freq_3.png.out\n",
      "sxm-ecommerce-p66-location-data\n",
      "image-classification-model-2021-07-20-16-01-54/output/road/img_33.611694, -114.725608_freq_3.png.out\n",
      "img_33.611694, -114.725608_freq_3.png.out\n",
      "batch_input+base: s3://sxm-ecommerce-p66-location-data/version2/training_freqs/img_33.611694, -114.725608_freq_3.png\n",
      "batch_input: s3://sxm-ecommerce-p66-location-data/version2/training_freqs/\n",
      "base: img_33.611694, -114.725608_freq_3.png\n",
      "img_33.611694, -114.725608_freq_3.png\n",
      "('Road', 1.0)\n"
     ]
    },
    {
     "data": {
      "image/png": "[encoded data removed]",
      "text/plain": [
       "<Figure size 432x288 with 1 Axes>"
      ]
     },
     "metadata": {
      "needs_background": "light"
     },
     "output_type": "display_data"
    },
    {
     "name": "stdout",
     "output_type": "stream",
     "text": [
      "output: image-classification-model-2021-07-20-16-01-54/output/road/img_33.858246, -118.082556_freq_3.png.out\n",
      "sxm-ecommerce-p66-location-data\n",
      "image-classification-model-2021-07-20-16-01-54/output/road/img_33.858246, -118.082556_freq_3.png.out\n",
      "img_33.858246, -118.082556_freq_3.png.out\n",
      "batch_input+base: s3://sxm-ecommerce-p66-location-data/version2/training_freqs/img_33.858246, -118.082556_freq_3.png\n",
      "batch_input: s3://sxm-ecommerce-p66-location-data/version2/training_freqs/\n",
      "base: img_33.858246, -118.082556_freq_3.png\n",
      "img_33.858246, -118.082556_freq_3.png\n",
      "('Road', 1.0)\n"
     ]
    },
    {
     "data": {
      "image/png": "[encoded data removed]",
      "text/plain": [
       "<Figure size 432x288 with 1 Axes>"
      ]
     },
     "metadata": {
      "needs_background": "light"
     },
     "output_type": "display_data"
    },
    {
     "name": "stdout",
     "output_type": "stream",
     "text": [
      "output: image-classification-model-2021-07-20-16-01-54/output/road/img_34.075591, -117.719565_freq_3.png.out\n",
      "sxm-ecommerce-p66-location-data\n",
      "image-classification-model-2021-07-20-16-01-54/output/road/img_34.075591, -117.719565_freq_3.png.out\n",
      "img_34.075591, -117.719565_freq_3.png.out\n",
      "batch_input+base: s3://sxm-ecommerce-p66-location-data/version2/training_freqs/img_34.075591, -117.719565_freq_3.png\n",
      "batch_input: s3://sxm-ecommerce-p66-location-data/version2/training_freqs/\n",
      "base: img_34.075591, -117.719565_freq_3.png\n",
      "img_34.075591, -117.719565_freq_3.png\n",
      "('Road', 1.0)\n"
     ]
    },
    {
     "data": {
      "image/png": "[encoded data removed]",
      "text/plain": [
       "<Figure size 432x288 with 1 Axes>"
      ]
     },
     "metadata": {
      "needs_background": "light"
     },
     "output_type": "display_data"
    },
    {
     "name": "stdout",
     "output_type": "stream",
     "text": [
      "output: image-classification-model-2021-07-20-16-01-54/output/road/img_34.311032, -92.413717_freq_2.png.out\n",
      "sxm-ecommerce-p66-location-data\n",
      "image-classification-model-2021-07-20-16-01-54/output/road/img_34.311032, -92.413717_freq_2.png.out\n",
      "img_34.311032, -92.413717_freq_2.png.out\n",
      "batch_input+base: s3://sxm-ecommerce-p66-location-data/version2/training_freqs/img_34.311032, -92.413717_freq_2.png\n",
      "batch_input: s3://sxm-ecommerce-p66-location-data/version2/training_freqs/\n",
      "base: img_34.311032, -92.413717_freq_2.png\n",
      "img_34.311032, -92.413717_freq_2.png\n",
      "('Road', 0.9999934434890747)\n"
     ]
    },
    {
     "data": {
      "image/png": "[encoded data removed]",
      "text/plain": [
       "<Figure size 432x288 with 1 Axes>"
      ]
     },
     "metadata": {
      "needs_background": "light"
     },
     "output_type": "display_data"
    },
    {
     "name": "stdout",
     "output_type": "stream",
     "text": [
      "output: image-classification-model-2021-07-20-16-01-54/output/road/img_34.556566, -117.288937_freq_2.png.out\n",
      "sxm-ecommerce-p66-location-data\n",
      "image-classification-model-2021-07-20-16-01-54/output/road/img_34.556566, -117.288937_freq_2.png.out\n",
      "img_34.556566, -117.288937_freq_2.png.out\n",
      "batch_input+base: s3://sxm-ecommerce-p66-location-data/version2/training_freqs/img_34.556566, -117.288937_freq_2.png\n",
      "batch_input: s3://sxm-ecommerce-p66-location-data/version2/training_freqs/\n",
      "base: img_34.556566, -117.288937_freq_2.png\n",
      "img_34.556566, -117.288937_freq_2.png\n",
      "('Not road', 0.9152982831001282)\n"
     ]
    },
    {
     "data": {
      "image/png": "[encoded data removed]",
      "text/plain": [
       "<Figure size 432x288 with 1 Axes>"
      ]
     },
     "metadata": {
      "needs_background": "light"
     },
     "output_type": "display_data"
    },
    {
     "name": "stdout",
     "output_type": "stream",
     "text": [
      "output: image-classification-model-2021-07-20-16-01-54/output/road/img_35.270870, -111.544006_freq_2.png.out\n",
      "sxm-ecommerce-p66-location-data\n",
      "image-classification-model-2021-07-20-16-01-54/output/road/img_35.270870, -111.544006_freq_2.png.out\n",
      "img_35.270870, -111.544006_freq_2.png.out\n",
      "batch_input+base: s3://sxm-ecommerce-p66-location-data/version2/training_freqs/img_35.270870, -111.544006_freq_2.png\n",
      "batch_input: s3://sxm-ecommerce-p66-location-data/version2/training_freqs/\n",
      "base: img_35.270870, -111.544006_freq_2.png\n",
      "img_35.270870, -111.544006_freq_2.png\n",
      "('Not road', 0.5332943201065063)\n"
     ]
    },
    {
     "data": {
      "image/png": "[encoded data removed]",
      "text/plain": [
       "<Figure size 432x288 with 1 Axes>"
      ]
     },
     "metadata": {
      "needs_background": "light"
     },
     "output_type": "display_data"
    },
    {
     "name": "stdout",
     "output_type": "stream",
     "text": [
      "output: image-classification-model-2021-07-20-16-01-54/output/road/img_37.056880, -120.855790_freq_1.png.out\n",
      "sxm-ecommerce-p66-location-data\n",
      "image-classification-model-2021-07-20-16-01-54/output/road/img_37.056880, -120.855790_freq_1.png.out\n",
      "img_37.056880, -120.855790_freq_1.png.out\n",
      "batch_input+base: s3://sxm-ecommerce-p66-location-data/version2/training_freqs/img_37.056880, -120.855790_freq_1.png\n",
      "batch_input: s3://sxm-ecommerce-p66-location-data/version2/training_freqs/\n",
      "base: img_37.056880, -120.855790_freq_1.png\n",
      "img_37.056880, -120.855790_freq_1.png\n",
      "('Road', 0.9999183416366577)\n"
     ]
    },
    {
     "data": {
      "image/png": "[encoded data removed]",
      "text/plain": [
       "<Figure size 432x288 with 1 Axes>"
      ]
     },
     "metadata": {
      "needs_background": "light"
     },
     "output_type": "display_data"
    },
    {
     "name": "stdout",
     "output_type": "stream",
     "text": [
      "output: image-classification-model-2021-07-20-16-01-54/output/road/img_37.570248, -90.286181_freq_1.png.out\n",
      "sxm-ecommerce-p66-location-data\n",
      "image-classification-model-2021-07-20-16-01-54/output/road/img_37.570248, -90.286181_freq_1.png.out\n",
      "img_37.570248, -90.286181_freq_1.png.out\n",
      "batch_input+base: s3://sxm-ecommerce-p66-location-data/version2/training_freqs/img_37.570248, -90.286181_freq_1.png\n",
      "batch_input: s3://sxm-ecommerce-p66-location-data/version2/training_freqs/\n",
      "base: img_37.570248, -90.286181_freq_1.png\n",
      "img_37.570248, -90.286181_freq_1.png\n",
      "('Not road', 0.9489020109176636)\n"
     ]
    },
    {
     "data": {
      "image/png": "[encoded data removed]",
      "text/plain": [
       "<Figure size 432x288 with 1 Axes>"
      ]
     },
     "metadata": {
      "needs_background": "light"
     },
     "output_type": "display_data"
    },
    {
     "name": "stdout",
     "output_type": "stream",
     "text": [
      "output: image-classification-model-2021-07-20-16-01-54/output/road/img_37.570248, -90.286181_freq_3.png.out\n",
      "sxm-ecommerce-p66-location-data\n",
      "image-classification-model-2021-07-20-16-01-54/output/road/img_37.570248, -90.286181_freq_3.png.out\n",
      "img_37.570248, -90.286181_freq_3.png.out\n",
      "batch_input+base: s3://sxm-ecommerce-p66-location-data/version2/training_freqs/img_37.570248, -90.286181_freq_3.png\n",
      "batch_input: s3://sxm-ecommerce-p66-location-data/version2/training_freqs/\n",
      "base: img_37.570248, -90.286181_freq_3.png\n",
      "img_37.570248, -90.286181_freq_3.png\n",
      "('Road', 0.9999990463256836)\n"
     ]
    },
    {
     "data": {
      "image/png": "[encoded data removed]",
      "text/plain": [
       "<Figure size 432x288 with 1 Axes>"
      ]
     },
     "metadata": {
      "needs_background": "light"
     },
     "output_type": "display_data"
    },
    {
     "name": "stdout",
     "output_type": "stream",
     "text": [
      "output: image-classification-model-2021-07-20-16-01-54/output/road/img_37.810012, -122.245290_freq_3.png.out\n",
      "sxm-ecommerce-p66-location-data\n",
      "image-classification-model-2021-07-20-16-01-54/output/road/img_37.810012, -122.245290_freq_3.png.out\n",
      "img_37.810012, -122.245290_freq_3.png.out\n",
      "batch_input+base: s3://sxm-ecommerce-p66-location-data/version2/training_freqs/img_37.810012, -122.245290_freq_3.png\n",
      "batch_input: s3://sxm-ecommerce-p66-location-data/version2/training_freqs/\n",
      "base: img_37.810012, -122.245290_freq_3.png\n",
      "img_37.810012, -122.245290_freq_3.png\n",
      "('Road', 1.0)\n"
     ]
    },
    {
     "data": {
      "image/png": "[encoded data removed]",
      "text/plain": [
       "<Figure size 432x288 with 1 Axes>"
      ]
     },
     "metadata": {
      "needs_background": "light"
     },
     "output_type": "display_data"
    },
    {
     "name": "stdout",
     "output_type": "stream",
     "text": [
      "output: image-classification-model-2021-07-20-16-01-54/output/road/img_38.306587, -90.531544_freq_3.png.out\n",
      "sxm-ecommerce-p66-location-data\n",
      "image-classification-model-2021-07-20-16-01-54/output/road/img_38.306587, -90.531544_freq_3.png.out\n",
      "img_38.306587, -90.531544_freq_3.png.out\n",
      "batch_input+base: s3://sxm-ecommerce-p66-location-data/version2/training_freqs/img_38.306587, -90.531544_freq_3.png\n",
      "batch_input: s3://sxm-ecommerce-p66-location-data/version2/training_freqs/\n",
      "base: img_38.306587, -90.531544_freq_3.png\n",
      "img_38.306587, -90.531544_freq_3.png\n",
      "('Road', 0.9999903440475464)\n"
     ]
    },
    {
     "data": {
      "image/png": "[encoded data removed]",
      "text/plain": [
       "<Figure size 432x288 with 1 Axes>"
      ]
     },
     "metadata": {
      "needs_background": "light"
     },
     "output_type": "display_data"
    },
    {
     "name": "stdout",
     "output_type": "stream",
     "text": [
      "output: image-classification-model-2021-07-20-16-01-54/output/road/img_38.502609, -90.298036_freq_2.png.out\n",
      "sxm-ecommerce-p66-location-data\n",
      "image-classification-model-2021-07-20-16-01-54/output/road/img_38.502609, -90.298036_freq_2.png.out\n",
      "img_38.502609, -90.298036_freq_2.png.out\n",
      "batch_input+base: s3://sxm-ecommerce-p66-location-data/version2/training_freqs/img_38.502609, -90.298036_freq_2.png\n",
      "batch_input: s3://sxm-ecommerce-p66-location-data/version2/training_freqs/\n",
      "base: img_38.502609, -90.298036_freq_2.png\n",
      "img_38.502609, -90.298036_freq_2.png\n",
      "('Road', 0.998992383480072)\n"
     ]
    },
    {
     "data": {
      "image/png": "[encoded data removed]",
      "text/plain": [
       "<Figure size 432x288 with 1 Axes>"
      ]
     },
     "metadata": {
      "needs_background": "light"
     },
     "output_type": "display_data"
    },
    {
     "name": "stdout",
     "output_type": "stream",
     "text": [
      "output: image-classification-model-2021-07-20-16-01-54/output/road/img_38.798163, -90.559493_freq_3.png.out\n",
      "sxm-ecommerce-p66-location-data\n",
      "image-classification-model-2021-07-20-16-01-54/output/road/img_38.798163, -90.559493_freq_3.png.out\n",
      "img_38.798163, -90.559493_freq_3.png.out\n",
      "batch_input+base: s3://sxm-ecommerce-p66-location-data/version2/training_freqs/img_38.798163, -90.559493_freq_3.png\n",
      "batch_input: s3://sxm-ecommerce-p66-location-data/version2/training_freqs/\n",
      "base: img_38.798163, -90.559493_freq_3.png\n",
      "img_38.798163, -90.559493_freq_3.png\n",
      "('Road', 0.9993047714233398)\n"
     ]
    },
    {
     "data": {
      "image/png": "[encoded data removed]",
      "text/plain": [
       "<Figure size 432x288 with 1 Axes>"
      ]
     },
     "metadata": {
      "needs_background": "light"
     },
     "output_type": "display_data"
    },
    {
     "name": "stdout",
     "output_type": "stream",
     "text": [
      "output: image-classification-model-2021-07-20-16-01-54/output/road/img_39.695696, -105.071700_freq_3.png.out\n",
      "sxm-ecommerce-p66-location-data\n",
      "image-classification-model-2021-07-20-16-01-54/output/road/img_39.695696, -105.071700_freq_3.png.out\n",
      "img_39.695696, -105.071700_freq_3.png.out\n",
      "batch_input+base: s3://sxm-ecommerce-p66-location-data/version2/training_freqs/img_39.695696, -105.071700_freq_3.png\n",
      "batch_input: s3://sxm-ecommerce-p66-location-data/version2/training_freqs/\n",
      "base: img_39.695696, -105.071700_freq_3.png\n",
      "img_39.695696, -105.071700_freq_3.png\n",
      "('Road', 0.9999984502792358)\n"
     ]
    },
    {
     "data": {
      "image/png": "[encoded data removed]",
      "text/plain": [
       "<Figure size 432x288 with 1 Axes>"
      ]
     },
     "metadata": {
      "needs_background": "light"
     },
     "output_type": "display_data"
    },
    {
     "name": "stdout",
     "output_type": "stream",
     "text": [
      "output: image-classification-model-2021-07-20-16-01-54/output/road/img_39.914940, -105.006603_freq_3.png.out\n",
      "sxm-ecommerce-p66-location-data\n",
      "image-classification-model-2021-07-20-16-01-54/output/road/img_39.914940, -105.006603_freq_3.png.out\n",
      "img_39.914940, -105.006603_freq_3.png.out\n",
      "batch_input+base: s3://sxm-ecommerce-p66-location-data/version2/training_freqs/img_39.914940, -105.006603_freq_3.png\n",
      "batch_input: s3://sxm-ecommerce-p66-location-data/version2/training_freqs/\n",
      "base: img_39.914940, -105.006603_freq_3.png\n",
      "img_39.914940, -105.006603_freq_3.png\n",
      "('Road', 0.9999998807907104)\n"
     ]
    },
    {
     "data": {
      "image/png": "[encoded data removed]",
      "text/plain": [
       "<Figure size 432x288 with 1 Axes>"
      ]
     },
     "metadata": {
      "needs_background": "light"
     },
     "output_type": "display_data"
    },
    {
     "name": "stdout",
     "output_type": "stream",
     "text": [
      "output: image-classification-model-2021-07-20-16-01-54/output/road/img_40.051827, -105.055939_freq_3.png.out\n",
      "sxm-ecommerce-p66-location-data\n",
      "image-classification-model-2021-07-20-16-01-54/output/road/img_40.051827, -105.055939_freq_3.png.out\n",
      "img_40.051827, -105.055939_freq_3.png.out\n",
      "batch_input+base: s3://sxm-ecommerce-p66-location-data/version2/training_freqs/img_40.051827, -105.055939_freq_3.png\n",
      "batch_input: s3://sxm-ecommerce-p66-location-data/version2/training_freqs/\n",
      "base: img_40.051827, -105.055939_freq_3.png\n",
      "img_40.051827, -105.055939_freq_3.png\n",
      "('Road', 0.9999922513961792)\n"
     ]
    },
    {
     "data": {
      "image/png": "[encoded data removed]",
      "text/plain": [
       "<Figure size 432x288 with 1 Axes>"
      ]
     },
     "metadata": {
      "needs_background": "light"
     },
     "output_type": "display_data"
    },
    {
     "name": "stdout",
     "output_type": "stream",
     "text": [
      "output: image-classification-model-2021-07-20-16-01-54/output/road/img_40.364099, -111.742177_freq_3.png.out\n",
      "sxm-ecommerce-p66-location-data\n",
      "image-classification-model-2021-07-20-16-01-54/output/road/img_40.364099, -111.742177_freq_3.png.out\n",
      "img_40.364099, -111.742177_freq_3.png.out\n",
      "batch_input+base: s3://sxm-ecommerce-p66-location-data/version2/training_freqs/img_40.364099, -111.742177_freq_3.png\n",
      "batch_input: s3://sxm-ecommerce-p66-location-data/version2/training_freqs/\n",
      "base: img_40.364099, -111.742177_freq_3.png\n",
      "img_40.364099, -111.742177_freq_3.png\n",
      "('Road', 1.0)\n"
     ]
    },
    {
     "data": {
      "image/png": "[encoded data removed]",
      "text/plain": [
       "<Figure size 432x288 with 1 Axes>"
      ]
     },
     "metadata": {
      "needs_background": "light"
     },
     "output_type": "display_data"
    },
    {
     "name": "stdout",
     "output_type": "stream",
     "text": [
      "output: image-classification-model-2021-07-20-16-01-54/output/road/img_40.788970, -91.115783_freq_3.png.out\n",
      "sxm-ecommerce-p66-location-data\n",
      "image-classification-model-2021-07-20-16-01-54/output/road/img_40.788970, -91.115783_freq_3.png.out\n",
      "img_40.788970, -91.115783_freq_3.png.out\n",
      "batch_input+base: s3://sxm-ecommerce-p66-location-data/version2/training_freqs/img_40.788970, -91.115783_freq_3.png\n",
      "batch_input: s3://sxm-ecommerce-p66-location-data/version2/training_freqs/\n",
      "base: img_40.788970, -91.115783_freq_3.png\n",
      "img_40.788970, -91.115783_freq_3.png\n",
      "('Road', 1.0)\n"
     ]
    },
    {
     "data": {
      "image/png": "[encoded data removed]",
      "text/plain": [
       "<Figure size 432x288 with 1 Axes>"
      ]
     },
     "metadata": {
      "needs_background": "light"
     },
     "output_type": "display_data"
    },
    {
     "name": "stdout",
     "output_type": "stream",
     "text": [
      "output: image-classification-model-2021-07-20-16-01-54/output/road/img_40.804153, -96.682148_freq_3.png.out\n",
      "sxm-ecommerce-p66-location-data\n",
      "image-classification-model-2021-07-20-16-01-54/output/road/img_40.804153, -96.682148_freq_3.png.out\n",
      "img_40.804153, -96.682148_freq_3.png.out\n",
      "batch_input+base: s3://sxm-ecommerce-p66-location-data/version2/training_freqs/img_40.804153, -96.682148_freq_3.png\n",
      "batch_input: s3://sxm-ecommerce-p66-location-data/version2/training_freqs/\n",
      "base: img_40.804153, -96.682148_freq_3.png\n",
      "img_40.804153, -96.682148_freq_3.png\n",
      "('Road', 0.9999998807907104)\n"
     ]
    },
    {
     "data": {
      "image/png": "[encoded data removed]",
      "text/plain": [
       "<Figure size 432x288 with 1 Axes>"
      ]
     },
     "metadata": {
      "needs_background": "light"
     },
     "output_type": "display_data"
    },
    {
     "name": "stdout",
     "output_type": "stream",
     "text": [
      "output: image-classification-model-2021-07-20-16-01-54/output/road/img_40.826027, -91.208710_freq_3.png.out\n",
      "sxm-ecommerce-p66-location-data\n",
      "image-classification-model-2021-07-20-16-01-54/output/road/img_40.826027, -91.208710_freq_3.png.out\n",
      "img_40.826027, -91.208710_freq_3.png.out\n",
      "batch_input+base: s3://sxm-ecommerce-p66-location-data/version2/training_freqs/img_40.826027, -91.208710_freq_3.png\n",
      "batch_input: s3://sxm-ecommerce-p66-location-data/version2/training_freqs/\n",
      "base: img_40.826027, -91.208710_freq_3.png\n",
      "img_40.826027, -91.208710_freq_3.png\n",
      "('Road', 0.952535092830658)\n"
     ]
    },
    {
     "data": {
      "image/png": "[encoded data removed]",
      "text/plain": [
       "<Figure size 432x288 with 1 Axes>"
      ]
     },
     "metadata": {
      "needs_background": "light"
     },
     "output_type": "display_data"
    },
    {
     "name": "stdout",
     "output_type": "stream",
     "text": [
      "output: image-classification-model-2021-07-20-16-01-54/output/road/img_45.504331, -122.475114_freq_4.png.out\n",
      "sxm-ecommerce-p66-location-data\n",
      "image-classification-model-2021-07-20-16-01-54/output/road/img_45.504331, -122.475114_freq_4.png.out\n",
      "img_45.504331, -122.475114_freq_4.png.out\n",
      "batch_input+base: s3://sxm-ecommerce-p66-location-data/version2/training_freqs/img_45.504331, -122.475114_freq_4.png\n",
      "batch_input: s3://sxm-ecommerce-p66-location-data/version2/training_freqs/\n",
      "base: img_45.504331, -122.475114_freq_4.png\n",
      "img_45.504331, -122.475114_freq_4.png\n",
      "('Not road', 0.9987730383872986)\n"
     ]
    },
    {
     "data": {
      "image/png": "[encoded data removed]",
      "text/plain": [
       "<Figure size 432x288 with 1 Axes>"
      ]
     },
     "metadata": {
      "needs_background": "light"
     },
     "output_type": "display_data"
    }
   ],
   "source": [
    "from urllib.parse import urlparse\n",
    "import json\n",
    "import numpy as np\n",
    "batch_job_name = 'image-classification-model-2021-07-20-16-01-54'\n",
    "batch_input = \"s3://{}/version2/training_freqs/\".format(bucket)\n",
    "bucket = 'sxm-ecommerce-p66-location-data'\n",
    "\n",
    "s3_client = boto3.client(\"s3\")\n",
    "object_categories = [\"Not road\", \"Road\"]\n",
    "\n",
    "\n",
    "def list_objects(s3_client, bucket, prefix):\n",
    "    response = s3_client.list_objects(Bucket=bucket, Prefix=prefix)\n",
    "    objects = [content[\"Key\"] for content in response[\"Contents\"]]\n",
    "    return objects\n",
    "\n",
    "\n",
    "def get_label(s3_client, bucket, prefix):\n",
    "    filename = prefix.split(\"/\")[-1]\n",
    "    print(bucket)\n",
    "    print(prefix)\n",
    "    print(filename)\n",
    "    s3_client.download_file(bucket, prefix, filename)\n",
    "    with open(filename) as f:\n",
    "        data = json.load(f)\n",
    "        index = np.argmax(data[\"prediction\"])\n",
    "        probability = data[\"prediction\"][index]\n",
    "#     print(\"Result: label - \" + object_categories[index] + \", probability - \" + str(probability))\n",
    "    return object_categories[index], probability\n",
    "\n",
    "\n",
    "inputs = list_objects(s3_client, bucket, urlparse(batch_input).path.lstrip(\"/\"))\n",
    "# print(\"Sample inputs: \" + str(inputs[0:399]))\n",
    "\n",
    "outputs = list_objects(s3_client, bucket, batch_job_name + \"/output\")\n",
    "# print(\"Sample output: \" + str(outputs[0:399]))\n",
    "\n",
    "\n",
    "# records = pd.read_csv('data/freqs/road_or_building.csv')\n",
    "# records = records.drop(['weird_imgs','Unnamed: 0'], axis =1)\n",
    "# # data.head()\n",
    "\n",
    "\n",
    "# for index, record in records.iterrows():\n",
    "#     path = record['path']\n",
    "#     base = record['imgs']\n",
    "#     label = record['type']\n",
    "#     out = 'image-classification-model-2021-07-16-13-51-10/output/img_' + base + '.png.out'\n",
    "# #     print(out)\n",
    "#     pred = get_label(s3_client, bucket, out)\n",
    "# #     print(batch_input + \"img_\" + base)\n",
    "#     with fs.open(batch_input + \"img_\" + base + '.png') as file:\n",
    "#         print(base)\n",
    "#         print(label)\n",
    "#         print(pred)\n",
    "# #         image = plt.imread(file, 0)\n",
    "# #         plt.imshow(image)\n",
    "# #         plt.show()\n",
    "# # # image-classification-model-2021-07-16-13-51-10/output/21.331533, -157.865814_freq_1.png.out\n",
    "# # s3://sxm-ecommerce-p66-location-data/more_freqs_p1/img_-40.500000, -40.600000_freq_1.png\n",
    "\n",
    "\n",
    "# Check prediction result of the first 2 images\n",
    "for output in outputs:\n",
    "    base = output.replace(\"image-classification-model-2021-07-20-16-01-54/output/other/\", \"\")\n",
    "    base = base.replace(\"image-classification-model-2021-07-20-16-01-54/output/road/\", \"\")\n",
    "    base = base.replace(\".out\", \"\")\n",
    "    print(\"output: \" + output)\n",
    "    label = get_label(s3_client, bucket, output)\n",
    "    print(\"batch_input+base: \" + batch_input+base)\n",
    "    print(\"batch_input: \" + batch_input)\n",
    "    print(\"base: \" + base)\n",
    "    with fs.open(batch_input + base) as file:\n",
    "        print(base)\n",
    "        print(label)\n",
    "        image = plt.imread(file, 0)\n",
    "        plt.imshow(image)\n",
    "        plt.axis(\"off\")\n",
    "        plt.show()\n",
    "\n",
    "# [get_label(s3_client, bucket, prefix) for prefix in outputs[0:399]]"
   ]
  },
  {
   "cell_type": "code",
   "execution_count": null,
   "metadata": {},
   "outputs": [],
   "source": []
  }
 ],
 "metadata": {
  "instance_type": "ml.t3.medium",
  "kernelspec": {
   "display_name": "Python 3 (Data Science)",
   "language": "python",
   "name": "python3__SAGEMAKER_INTERNAL__arn:aws:sagemaker:us-east-1:081325390199:image/datascience-1.0"
  },
  "language_info": {
   "codemirror_mode": {
    "name": "ipython",
    "version": 3
   },
   "file_extension": ".py",
   "mimetype": "text/x-python",
   "name": "python",
   "nbconvert_exporter": "python",
   "pygments_lexer": "ipython3",
   "version": "3.7.10"
  }
 },
 "nbformat": 4,
 "nbformat_minor": 4
}
