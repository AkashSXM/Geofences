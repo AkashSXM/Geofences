{
 "cells": [
  {
   "cell_type": "code",
   "execution_count": 2,
   "metadata": {},
   "outputs": [],
   "source": [
    "# Four channels: train, validation, train_lst, and validation_lst\n",
    "bucket = 'sxm-ecommerce-p66-location-data'\n",
    "\n",
    "s3train = \"s3://{}/image-classification/train/\".format(bucket)\n",
    "s3validation = \"s3://{}/image-classification/validation/\".format(bucket)\n",
    "s3train_lst = \"s3://{}/image-classification/train_lst/\".format(bucket)\n",
    "s3validation_lst = \"s3://{}/image-classification/validation_lst/\".format(bucket)"
   ]
  },
  {
   "cell_type": "code",
   "execution_count": 16,
   "metadata": {},
   "outputs": [],
   "source": [
    "import pandas as pd\n",
    "import numpy as np\n",
    "\n",
    "testing = pd.read_csv('testing.lst', sep='\\t', header=None, names = ['index', 'label', 'path'])\n",
    "training = pd.read_csv('training.lst', sep='\\t', header=None, names = ['index', 'label', 'path'])"
   ]
  },
  {
   "cell_type": "code",
   "execution_count": 18,
   "metadata": {},
   "outputs": [
    {
     "name": "stdout",
     "output_type": "stream",
     "text": [
      "index\n",
      "label\n",
      "path\n"
     ]
    }
   ],
   "source": [
    "for index, row in testing.iterrows():\n",
    "    print(row['label'], row['c2'])"
   ]
  },
  {
   "cell_type": "code",
   "execution_count": 19,
   "metadata": {},
   "outputs": [
    {
     "data": {
      "text/html": [
       "<div>\n",
       "<style scoped>\n",
       "    .dataframe tbody tr th:only-of-type {\n",
       "        vertical-align: middle;\n",
       "    }\n",
       "\n",
       "    .dataframe tbody tr th {\n",
       "        vertical-align: top;\n",
       "    }\n",
       "\n",
       "    .dataframe thead th {\n",
       "        text-align: right;\n",
       "    }\n",
       "</style>\n",
       "<table border=\"1\" class=\"dataframe\">\n",
       "  <thead>\n",
       "    <tr style=\"text-align: right;\">\n",
       "      <th></th>\n",
       "      <th>index</th>\n",
       "      <th>label</th>\n",
       "      <th>path</th>\n",
       "    </tr>\n",
       "  </thead>\n",
       "  <tbody>\n",
       "    <tr>\n",
       "      <th>0</th>\n",
       "      <td>54</td>\n",
       "      <td>1</td>\n",
       "      <td>sxm-ecommerce-p66-location-data/freqs/img_32.8...</td>\n",
       "    </tr>\n",
       "    <tr>\n",
       "      <th>1</th>\n",
       "      <td>273</td>\n",
       "      <td>0</td>\n",
       "      <td>sxm-ecommerce-p66-location-data/freqs/img_39.1...</td>\n",
       "    </tr>\n",
       "    <tr>\n",
       "      <th>2</th>\n",
       "      <td>395</td>\n",
       "      <td>0</td>\n",
       "      <td>sxm-ecommerce-p66-location-data/freqs/img_47.1...</td>\n",
       "    </tr>\n",
       "    <tr>\n",
       "      <th>3</th>\n",
       "      <td>377</td>\n",
       "      <td>0</td>\n",
       "      <td>sxm-ecommerce-p66-location-data/freqs/img_45.5...</td>\n",
       "    </tr>\n",
       "    <tr>\n",
       "      <th>4</th>\n",
       "      <td>309</td>\n",
       "      <td>1</td>\n",
       "      <td>sxm-ecommerce-p66-location-data/freqs/img_40.1...</td>\n",
       "    </tr>\n",
       "    <tr>\n",
       "      <th>...</th>\n",
       "      <td>...</td>\n",
       "      <td>...</td>\n",
       "      <td>...</td>\n",
       "    </tr>\n",
       "    <tr>\n",
       "      <th>155</th>\n",
       "      <td>268</td>\n",
       "      <td>0</td>\n",
       "      <td>sxm-ecommerce-p66-location-data/freqs/img_39.0...</td>\n",
       "    </tr>\n",
       "    <tr>\n",
       "      <th>156</th>\n",
       "      <td>157</td>\n",
       "      <td>0</td>\n",
       "      <td>sxm-ecommerce-p66-location-data/freqs/img_36.4...</td>\n",
       "    </tr>\n",
       "    <tr>\n",
       "      <th>157</th>\n",
       "      <td>188</td>\n",
       "      <td>1</td>\n",
       "      <td>sxm-ecommerce-p66-location-data/freqs/img_37.5...</td>\n",
       "    </tr>\n",
       "    <tr>\n",
       "      <th>158</th>\n",
       "      <td>210</td>\n",
       "      <td>1</td>\n",
       "      <td>sxm-ecommerce-p66-location-data/freqs/img_38.0...</td>\n",
       "    </tr>\n",
       "    <tr>\n",
       "      <th>159</th>\n",
       "      <td>319</td>\n",
       "      <td>0</td>\n",
       "      <td>sxm-ecommerce-p66-location-data/freqs/img_40.5...</td>\n",
       "    </tr>\n",
       "  </tbody>\n",
       "</table>\n",
       "<p>160 rows × 3 columns</p>\n",
       "</div>"
      ],
      "text/plain": [
       "     index  label                                               path\n",
       "0       54      1  sxm-ecommerce-p66-location-data/freqs/img_32.8...\n",
       "1      273      0  sxm-ecommerce-p66-location-data/freqs/img_39.1...\n",
       "2      395      0  sxm-ecommerce-p66-location-data/freqs/img_47.1...\n",
       "3      377      0  sxm-ecommerce-p66-location-data/freqs/img_45.5...\n",
       "4      309      1  sxm-ecommerce-p66-location-data/freqs/img_40.1...\n",
       "..     ...    ...                                                ...\n",
       "155    268      0  sxm-ecommerce-p66-location-data/freqs/img_39.0...\n",
       "156    157      0  sxm-ecommerce-p66-location-data/freqs/img_36.4...\n",
       "157    188      1  sxm-ecommerce-p66-location-data/freqs/img_37.5...\n",
       "158    210      1  sxm-ecommerce-p66-location-data/freqs/img_38.0...\n",
       "159    319      0  sxm-ecommerce-p66-location-data/freqs/img_40.5...\n",
       "\n",
       "[160 rows x 3 columns]"
      ]
     },
     "execution_count": 19,
     "metadata": {},
     "output_type": "execute_result"
    }
   ],
   "source": [
    "testing"
   ]
  },
  {
   "cell_type": "code",
   "execution_count": null,
   "metadata": {},
   "outputs": [],
   "source": []
  }
 ],
 "metadata": {
  "instance_type": "ml.g4dn.xlarge",
  "kernelspec": {
   "display_name": "Python 3 (Data Science)",
   "language": "python",
   "name": "python3__SAGEMAKER_INTERNAL__arn:aws:sagemaker:us-east-1:081325390199:image/datascience-1.0"
  },
  "language_info": {
   "codemirror_mode": {
    "name": "ipython",
    "version": 3
   },
   "file_extension": ".py",
   "mimetype": "text/x-python",
   "name": "python",
   "nbconvert_exporter": "python",
   "pygments_lexer": "ipython3",
   "version": "3.7.10"
  }
 },
 "nbformat": 4,
 "nbformat_minor": 4
}
