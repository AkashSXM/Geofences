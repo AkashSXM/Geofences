{
 "cells": [
  {
   "cell_type": "code",
   "execution_count": 1,
   "metadata": {},
   "outputs": [
    {
     "name": "stderr",
     "output_type": "stream",
     "text": [
      "The method get_image_uri has been renamed in sagemaker>=2.\n",
      "See: https://sagemaker.readthedocs.io/en/stable/v2.html for details.\n",
      "Defaulting to the only supported framework/algorithm version: 1. Ignoring framework/algorithm version: 1.\n"
     ]
    },
    {
     "name": "stdout",
     "output_type": "stream",
     "text": [
      "arn:aws:iam::969580840594:role/sxm-ecomm-sagemaker-role-dev\n",
      "CPU times: user 520 ms, sys: 119 ms, total: 638 ms\n",
      "Wall time: 624 ms\n"
     ]
    }
   ],
   "source": [
    "%%time\n",
    "import boto3\n",
    "from sagemaker import get_execution_role\n",
    "from sagemaker.amazon.amazon_estimator import get_image_uri\n",
    "\n",
    "role = get_execution_role()\n",
    "print(role)\n",
    "bucket = 'sxm-ecomm-sagemaker-dev'\n",
    "\n",
    "training_image = get_image_uri(boto3.Session().region_name, \"image-classification\")"
   ]
  },
  {
   "cell_type": "code",
   "execution_count": 2,
   "metadata": {},
   "outputs": [],
   "source": [
    "# Four channels: train, validation, train_lst, and validation_lst\n",
    "s3training = \"s3://{}/image-classification/training/\".format(bucket)\n",
    "s3validation = \"s3://{}/image-classification/validation/\".format(bucket)\n",
    "s3training_lst = \"s3://{}/image-classification/training_lst/\".format(bucket)\n",
    "s3validation_lst = \"s3://{}/image-classification/validation_lst/\".format(bucket)"
   ]
  },
  {
   "cell_type": "code",
   "execution_count": 3,
   "metadata": {},
   "outputs": [],
   "source": [
    "# The algorithm supports multiple network depth (number of layers). They are 18, 34, 50, 101, 152 and 200\n",
    "# For this training, we will use 18 layers\n",
    "num_layers = 18\n",
    "# we need to specify the input image shape for the training data\n",
    "image_shape = \"3,600,600\"\n",
    "# we also need to specify the number of training samples in the training set\n",
    "num_training_samples = 320\n",
    "# specify the number of output classes\n",
    "num_classes = 2\n",
    "# batch size for training\n",
    "mini_batch_size = 16\n",
    "# number of epochs\n",
    "epochs = 20\n",
    "# learning rate\n",
    "learning_rate = 0.01\n",
    "# report top_5 accuracy\n",
    "top_k = 5\n",
    "# resize image before training\n",
    "resize = 600\n",
    "# period to store model parameters (in number of epochs), in this case, we will save parameters from epoch 2, 4, and 6\n",
    "checkpoint_frequency = 2\n",
    "# Since we are using transfer learning, we set use_pretrained_model to 1 so that weights can be\n",
    "# initialized with pre-trained weights\n",
    "use_pretrained_model = 1"
   ]
  },
  {
   "cell_type": "code",
   "execution_count": 4,
   "metadata": {},
   "outputs": [
    {
     "name": "stdout",
     "output_type": "stream",
     "text": [
      "Training job name: road-classifier-18-16-20-1---2021-08-04-17-40-53\n",
      "\n",
      "Input Data Location: {'S3DataType': 'S3Prefix', 'S3Uri': 's3://sxm-ecomm-sagemaker-dev/image-classification/training/', 'S3DataDistributionType': 'FullyReplicated'}\n",
      "CPU times: user 85.8 ms, sys: 3.68 ms, total: 89.4 ms\n",
      "Wall time: 89 ms\n"
     ]
    }
   ],
   "source": [
    "%%time\n",
    "import time\n",
    "import boto3\n",
    "from time import gmtime, strftime\n",
    "\n",
    "\n",
    "s3 = boto3.client(\"s3\")\n",
    "# create unique job name\n",
    "job_name_prefix = \"road-classifier\"\n",
    "timestamp = time.strftime(\"-%Y-%m-%d-%H-%M-%S\", time.gmtime())\n",
    "job_name = job_name_prefix + \"-\" + str(num_layers) + \"-\" + str(mini_batch_size) + \"-\" + str(epochs) + \"-\" + str(int(100*learning_rate)) + \"--\" + timestamp\n",
    "training_params = {\n",
    "    # specify the training docker image\n",
    "    \"AlgorithmSpecification\": {\"TrainingImage\": training_image, \"TrainingInputMode\": \"File\"},\n",
    "    \"RoleArn\": role,\n",
    "    \"OutputDataConfig\": {\"S3OutputPath\": \"s3://{}/{}/output\".format(bucket, job_name_prefix)},\n",
    "    \"ResourceConfig\": {\"InstanceCount\": 1, \"InstanceType\": \"ml.p2.xlarge\", \"VolumeSizeInGB\": 50},\n",
    "    \"TrainingJobName\": job_name,\n",
    "    \"HyperParameters\": {\n",
    "        \"image_shape\": image_shape,\n",
    "        \"num_layers\": str(num_layers),\n",
    "        \"num_training_samples\": str(num_training_samples),\n",
    "        \"num_classes\": str(num_classes),\n",
    "        \"mini_batch_size\": str(mini_batch_size),\n",
    "        \"epochs\": str(epochs),\n",
    "        \"learning_rate\": str(learning_rate),\n",
    "        \"top_k\": str(top_k),\n",
    "        \"resize\": str(resize),\n",
    "        \"checkpoint_frequency\": str(checkpoint_frequency),\n",
    "        \"use_pretrained_model\": str(use_pretrained_model),\n",
    "    },\n",
    "    \"StoppingCondition\": {\"MaxRuntimeInSeconds\": 360000},\n",
    "    # Training data should be inside a subdirectory called \"train\"\n",
    "    # Validation data should be inside a subdirectory called \"validation\"\n",
    "    # The algorithm currently only supports fullyreplicated model (where data is copied onto each machine)\n",
    "    \"InputDataConfig\": [\n",
    "        {\n",
    "            \"ChannelName\": \"train\",\n",
    "            \"DataSource\": {\n",
    "                \"S3DataSource\": {\n",
    "                    \"S3DataType\": \"S3Prefix\",\n",
    "                    \"S3Uri\": s3training,\n",
    "                    \"S3DataDistributionType\": \"FullyReplicated\",\n",
    "                }\n",
    "            },\n",
    "            \"ContentType\": \"application/x-image\",\n",
    "            \"CompressionType\": \"None\",\n",
    "        },\n",
    "        {\n",
    "            \"ChannelName\": \"validation\",\n",
    "            \"DataSource\": {\n",
    "                \"S3DataSource\": {\n",
    "                    \"S3DataType\": \"S3Prefix\",\n",
    "                    \"S3Uri\": s3validation,\n",
    "                    \"S3DataDistributionType\": \"FullyReplicated\",\n",
    "                }\n",
    "            },\n",
    "            \"ContentType\": \"application/x-image\",\n",
    "            \"CompressionType\": \"None\",\n",
    "        },\n",
    "        {\n",
    "            \"ChannelName\": \"train_lst\",\n",
    "            \"DataSource\": {\n",
    "                \"S3DataSource\": {\n",
    "                    \"S3DataType\": \"S3Prefix\",\n",
    "                    \"S3Uri\": s3training_lst,\n",
    "                    \"S3DataDistributionType\": \"FullyReplicated\",\n",
    "                }\n",
    "            },\n",
    "            \"ContentType\": \"application/x-image\",\n",
    "            \"CompressionType\": \"None\",\n",
    "        },\n",
    "        {\n",
    "            \"ChannelName\": \"validation_lst\",\n",
    "            \"DataSource\": {\n",
    "                \"S3DataSource\": {\n",
    "                    \"S3DataType\": \"S3Prefix\",\n",
    "                    \"S3Uri\": s3validation_lst,\n",
    "                    \"S3DataDistributionType\": \"FullyReplicated\",\n",
    "                }\n",
    "            },\n",
    "            \"ContentType\": \"application/x-image\",\n",
    "            \"CompressionType\": \"None\",\n",
    "        },\n",
    "    ],\n",
    "}\n",
    "print(\"Training job name: {}\".format(job_name))\n",
    "print(\n",
    "    \"\\nInput Data Location: {}\".format(\n",
    "        training_params[\"InputDataConfig\"][0][\"DataSource\"][\"S3DataSource\"]\n",
    "    )\n",
    ")"
   ]
  },
  {
   "cell_type": "code",
   "execution_count": 5,
   "metadata": {},
   "outputs": [],
   "source": [
    "sagemaker = boto3.client(service_name=\"sagemaker\")"
   ]
  },
  {
   "cell_type": "code",
   "execution_count": 6,
   "metadata": {},
   "outputs": [
    {
     "name": "stdout",
     "output_type": "stream",
     "text": [
      "Training job current status: InProgress\n",
      "Training job ended with status: Completed\n"
     ]
    }
   ],
   "source": [
    "# create the Amazon SageMaker training job\n",
    "sagemaker = boto3.client(service_name=\"sagemaker\")\n",
    "sagemaker.create_training_job(**training_params)\n",
    "\n",
    "# confirm that the training job has started\n",
    "status = sagemaker.describe_training_job(TrainingJobName=job_name)[\"TrainingJobStatus\"]\n",
    "print(\"Training job current status: {}\".format(status))\n",
    "\n",
    "try:\n",
    "    # wait for the job to finish and report the ending status\n",
    "    sagemaker.get_waiter(\"training_job_completed_or_stopped\").wait(TrainingJobName=job_name)\n",
    "    training_info = sagemaker.describe_training_job(TrainingJobName=job_name)\n",
    "    status = training_info[\"TrainingJobStatus\"]\n",
    "    print(\"Training job ended with status: \" + status)\n",
    "except:\n",
    "    print(\"Training failed to start\")\n",
    "    # if exception is raised, that means it has failed\n",
    "    message = sagemaker.describe_training_job(TrainingJobName=job_name)[\"FailureReason\"]\n",
    "    print(\"Training failed with the following error: {}\".format(message))"
   ]
  },
  {
   "cell_type": "code",
   "execution_count": 7,
   "metadata": {},
   "outputs": [
    {
     "name": "stdout",
     "output_type": "stream",
     "text": [
      "Training job ended with status: Completed\n",
      "{'TrainingJobName': 'road-classifier-18-16-20-1---2021-08-04-17-40-53', 'TrainingJobArn': 'arn:aws:sagemaker:us-east-1:969580840594:training-job/road-classifier-18-16-20-1---2021-08-04-17-40-53', 'ModelArtifacts': {'S3ModelArtifacts': 's3://sxm-ecomm-sagemaker-dev/road-classifier/output/road-classifier-18-16-20-1---2021-08-04-17-40-53/output/model.tar.gz'}, 'TrainingJobStatus': 'Completed', 'SecondaryStatus': 'Completed', 'HyperParameters': {'checkpoint_frequency': '2', 'epochs': '20', 'image_shape': '3,600,600', 'learning_rate': '0.01', 'mini_batch_size': '16', 'num_classes': '2', 'num_layers': '18', 'num_training_samples': '320', 'resize': '600', 'top_k': '5', 'use_pretrained_model': '1'}, 'AlgorithmSpecification': {'TrainingImage': '811284229777.dkr.ecr.us-east-1.amazonaws.com/image-classification:1', 'TrainingInputMode': 'File', 'MetricDefinitions': [{'Name': 'train:accuracy', 'Regex': 'Epoch\\\\S* Train-accuracy=(\\\\S*)'}, {'Name': 'validation:accuracy', 'Regex': 'Epoch\\\\S* Validation-accuracy=(\\\\S*)'}, {'Name': 'train:accuracy:epoch', 'Regex': 'Epoch\\\\S* Train-accuracy=(\\\\S*)'}, {'Name': 'validation:accuracy:epoch', 'Regex': 'Epoch\\\\S* Validation-accuracy=(\\\\S*)'}], 'EnableSageMakerMetricsTimeSeries': False}, 'RoleArn': 'arn:aws:iam::969580840594:role/sxm-ecomm-sagemaker-role-dev', 'InputDataConfig': [{'ChannelName': 'train', 'DataSource': {'S3DataSource': {'S3DataType': 'S3Prefix', 'S3Uri': 's3://sxm-ecomm-sagemaker-dev/image-classification/training/', 'S3DataDistributionType': 'FullyReplicated'}}, 'ContentType': 'application/x-image', 'CompressionType': 'None', 'RecordWrapperType': 'None'}, {'ChannelName': 'validation', 'DataSource': {'S3DataSource': {'S3DataType': 'S3Prefix', 'S3Uri': 's3://sxm-ecomm-sagemaker-dev/image-classification/validation/', 'S3DataDistributionType': 'FullyReplicated'}}, 'ContentType': 'application/x-image', 'CompressionType': 'None', 'RecordWrapperType': 'None'}, {'ChannelName': 'train_lst', 'DataSource': {'S3DataSource': {'S3DataType': 'S3Prefix', 'S3Uri': 's3://sxm-ecomm-sagemaker-dev/image-classification/training_lst/', 'S3DataDistributionType': 'FullyReplicated'}}, 'ContentType': 'application/x-image', 'CompressionType': 'None', 'RecordWrapperType': 'None'}, {'ChannelName': 'validation_lst', 'DataSource': {'S3DataSource': {'S3DataType': 'S3Prefix', 'S3Uri': 's3://sxm-ecomm-sagemaker-dev/image-classification/validation_lst/', 'S3DataDistributionType': 'FullyReplicated'}}, 'ContentType': 'application/x-image', 'CompressionType': 'None', 'RecordWrapperType': 'None'}], 'OutputDataConfig': {'KmsKeyId': '', 'S3OutputPath': 's3://sxm-ecomm-sagemaker-dev/road-classifier/output'}, 'ResourceConfig': {'InstanceType': 'ml.p2.xlarge', 'InstanceCount': 1, 'VolumeSizeInGB': 50}, 'StoppingCondition': {'MaxRuntimeInSeconds': 360000}, 'CreationTime': datetime.datetime(2021, 8, 4, 17, 41, 0, 22000, tzinfo=tzlocal()), 'TrainingStartTime': datetime.datetime(2021, 8, 4, 17, 46, 22, 250000, tzinfo=tzlocal()), 'TrainingEndTime': datetime.datetime(2021, 8, 4, 17, 55, 18, 147000, tzinfo=tzlocal()), 'LastModifiedTime': datetime.datetime(2021, 8, 4, 17, 55, 18, 147000, tzinfo=tzlocal()), 'SecondaryStatusTransitions': [{'Status': 'Starting', 'StartTime': datetime.datetime(2021, 8, 4, 17, 41, 0, 22000, tzinfo=tzlocal()), 'EndTime': datetime.datetime(2021, 8, 4, 17, 46, 22, 250000, tzinfo=tzlocal()), 'StatusMessage': 'Preparing the instances for training'}, {'Status': 'Downloading', 'StartTime': datetime.datetime(2021, 8, 4, 17, 46, 22, 250000, tzinfo=tzlocal()), 'EndTime': datetime.datetime(2021, 8, 4, 17, 47, 10, 409000, tzinfo=tzlocal()), 'StatusMessage': 'Downloading input data'}, {'Status': 'Training', 'StartTime': datetime.datetime(2021, 8, 4, 17, 47, 10, 409000, tzinfo=tzlocal()), 'EndTime': datetime.datetime(2021, 8, 4, 17, 54, 10, 980000, tzinfo=tzlocal()), 'StatusMessage': 'Training image download completed. Training in progress.'}, {'Status': 'Uploading', 'StartTime': datetime.datetime(2021, 8, 4, 17, 54, 10, 980000, tzinfo=tzlocal()), 'EndTime': datetime.datetime(2021, 8, 4, 17, 55, 18, 147000, tzinfo=tzlocal()), 'StatusMessage': 'Uploading generated training model'}, {'Status': 'Completed', 'StartTime': datetime.datetime(2021, 8, 4, 17, 55, 18, 147000, tzinfo=tzlocal()), 'EndTime': datetime.datetime(2021, 8, 4, 17, 55, 18, 147000, tzinfo=tzlocal()), 'StatusMessage': 'Training job completed'}], 'FinalMetricDataList': [{'MetricName': 'train:accuracy', 'Value': 0.9750000238418579, 'Timestamp': datetime.datetime(2021, 8, 4, 17, 54, 7, tzinfo=tzlocal())}, {'MetricName': 'validation:accuracy', 'Value': 0.9125000238418579, 'Timestamp': datetime.datetime(2021, 8, 4, 17, 54, 9, tzinfo=tzlocal())}, {'MetricName': 'train:accuracy:epoch', 'Value': 0.9750000238418579, 'Timestamp': datetime.datetime(2021, 8, 4, 17, 54, 7, tzinfo=tzlocal())}, {'MetricName': 'validation:accuracy:epoch', 'Value': 0.9125000238418579, 'Timestamp': datetime.datetime(2021, 8, 4, 17, 54, 9, tzinfo=tzlocal())}], 'EnableNetworkIsolation': False, 'EnableInterContainerTrafficEncryption': False, 'EnableManagedSpotTraining': False, 'TrainingTimeInSeconds': 536, 'BillableTimeInSeconds': 536, 'ProfilingStatus': 'Disabled', 'ResponseMetadata': {'RequestId': 'a4c30c43-6d74-45be-9703-541393b530d5', 'HTTPStatusCode': 200, 'HTTPHeaders': {'x-amzn-requestid': 'a4c30c43-6d74-45be-9703-541393b530d5', 'content-type': 'application/x-amz-json-1.1', 'content-length': '4529', 'date': 'Wed, 04 Aug 2021 17:57:00 GMT'}, 'RetryAttempts': 0}}\n"
     ]
    }
   ],
   "source": [
    "training_info = sagemaker.describe_training_job(TrainingJobName=job_name)\n",
    "status = training_info[\"TrainingJobStatus\"]\n",
    "print(\"Training job ended with status: \" + status)\n",
    "print(training_info)"
   ]
  },
  {
   "cell_type": "code",
   "execution_count": 11,
   "metadata": {},
   "outputs": [
    {
     "name": "stderr",
     "output_type": "stream",
     "text": [
      "The method get_image_uri has been renamed in sagemaker>=2.\n",
      "See: https://sagemaker.readthedocs.io/en/stable/v2.html for details.\n",
      "Defaulting to the only supported framework/algorithm version: 1. Ignoring framework/algorithm version: 1.\n"
     ]
    },
    {
     "name": "stdout",
     "output_type": "stream",
     "text": [
      "road-classification-transform-18-16-20-1---2021-08-04-18-04-38\n",
      "s3://sxm-ecomm-sagemaker-dev/road-classifier/output/road-classifier-18-16-20-1---2021-08-04-17-40-53/output/model.tar.gz\n",
      "arn:aws:sagemaker:us-east-1:969580840594:model/road-classification-transform-18-16-20-1---2021-08-04-18-04-38\n",
      "CPU times: user 76.1 ms, sys: 3.26 ms, total: 79.4 ms\n",
      "Wall time: 544 ms\n"
     ]
    }
   ],
   "source": [
    "%%time\n",
    "import boto3\n",
    "from time import gmtime, strftime\n",
    "\n",
    "sage = boto3.Session().client(service_name=\"sagemaker\")\n",
    "\n",
    "timestamp = time.strftime(\"-%Y-%m-%d-%H-%M-%S\", time.gmtime())\n",
    "model_name = 'road-classification-transform' + \"-\" + str(num_layers) + \"-\" + str(mini_batch_size) + \"-\" + str(epochs) + \"-\" + str(int(100*learning_rate)) + \"--\" + timestamp\n",
    "print(model_name)\n",
    "info = sage.describe_training_job(TrainingJobName=job_name)\n",
    "model_data = info[\"ModelArtifacts\"][\"S3ModelArtifacts\"]\n",
    "print(model_data)\n",
    "\n",
    "hosting_image = get_image_uri(boto3.Session().region_name, \"image-classification\")\n",
    "\n",
    "primary_container = {\n",
    "    \"Image\": hosting_image,\n",
    "    \"ModelDataUrl\": model_data,\n",
    "}\n",
    "\n",
    "create_model_response = sage.create_model(\n",
    "    ModelName=model_name, ExecutionRoleArn=role, PrimaryContainer=primary_container\n",
    ")\n",
    "\n",
    "print(create_model_response[\"ModelArn\"])"
   ]
  },
  {
   "cell_type": "code",
   "execution_count": 12,
   "metadata": {},
   "outputs": [
    {
     "name": "stdout",
     "output_type": "stream",
     "text": [
      "Transform job name: image-classification-model-2021-08-04-18-04-52\n",
      "\n",
      "Input Data Location: s3://sxm-ecomm-sagemaker-dev/image-classification/validation/\n"
     ]
    }
   ],
   "source": [
    "timestamp = time.strftime(\"-%Y-%m-%d-%H-%M-%S\", time.gmtime())\n",
    "batch_job_name = \"image-classification-model\" + timestamp\n",
    "batch_input = s3validation\n",
    "request = {\n",
    "    \"TransformJobName\": batch_job_name,\n",
    "    \"ModelName\": model_name,\n",
    "    \"MaxConcurrentTransforms\": 16,\n",
    "    \"MaxPayloadInMB\": 6,\n",
    "    \"BatchStrategy\": \"SingleRecord\",\n",
    "    \"TransformOutput\": {\"S3OutputPath\": \"s3://{}/{}/output\".format(bucket, batch_job_name)},\n",
    "    \"TransformInput\": {\n",
    "        \"DataSource\": {\"S3DataSource\": {\"S3DataType\": \"S3Prefix\", \"S3Uri\": batch_input}},\n",
    "        \"ContentType\": \"application/x-image\",\n",
    "        \"SplitType\": \"None\",\n",
    "        \"CompressionType\": \"None\",\n",
    "    },\n",
    "    \"TransformResources\": {\"InstanceType\": \"ml.p2.xlarge\", \"InstanceCount\": 1},\n",
    "}\n",
    "\n",
    "print(\"Transform job name: {}\".format(batch_job_name))\n",
    "print(\"\\nInput Data Location: {}\".format(batch_input))"
   ]
  },
  {
   "cell_type": "code",
   "execution_count": 13,
   "metadata": {},
   "outputs": [
    {
     "name": "stdout",
     "output_type": "stream",
     "text": [
      "Created Transform job with name:  image-classification-model-2021-08-04-18-04-52\n",
      "Transform job ended with status: Completed\n"
     ]
    }
   ],
   "source": [
    "sagemaker = boto3.client(\"sagemaker\")\n",
    "sagemaker.create_transform_job(**request)\n",
    "\n",
    "print(\"Created Transform job with name: \", batch_job_name)\n",
    "\n",
    "while True:\n",
    "    response = sagemaker.describe_transform_job(TransformJobName=batch_job_name)\n",
    "    status = response[\"TransformJobStatus\"]\n",
    "    if status == \"Completed\":\n",
    "        print(\"Transform job ended with status: \" + status)\n",
    "        break\n",
    "    if status == \"Failed\":\n",
    "        message = response[\"FailureReason\"]\n",
    "        print(\"Transform failed with the following error: {}\".format(message))\n",
    "        raise Exception(\"Transform job failed\")\n",
    "    time.sleep(30)"
   ]
  },
  {
   "cell_type": "code",
   "execution_count": 14,
   "metadata": {},
   "outputs": [
    {
     "name": "stdout",
     "output_type": "stream",
     "text": [
      "Sample output: ['image-classification-model-2021-08-04-18-04-52/output/other/img_21.331533_-157.865814_freq_4.png.out', 'image-classification-model-2021-08-04-18-04-52/output/other/img_29.449435_-95.078111_freq_1.png.out', 'image-classification-model-2021-08-04-18-04-52/output/other/img_29.449435_-95.078111_freq_4.png.out', 'image-classification-model-2021-08-04-18-04-52/output/other/img_32.012106_-90.357557_freq_4.png.out', 'image-classification-model-2021-08-04-18-04-52/output/other/img_32.156635_-94.345393_freq_2.png.out', 'image-classification-model-2021-08-04-18-04-52/output/other/img_32.755714_-117.126091_freq_2.png.out', 'image-classification-model-2021-08-04-18-04-52/output/other/img_32.781604_-97.388521_freq_1.png.out', 'image-classification-model-2021-08-04-18-04-52/output/other/img_33.836291_-118.328960_freq_4.png.out', 'image-classification-model-2021-08-04-18-04-52/output/other/img_34.077039_-118.046992_freq_1.png.out', 'image-classification-model-2021-08-04-18-04-52/output/other/img_34.493382_-118.199384_freq_4.png.out', 'image-classification-model-2021-08-04-18-04-52/output/other/img_34.983854_-97.370283_freq_4.png.out', 'image-classification-model-2021-08-04-18-04-52/output/other/img_35.270870_-111.544006_freq_4.png.out', 'image-classification-model-2021-08-04-18-04-52/output/other/img_35.463771_-97.417655_freq_2.png.out', 'image-classification-model-2021-08-04-18-04-52/output/other/img_35.463771_-97.417655_freq_4.png.out', 'image-classification-model-2021-08-04-18-04-52/output/other/img_35.507775_-87.226297_freq_4.png.out', 'image-classification-model-2021-08-04-18-04-52/output/other/img_35.929514_-94.966497_freq_1.png.out', 'image-classification-model-2021-08-04-18-04-52/output/other/img_35.929514_-94.966497_freq_3.png.out', 'image-classification-model-2021-08-04-18-04-52/output/other/img_35.929514_-94.966497_freq_4.png.out', 'image-classification-model-2021-08-04-18-04-52/output/other/img_36.168284_-95.922185_freq_2.png.out', 'image-classification-model-2021-08-04-18-04-52/output/other/img_36.642210_-93.204353_freq_3.png.out', 'image-classification-model-2021-08-04-18-04-52/output/other/img_37.315876_-122.031860_freq_1.png.out', 'image-classification-model-2021-08-04-18-04-52/output/other/img_37.754088_-100.044436_freq_2.png.out', 'image-classification-model-2021-08-04-18-04-52/output/other/img_38.051319_-97.935127_freq_4.png.out', 'image-classification-model-2021-08-04-18-04-52/output/other/img_38.306587_-90.531544_freq_2.png.out', 'image-classification-model-2021-08-04-18-04-52/output/other/img_38.542992_-90.192497_freq_3.png.out', 'image-classification-model-2021-08-04-18-04-52/output/other/img_38.542992_-90.192497_freq_4.png.out', 'image-classification-model-2021-08-04-18-04-52/output/other/img_38.567398_-90.495452_freq_2.png.out', 'image-classification-model-2021-08-04-18-04-52/output/other/img_38.567398_-90.495452_freq_4.png.out', 'image-classification-model-2021-08-04-18-04-52/output/other/img_38.685054_-90.339324_freq_4.png.out', 'image-classification-model-2021-08-04-18-04-52/output/other/img_38.709484_-90.880325_freq_4.png.out', 'image-classification-model-2021-08-04-18-04-52/output/other/img_38.798163_-90.559493_freq_1.png.out', 'image-classification-model-2021-08-04-18-04-52/output/other/img_38.856704_-104.719581_freq_4.png.out', 'image-classification-model-2021-08-04-18-04-52/output/other/img_38.974446_-94.551028_freq_2.png.out', 'image-classification-model-2021-08-04-18-04-52/output/other/img_39.173099_-91.886520_freq_1.png.out', 'image-classification-model-2021-08-04-18-04-52/output/other/img_39.392193_-119.790039_freq_4.png.out', 'image-classification-model-2021-08-04-18-04-52/output/other/img_39.620273_-104.888916_freq_4.png.out', 'image-classification-model-2021-08-04-18-04-52/output/other/img_39.695696_-105.071700_freq_1.png.out', 'image-classification-model-2021-08-04-18-04-52/output/other/img_39.914940_-105.006603_freq_1.png.out', 'image-classification-model-2021-08-04-18-04-52/output/other/img_40.051826_-105.055939_freq_2.png.out', 'image-classification-model-2021-08-04-18-04-52/output/other/img_40.364099_-111.742177_freq_1.png.out', 'image-classification-model-2021-08-04-18-04-52/output/other/img_40.588079_-111.958350_freq_2.png.out', 'image-classification-model-2021-08-04-18-04-52/output/other/img_40.588079_-111.958350_freq_4.png.out', 'image-classification-model-2021-08-04-18-04-52/output/other/img_40.804153_-96.682148_freq_2.png.out', 'image-classification-model-2021-08-04-18-04-52/output/other/img_40.826027_-91.208710_freq_2.png.out', 'image-classification-model-2021-08-04-18-04-52/output/other/img_41.260788_-96.177233_freq_4.png.out', 'image-classification-model-2021-08-04-18-04-52/output/other/img_42.325612_-88.983268_freq_2.png.out', 'image-classification-model-2021-08-04-18-04-52/output/other/img_42.325612_-88.983268_freq_4.png.out', 'image-classification-model-2021-08-04-18-04-52/output/other/img_42.530085_-98.971011_freq_1.png.out', 'image-classification-model-2021-08-04-18-04-52/output/other/img_43.467882_-112.003715_freq_1.png.out', 'image-classification-model-2021-08-04-18-04-52/output/other/img_44.045524_-122.966851_freq_2.png.out', 'image-classification-model-2021-08-04-18-04-52/output/other/img_45.306483_-122.948029_freq_3.png.out', 'image-classification-model-2021-08-04-18-04-52/output/other/img_45.306483_-122.948029_freq_4.png.out', 'image-classification-model-2021-08-04-18-04-52/output/other/img_45.504331_-122.475114_freq_1.png.out', 'image-classification-model-2021-08-04-18-04-52/output/other/img_46.316134_-117.988836_freq_4.png.out', 'image-classification-model-2021-08-04-18-04-52/output/other/img_47.138551_-122.525624_freq_2.png.out', 'image-classification-model-2021-08-04-18-04-52/output/road/img_31.782211_-97.576846_freq_1.png.out', 'image-classification-model-2021-08-04-18-04-52/output/road/img_32.012106_-90.357557_freq_3.png.out', 'image-classification-model-2021-08-04-18-04-52/output/road/img_34.556566_-117.288937_freq_2.png.out', 'image-classification-model-2021-08-04-18-04-52/output/road/img_34.556566_-117.288937_freq_3.png.out', 'image-classification-model-2021-08-04-18-04-52/output/road/img_35.270870_-111.544006_freq_2.png.out', 'image-classification-model-2021-08-04-18-04-52/output/road/img_36.168284_-95.922185_freq_1.png.out', 'image-classification-model-2021-08-04-18-04-52/output/road/img_36.493792_-90.064697_freq_3.png.out', 'image-classification-model-2021-08-04-18-04-52/output/road/img_36.642210_-93.204353_freq_2.png.out', 'image-classification-model-2021-08-04-18-04-52/output/road/img_37.056880_-120.855790_freq_2.png.out', 'image-classification-model-2021-08-04-18-04-52/output/road/img_37.754088_-100.044436_freq_3.png.out', 'image-classification-model-2021-08-04-18-04-52/output/road/img_37.761433_-122.477325_freq_1.png.out', 'image-classification-model-2021-08-04-18-04-52/output/road/img_37.810012_-122.245290_freq_3.png.out', 'image-classification-model-2021-08-04-18-04-52/output/road/img_38.051319_-97.935127_freq_3.png.out', 'image-classification-model-2021-08-04-18-04-52/output/road/img_38.856704_-104.719581_freq_3.png.out', 'image-classification-model-2021-08-04-18-04-52/output/road/img_39.014388_-94.736880_freq_2.png.out', 'image-classification-model-2021-08-04-18-04-52/output/road/img_39.392193_-119.790039_freq_3.png.out', 'image-classification-model-2021-08-04-18-04-52/output/road/img_39.620273_-104.888916_freq_3.png.out', 'image-classification-model-2021-08-04-18-04-52/output/road/img_39.695696_-105.071700_freq_3.png.out', 'image-classification-model-2021-08-04-18-04-52/output/road/img_39.875982_-75.121634_freq_1.png.out', 'image-classification-model-2021-08-04-18-04-52/output/road/img_40.127765_-75.347696_freq_2.png.out', 'image-classification-model-2021-08-04-18-04-52/output/road/img_40.364099_-111.742177_freq_3.png.out', 'image-classification-model-2021-08-04-18-04-52/output/road/img_42.436798_-96.413577_freq_3.png.out', 'image-classification-model-2021-08-04-18-04-52/output/road/img_44.045524_-122.966851_freq_3.png.out', 'image-classification-model-2021-08-04-18-04-52/output/road/img_45.415814_-122.593356_freq_3.png.out', 'image-classification-model-2021-08-04-18-04-52/output/road/img_46.316134_-117.988836_freq_1.png.out']\n"
     ]
    },
    {
     "data": {
      "text/plain": [
       "[('Not road', 1.0),\n",
       " ('Not road', 1.0),\n",
       " ('Not road', 1.0),\n",
       " ('Not road', 1.0),\n",
       " ('Not road', 1.0),\n",
       " ('Not road', 1.0),\n",
       " ('Not road', 0.9521150588989258),\n",
       " ('Not road', 1.0),\n",
       " ('Not road', 1.0),\n",
       " ('Not road', 1.0),\n",
       " ('Not road', 1.0),\n",
       " ('Not road', 1.0),\n",
       " ('Not road', 0.9990246295928955),\n",
       " ('Not road', 1.0),\n",
       " ('Not road', 1.0),\n",
       " ('Not road', 0.9999998807907104),\n",
       " ('Not road', 0.9999998807907104),\n",
       " ('Not road', 1.0),\n",
       " ('Not road', 1.0),\n",
       " ('Not road', 1.0),\n",
       " ('Not road', 1.0),\n",
       " ('Not road', 1.0),\n",
       " ('Not road', 1.0),\n",
       " ('Not road', 0.9999997615814209),\n",
       " ('Not road', 0.9521150588989258),\n",
       " ('Not road', 0.9966334700584412),\n",
       " ('Not road', 0.9949094653129578),\n",
       " ('Not road', 1.0),\n",
       " ('Not road', 1.0),\n",
       " ('Not road', 1.0),\n",
       " ('Not road', 0.9830880761146545),\n",
       " ('Not road', 1.0),\n",
       " ('Not road', 0.9999998807907104),\n",
       " ('Not road', 0.9999977350234985),\n",
       " ('Not road', 0.9999951124191284),\n",
       " ('Not road', 1.0),\n",
       " ('Not road', 0.9999973773956299),\n",
       " ('Not road', 0.9863182306289673),\n",
       " ('Not road', 0.9999998807907104),\n",
       " ('Not road', 0.9521150588989258),\n",
       " ('Not road', 0.6455249190330505),\n",
       " ('Not road', 1.0),\n",
       " ('Not road', 1.0),\n",
       " ('Not road', 0.9992617964744568),\n",
       " ('Not road', 1.0),\n",
       " ('Not road', 0.9999997615814209),\n",
       " ('Not road', 1.0),\n",
       " ('Not road', 0.9999912977218628),\n",
       " ('Not road', 0.9999996423721313),\n",
       " ('Not road', 0.9999998807907104),\n",
       " ('Not road', 1.0),\n",
       " ('Not road', 1.0),\n",
       " ('Not road', 0.9450108408927917),\n",
       " ('Not road', 1.0),\n",
       " ('Not road', 1.0),\n",
       " ('Not road', 1.0),\n",
       " ('Not road', 0.9999946355819702),\n",
       " ('Not road', 0.9836193919181824),\n",
       " ('Road', 0.9603716135025024),\n",
       " ('Road', 0.9694740772247314),\n",
       " ('Road', 1.0),\n",
       " ('Road', 1.0),\n",
       " ('Road', 0.9999954700469971),\n",
       " ('Road', 0.9971689581871033),\n",
       " ('Road', 0.9999994039535522),\n",
       " ('Road', 0.9999786615371704),\n",
       " ('Road', 0.999710738658905),\n",
       " ('Road', 0.9999997615814209),\n",
       " ('Not road', 0.9281041622161865),\n",
       " ('Road', 0.9865002036094666),\n",
       " ('Road', 0.9999979734420776),\n",
       " ('Road', 0.9999566078186035),\n",
       " ('Road', 0.9994818568229675),\n",
       " ('Not road', 0.9992741942405701),\n",
       " ('Not road', 1.0),\n",
       " ('Road', 0.9867406487464905),\n",
       " ('Road', 0.9896982312202454),\n",
       " ('Road', 0.9999724626541138),\n",
       " ('Not road', 0.9465484023094177),\n",
       " ('Road', 0.9991887211799622)]"
      ]
     },
     "execution_count": 14,
     "metadata": {},
     "output_type": "execute_result"
    }
   ],
   "source": [
    "from urllib.parse import urlparse\n",
    "import json\n",
    "import numpy as np\n",
    "\n",
    "s3_client = boto3.client(\"s3\")\n",
    "object_categories = [\"Not road\", \"Road\"]\n",
    "\n",
    "\n",
    "def list_objects(s3_client, bucket, prefix):\n",
    "    response = s3_client.list_objects(Bucket=bucket, Prefix=prefix)\n",
    "    objects = [content[\"Key\"] for content in response[\"Contents\"]]\n",
    "    return objects\n",
    "\n",
    "\n",
    "def get_label(s3_client, bucket, prefix):\n",
    "    filename = prefix.split(\"/\")[-1]\n",
    "    s3_client.download_file(bucket, prefix, filename)\n",
    "    with open(filename) as f:\n",
    "        data = json.load(f)\n",
    "        index = np.argmax(data[\"prediction\"])\n",
    "        probability = data[\"prediction\"][index]\n",
    "#     print(\"Result: label - \" + object_categories[index] + \", probability - \" + str(probability))\n",
    "    return object_categories[index], probability\n",
    "\n",
    "\n",
    "inputs = list_objects(s3_client, bucket, urlparse(batch_input).path.lstrip(\"/\"))\n",
    "# print(\"Sample inputs: \" + str(inputs[0:399]))\n",
    "\n",
    "outputs = list_objects(s3_client, bucket, batch_job_name + \"/output\")\n",
    "print(\"Sample output: \" + str(outputs[0:399]))\n",
    "\n",
    "# Check prediction result of the first 2 images\n",
    "[get_label(s3_client, bucket, prefix) for prefix in outputs[0:399]]"
   ]
  },
  {
   "cell_type": "code",
   "execution_count": null,
   "metadata": {},
   "outputs": [],
   "source": []
  }
 ],
 "metadata": {
  "instance_type": "ml.t3.medium",
  "kernelspec": {
   "display_name": "Python 3 (Data Science)",
   "language": "python",
   "name": "python3__SAGEMAKER_INTERNAL__arn:aws:sagemaker:us-east-1:081325390199:image/datascience-1.0"
  },
  "language_info": {
   "codemirror_mode": {
    "name": "ipython",
    "version": 3
   },
   "file_extension": ".py",
   "mimetype": "text/x-python",
   "name": "python",
   "nbconvert_exporter": "python",
   "pygments_lexer": "ipython3",
   "version": "3.7.10"
  }
 },
 "nbformat": 4,
 "nbformat_minor": 4
}
