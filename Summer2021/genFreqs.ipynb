{
 "cells": [
  {
   "cell_type": "code",
   "execution_count": 1,
   "metadata": {},
   "outputs": [],
   "source": [
    "#!pip install opencv-python\n",
    "#!apt-get update ##[edited]\n",
    "#!apt-get install ffmpeg libsm6 libxext6  -y"
   ]
  },
  {
   "cell_type": "code",
   "execution_count": 31,
   "metadata": {},
   "outputs": [],
   "source": [
    "from PIL import Image\n",
    "import pandas as pd\n",
    "import matplotlib.pyplot as plt\n",
    "import s3fs\n",
    "import numpy as np\n",
    "import boto3\n",
    "import cv2"
   ]
  },
  {
   "cell_type": "code",
   "execution_count": 32,
   "metadata": {},
   "outputs": [
    {
     "name": "stdout",
     "output_type": "stream",
     "text": [
      "['sxm-ecomm-sagemaker-dev/images/21.331533_-157.865814_19_600x600_approx.png', 'sxm-ecomm-sagemaker-dev/images/28.782888_-97.045563_19_600x600_approx.png', 'sxm-ecomm-sagemaker-dev/images/29.449435_-95.078111_19_600x600_approx.png', 'sxm-ecomm-sagemaker-dev/images/29.617713_-95.564214_19_600x600_approx.png', 'sxm-ecomm-sagemaker-dev/images/30.166849_-81.748018_19_600x600_approx.png', 'sxm-ecomm-sagemaker-dev/images/30.742342_-99.225417_19_600x600_approx.png', 'sxm-ecomm-sagemaker-dev/images/31.782211_-97.576846_19_600x600_approx.png', 'sxm-ecomm-sagemaker-dev/images/32.012106_-90.357557_19_600x600_approx.png', 'sxm-ecomm-sagemaker-dev/images/32.156635_-94.345393_19_600x600_approx.png', 'sxm-ecomm-sagemaker-dev/images/32.196769_-95.853902_19_600x600_approx.png', 'sxm-ecomm-sagemaker-dev/images/32.621311_-93.268366_19_600x600_approx.png', 'sxm-ecomm-sagemaker-dev/images/32.755714_-117.126091_19_600x600_approx.png', 'sxm-ecomm-sagemaker-dev/images/32.781604_-97.388521_19_600x600_approx.png', 'sxm-ecomm-sagemaker-dev/images/32.876899_-117.186056_19_600x600_approx.png', 'sxm-ecomm-sagemaker-dev/images/33.037973_-111.378656_19_600x600_approx.png', 'sxm-ecomm-sagemaker-dev/images/33.611694_-114.725608_19_600x600_approx.png', 'sxm-ecomm-sagemaker-dev/images/33.836291_-118.328960_19_600x600_approx.png', 'sxm-ecomm-sagemaker-dev/images/33.858246_-118.082556_19_600x600_approx.png', 'sxm-ecomm-sagemaker-dev/images/34.042803_-118.219286_19_600x600_approx.png', 'sxm-ecomm-sagemaker-dev/images/34.075591_-117.719565_19_600x600_approx.png', 'sxm-ecomm-sagemaker-dev/images/34.077039_-118.046992_19_600x600_approx.png', 'sxm-ecomm-sagemaker-dev/images/34.221697_-118.467373_19_600x600_approx.png', 'sxm-ecomm-sagemaker-dev/images/34.311032_-92.413717_19_600x600_approx.png', 'sxm-ecomm-sagemaker-dev/images/34.493382_-118.199384_19_600x600_approx.png', 'sxm-ecomm-sagemaker-dev/images/34.556566_-117.288937_19_600x600_approx.png', 'sxm-ecomm-sagemaker-dev/images/34.865696_-111.764206_19_600x600_approx.png', 'sxm-ecomm-sagemaker-dev/images/34.983854_-97.370283_19_600x600_approx.png', 'sxm-ecomm-sagemaker-dev/images/35.042763_-110.699142_19_600x600_approx.png', 'sxm-ecomm-sagemaker-dev/images/35.218759_-97.422209_19_600x600_approx.png', 'sxm-ecomm-sagemaker-dev/images/35.270870_-111.544006_19_600x600_approx.png', 'sxm-ecomm-sagemaker-dev/images/35.404598_-94.460398_19_600x600_approx.png', 'sxm-ecomm-sagemaker-dev/images/35.463771_-97.417655_19_600x600_approx.png', 'sxm-ecomm-sagemaker-dev/images/35.464036_-97.530790_19_600x600_approx.png', 'sxm-ecomm-sagemaker-dev/images/35.467226_-93.831410_19_600x600_approx.png', 'sxm-ecomm-sagemaker-dev/images/35.484282_-120.665052_19_600x600_approx.png', 'sxm-ecomm-sagemaker-dev/images/35.507775_-87.226297_19_600x600_approx.png', 'sxm-ecomm-sagemaker-dev/images/35.929514_-94.966497_19_600x600_approx.png', 'sxm-ecomm-sagemaker-dev/images/35.981815_-87.317253_19_600x600_approx.png', 'sxm-ecomm-sagemaker-dev/images/36.168284_-95.922185_19_600x600_approx.png', 'sxm-ecomm-sagemaker-dev/images/36.461764_-94.302287_19_600x600_approx.png', 'sxm-ecomm-sagemaker-dev/images/36.493792_-90.064697_19_600x600_approx.png', 'sxm-ecomm-sagemaker-dev/images/36.642210_-93.204353_19_600x600_approx.png', 'sxm-ecomm-sagemaker-dev/images/36.808486_-119.874246_19_600x600_approx.png', 'sxm-ecomm-sagemaker-dev/images/36.889373_-89.543597_19_600x600_approx.png', 'sxm-ecomm-sagemaker-dev/images/37.056880_-120.855790_19_600x600_approx.png', 'sxm-ecomm-sagemaker-dev/images/37.315876_-122.031860_19_600x600_approx.png', 'sxm-ecomm-sagemaker-dev/images/37.568253_-122.026146_19_600x600_approx.png', 'sxm-ecomm-sagemaker-dev/images/37.570248_-90.286181_19_600x600_approx.png', 'sxm-ecomm-sagemaker-dev/images/37.673163_-122.085555_19_600x600_approx.png', 'sxm-ecomm-sagemaker-dev/images/37.754088_-100.044436_19_600x600_approx.png', 'sxm-ecomm-sagemaker-dev/images/37.761433_-122.477325_19_600x600_approx.png', 'sxm-ecomm-sagemaker-dev/images/37.810012_-122.245290_19_600x600_approx.png', 'sxm-ecomm-sagemaker-dev/images/38.051319_-97.935127_19_600x600_approx.png', 'sxm-ecomm-sagemaker-dev/images/38.306587_-90.531544_19_600x600_approx.png', 'sxm-ecomm-sagemaker-dev/images/38.452114_-122.750846_19_600x600_approx.png', 'sxm-ecomm-sagemaker-dev/images/38.502609_-90.298036_19_600x600_approx.png', 'sxm-ecomm-sagemaker-dev/images/38.542992_-90.192497_19_600x600_approx.png', 'sxm-ecomm-sagemaker-dev/images/38.567398_-90.495452_19_600x600_approx.png', 'sxm-ecomm-sagemaker-dev/images/38.664221_-121.272608_19_600x600_approx.png', 'sxm-ecomm-sagemaker-dev/images/38.685054_-90.339324_19_600x600_approx.png', 'sxm-ecomm-sagemaker-dev/images/38.701206_-90.263960_19_600x600_approx.png', 'sxm-ecomm-sagemaker-dev/images/38.709484_-90.880325_19_600x600_approx.png', 'sxm-ecomm-sagemaker-dev/images/38.798163_-90.559493_19_600x600_approx.png', 'sxm-ecomm-sagemaker-dev/images/38.856704_-104.719581_19_600x600_approx.png', 'sxm-ecomm-sagemaker-dev/images/38.883829_-94.800514_19_600x600_approx.png', 'sxm-ecomm-sagemaker-dev/images/38.886021_-94.724304_19_600x600_approx.png', 'sxm-ecomm-sagemaker-dev/images/38.974446_-94.551028_19_600x600_approx.png', 'sxm-ecomm-sagemaker-dev/images/39.014388_-94.736880_19_600x600_approx.png', 'sxm-ecomm-sagemaker-dev/images/39.173099_-91.886520_19_600x600_approx.png', 'sxm-ecomm-sagemaker-dev/images/39.392193_-119.790039_19_600x600_approx.png', 'sxm-ecomm-sagemaker-dev/images/39.620273_-104.888916_19_600x600_approx.png', 'sxm-ecomm-sagemaker-dev/images/39.695696_-105.071700_19_600x600_approx.png', 'sxm-ecomm-sagemaker-dev/images/39.781769_-86.083413_19_600x600_approx.png', 'sxm-ecomm-sagemaker-dev/images/39.855786_-104.956085_19_600x600_approx.png', 'sxm-ecomm-sagemaker-dev/images/39.875982_-75.121634_19_600x600_approx.png', 'sxm-ecomm-sagemaker-dev/images/39.914940_-105.006603_19_600x600_approx.png', 'sxm-ecomm-sagemaker-dev/images/40.051826_-105.055939_19_600x600_approx.png', 'sxm-ecomm-sagemaker-dev/images/40.127765_-75.347696_19_600x600_approx.png', 'sxm-ecomm-sagemaker-dev/images/40.364099_-111.742177_19_600x600_approx.png', 'sxm-ecomm-sagemaker-dev/images/40.588079_-111.958350_19_600x600_approx.png', 'sxm-ecomm-sagemaker-dev/images/40.788970_-91.115783_19_600x600_approx.png', 'sxm-ecomm-sagemaker-dev/images/40.804153_-96.682148_19_600x600_approx.png', 'sxm-ecomm-sagemaker-dev/images/40.826027_-91.208710_19_600x600_approx.png', 'sxm-ecomm-sagemaker-dev/images/41.113269_-85.176869_19_600x600_approx.png', 'sxm-ecomm-sagemaker-dev/images/41.260788_-96.177233_19_600x600_approx.png', 'sxm-ecomm-sagemaker-dev/images/41.651033_-86.216179_19_600x600_approx.png', 'sxm-ecomm-sagemaker-dev/images/42.325612_-88.983268_19_600x600_approx.png', 'sxm-ecomm-sagemaker-dev/images/42.436798_-96.413577_19_600x600_approx.png', 'sxm-ecomm-sagemaker-dev/images/42.530085_-98.971011_19_600x600_approx.png', 'sxm-ecomm-sagemaker-dev/images/43.467882_-112.003715_19_600x600_approx.png', 'sxm-ecomm-sagemaker-dev/images/44.045524_-122.966851_19_600x600_approx.png', 'sxm-ecomm-sagemaker-dev/images/44.067844_-103.195831_19_600x600_approx.png', 'sxm-ecomm-sagemaker-dev/images/45.306483_-122.948029_19_600x600_approx.png', 'sxm-ecomm-sagemaker-dev/images/45.415814_-122.593356_19_600x600_approx.png', 'sxm-ecomm-sagemaker-dev/images/45.504331_-122.475114_19_600x600_approx.png', 'sxm-ecomm-sagemaker-dev/images/45.831864_-109.961836_19_600x600_approx.png', 'sxm-ecomm-sagemaker-dev/images/46.316134_-117.988836_19_600x600_approx.png', 'sxm-ecomm-sagemaker-dev/images/46.599908_-120.572529_19_600x600_approx.png', 'sxm-ecomm-sagemaker-dev/images/47.138551_-122.525624_19_600x600_approx.png', 'sxm-ecomm-sagemaker-dev/images/48.398601_-122.328557_19_600x600_approx.png']\n"
     ]
    }
   ],
   "source": [
    "fs = s3fs.S3FileSystem()\n",
    "\n",
    "# To List 5 files in your accessible bucket\n",
    "images = fs.ls('s3://sxm-ecomm-sagemaker-dev/images/')\n",
    "images = (images[1:])\n",
    "#print(images)\n",
    "print(images)"
   ]
  },
  {
   "cell_type": "code",
   "execution_count": 33,
   "metadata": {},
   "outputs": [],
   "source": [
    "# Get coords from s3 file\n",
    "#client = boto3.client('s3')\n",
    "#path = 's3://sxm-ecommerce-p66-location-data/coords/3000_coords.csv'\n",
    "#df = pd.read_csv(path)\n",
    "#df.drop('location_id', axis=1, inplace=True)\n",
    "#df.drop('merchant_location_id', axis=1, inplace=True)\n",
    "#df.sort_values(by=['merchant_location_latitude'], inplace=True)\n",
    "#df.to_csv('sorted_csv.csv', encoding='utf-8', index=False)"
   ]
  },
  {
   "cell_type": "code",
   "execution_count": 34,
   "metadata": {},
   "outputs": [],
   "source": [
    "#df = pd.read_csv('sorted_csv.csv')\n",
    "#df = df.drop(df.index[range(105)])\n",
    "#df.head()"
   ]
  },
  {
   "cell_type": "code",
   "execution_count": 35,
   "metadata": {},
   "outputs": [],
   "source": [
    "def scale_colors(uniqueColor, maxColor, minColor):    \n",
    "    for color_idx in argSortedCounts[-numColors:]:\n",
    "        color = uniqueColor[color_idx]\n",
    "        R = color[0]\n",
    "        G = color[1]\n",
    "        B = color[2]\n",
    "        maxColor = scale_max_color(maxColor, R, G, B)\n",
    "        minColor = scale_min_color(minColor, R, G, B)\n",
    "\n",
    "def scale_max_color(maxColor, R, G, B):\n",
    "    if R > maxColor[0]:\n",
    "            maxColor[0] = R\n",
    "    if G > maxColor[1]:\n",
    "            maxColor[1] = G\n",
    "    if B > maxColor[2]:\n",
    "            maxColor[2] = B\n",
    "    return maxColor\n",
    "                \n",
    "def scale_min_color(minColor, R, G, B):\n",
    "    if R < minColor[0]:\n",
    "        minColor[0] = R\n",
    "    if G < minColor[1]:\n",
    "        minColor[1] = G\n",
    "    if B < minColor[2]:\n",
    "        minColor[2] = B\n",
    "    return minColor"
   ]
  },
  {
   "cell_type": "code",
   "execution_count": 36,
   "metadata": {},
   "outputs": [],
   "source": [
    "def boost_contrast(i, minColor, maxcolor):\n",
    "    iContrast = np.zeros(i.shape)\n",
    "    iContrast = (i - minColor) * 255 / (maxColor - minColor)        \n",
    "    return iContrast"
   ]
  },
  {
   "cell_type": "code",
   "execution_count": 39,
   "metadata": {},
   "outputs": [
    {
     "name": "stderr",
     "output_type": "stream",
     "text": [
      "Clipping input data to the valid range for imshow with RGB data ([0..1] for floats or [0..255] for integers).\n",
      "Clipping input data to the valid range for imshow with RGB data ([0..1] for floats or [0..255] for integers).\n",
      "Clipping input data to the valid range for imshow with RGB data ([0..1] for floats or [0..255] for integers).\n",
      "Clipping input data to the valid range for imshow with RGB data ([0..1] for floats or [0..255] for integers).\n",
      "Clipping input data to the valid range for imshow with RGB data ([0..1] for floats or [0..255] for integers).\n",
      "Clipping input data to the valid range for imshow with RGB data ([0..1] for floats or [0..255] for integers).\n",
      "Clipping input data to the valid range for imshow with RGB data ([0..1] for floats or [0..255] for integers).\n",
      "Clipping input data to the valid range for imshow with RGB data ([0..1] for floats or [0..255] for integers).\n",
      "Clipping input data to the valid range for imshow with RGB data ([0..1] for floats or [0..255] for integers).\n",
      "Clipping input data to the valid range for imshow with RGB data ([0..1] for floats or [0..255] for integers).\n",
      "Clipping input data to the valid range for imshow with RGB data ([0..1] for floats or [0..255] for integers).\n",
      "Clipping input data to the valid range for imshow with RGB data ([0..1] for floats or [0..255] for integers).\n",
      "Clipping input data to the valid range for imshow with RGB data ([0..1] for floats or [0..255] for integers).\n",
      "Clipping input data to the valid range for imshow with RGB data ([0..1] for floats or [0..255] for integers).\n",
      "Clipping input data to the valid range for imshow with RGB data ([0..1] for floats or [0..255] for integers).\n",
      "Clipping input data to the valid range for imshow with RGB data ([0..1] for floats or [0..255] for integers).\n",
      "Clipping input data to the valid range for imshow with RGB data ([0..1] for floats or [0..255] for integers).\n",
      "Clipping input data to the valid range for imshow with RGB data ([0..1] for floats or [0..255] for integers).\n",
      "Clipping input data to the valid range for imshow with RGB data ([0..1] for floats or [0..255] for integers).\n",
      "Clipping input data to the valid range for imshow with RGB data ([0..1] for floats or [0..255] for integers).\n",
      "Clipping input data to the valid range for imshow with RGB data ([0..1] for floats or [0..255] for integers).\n",
      "Clipping input data to the valid range for imshow with RGB data ([0..1] for floats or [0..255] for integers).\n",
      "Clipping input data to the valid range for imshow with RGB data ([0..1] for floats or [0..255] for integers).\n",
      "Clipping input data to the valid range for imshow with RGB data ([0..1] for floats or [0..255] for integers).\n",
      "Clipping input data to the valid range for imshow with RGB data ([0..1] for floats or [0..255] for integers).\n",
      "Clipping input data to the valid range for imshow with RGB data ([0..1] for floats or [0..255] for integers).\n",
      "Clipping input data to the valid range for imshow with RGB data ([0..1] for floats or [0..255] for integers).\n",
      "Clipping input data to the valid range for imshow with RGB data ([0..1] for floats or [0..255] for integers).\n",
      "Clipping input data to the valid range for imshow with RGB data ([0..1] for floats or [0..255] for integers).\n",
      "Clipping input data to the valid range for imshow with RGB data ([0..1] for floats or [0..255] for integers).\n",
      "Clipping input data to the valid range for imshow with RGB data ([0..1] for floats or [0..255] for integers).\n",
      "Clipping input data to the valid range for imshow with RGB data ([0..1] for floats or [0..255] for integers).\n",
      "Clipping input data to the valid range for imshow with RGB data ([0..1] for floats or [0..255] for integers).\n",
      "Clipping input data to the valid range for imshow with RGB data ([0..1] for floats or [0..255] for integers).\n",
      "Clipping input data to the valid range for imshow with RGB data ([0..1] for floats or [0..255] for integers).\n",
      "Clipping input data to the valid range for imshow with RGB data ([0..1] for floats or [0..255] for integers).\n",
      "Clipping input data to the valid range for imshow with RGB data ([0..1] for floats or [0..255] for integers).\n",
      "Clipping input data to the valid range for imshow with RGB data ([0..1] for floats or [0..255] for integers).\n",
      "Clipping input data to the valid range for imshow with RGB data ([0..1] for floats or [0..255] for integers).\n",
      "Clipping input data to the valid range for imshow with RGB data ([0..1] for floats or [0..255] for integers).\n",
      "Clipping input data to the valid range for imshow with RGB data ([0..1] for floats or [0..255] for integers).\n",
      "Clipping input data to the valid range for imshow with RGB data ([0..1] for floats or [0..255] for integers).\n",
      "Clipping input data to the valid range for imshow with RGB data ([0..1] for floats or [0..255] for integers).\n",
      "Clipping input data to the valid range for imshow with RGB data ([0..1] for floats or [0..255] for integers).\n",
      "Clipping input data to the valid range for imshow with RGB data ([0..1] for floats or [0..255] for integers).\n",
      "Clipping input data to the valid range for imshow with RGB data ([0..1] for floats or [0..255] for integers).\n",
      "Clipping input data to the valid range for imshow with RGB data ([0..1] for floats or [0..255] for integers).\n",
      "Clipping input data to the valid range for imshow with RGB data ([0..1] for floats or [0..255] for integers).\n",
      "Clipping input data to the valid range for imshow with RGB data ([0..1] for floats or [0..255] for integers).\n",
      "Clipping input data to the valid range for imshow with RGB data ([0..1] for floats or [0..255] for integers).\n",
      "Clipping input data to the valid range for imshow with RGB data ([0..1] for floats or [0..255] for integers).\n",
      "Clipping input data to the valid range for imshow with RGB data ([0..1] for floats or [0..255] for integers).\n",
      "Clipping input data to the valid range for imshow with RGB data ([0..1] for floats or [0..255] for integers).\n",
      "Clipping input data to the valid range for imshow with RGB data ([0..1] for floats or [0..255] for integers).\n",
      "Clipping input data to the valid range for imshow with RGB data ([0..1] for floats or [0..255] for integers).\n",
      "Clipping input data to the valid range for imshow with RGB data ([0..1] for floats or [0..255] for integers).\n",
      "Clipping input data to the valid range for imshow with RGB data ([0..1] for floats or [0..255] for integers).\n",
      "Clipping input data to the valid range for imshow with RGB data ([0..1] for floats or [0..255] for integers).\n",
      "Clipping input data to the valid range for imshow with RGB data ([0..1] for floats or [0..255] for integers).\n",
      "Clipping input data to the valid range for imshow with RGB data ([0..1] for floats or [0..255] for integers).\n",
      "Clipping input data to the valid range for imshow with RGB data ([0..1] for floats or [0..255] for integers).\n",
      "Clipping input data to the valid range for imshow with RGB data ([0..1] for floats or [0..255] for integers).\n",
      "Clipping input data to the valid range for imshow with RGB data ([0..1] for floats or [0..255] for integers).\n",
      "Clipping input data to the valid range for imshow with RGB data ([0..1] for floats or [0..255] for integers).\n",
      "Clipping input data to the valid range for imshow with RGB data ([0..1] for floats or [0..255] for integers).\n",
      "Clipping input data to the valid range for imshow with RGB data ([0..1] for floats or [0..255] for integers).\n",
      "Clipping input data to the valid range for imshow with RGB data ([0..1] for floats or [0..255] for integers).\n",
      "Clipping input data to the valid range for imshow with RGB data ([0..1] for floats or [0..255] for integers).\n",
      "Clipping input data to the valid range for imshow with RGB data ([0..1] for floats or [0..255] for integers).\n",
      "Clipping input data to the valid range for imshow with RGB data ([0..1] for floats or [0..255] for integers).\n",
      "Clipping input data to the valid range for imshow with RGB data ([0..1] for floats or [0..255] for integers).\n",
      "Clipping input data to the valid range for imshow with RGB data ([0..1] for floats or [0..255] for integers).\n",
      "Clipping input data to the valid range for imshow with RGB data ([0..1] for floats or [0..255] for integers).\n",
      "Clipping input data to the valid range for imshow with RGB data ([0..1] for floats or [0..255] for integers).\n",
      "Clipping input data to the valid range for imshow with RGB data ([0..1] for floats or [0..255] for integers).\n",
      "Clipping input data to the valid range for imshow with RGB data ([0..1] for floats or [0..255] for integers).\n",
      "Clipping input data to the valid range for imshow with RGB data ([0..1] for floats or [0..255] for integers).\n",
      "Clipping input data to the valid range for imshow with RGB data ([0..1] for floats or [0..255] for integers).\n",
      "Clipping input data to the valid range for imshow with RGB data ([0..1] for floats or [0..255] for integers).\n",
      "Clipping input data to the valid range for imshow with RGB data ([0..1] for floats or [0..255] for integers).\n",
      "Clipping input data to the valid range for imshow with RGB data ([0..1] for floats or [0..255] for integers).\n",
      "Clipping input data to the valid range for imshow with RGB data ([0..1] for floats or [0..255] for integers).\n",
      "Clipping input data to the valid range for imshow with RGB data ([0..1] for floats or [0..255] for integers).\n",
      "Clipping input data to the valid range for imshow with RGB data ([0..1] for floats or [0..255] for integers).\n",
      "Clipping input data to the valid range for imshow with RGB data ([0..1] for floats or [0..255] for integers).\n",
      "Clipping input data to the valid range for imshow with RGB data ([0..1] for floats or [0..255] for integers).\n",
      "Clipping input data to the valid range for imshow with RGB data ([0..1] for floats or [0..255] for integers).\n",
      "Clipping input data to the valid range for imshow with RGB data ([0..1] for floats or [0..255] for integers).\n",
      "Clipping input data to the valid range for imshow with RGB data ([0..1] for floats or [0..255] for integers).\n",
      "Clipping input data to the valid range for imshow with RGB data ([0..1] for floats or [0..255] for integers).\n",
      "Clipping input data to the valid range for imshow with RGB data ([0..1] for floats or [0..255] for integers).\n",
      "Clipping input data to the valid range for imshow with RGB data ([0..1] for floats or [0..255] for integers).\n",
      "Clipping input data to the valid range for imshow with RGB data ([0..1] for floats or [0..255] for integers).\n",
      "Clipping input data to the valid range for imshow with RGB data ([0..1] for floats or [0..255] for integers).\n",
      "Clipping input data to the valid range for imshow with RGB data ([0..1] for floats or [0..255] for integers).\n",
      "Clipping input data to the valid range for imshow with RGB data ([0..1] for floats or [0..255] for integers).\n",
      "Clipping input data to the valid range for imshow with RGB data ([0..1] for floats or [0..255] for integers).\n",
      "Clipping input data to the valid range for imshow with RGB data ([0..1] for floats or [0..255] for integers).\n",
      "Clipping input data to the valid range for imshow with RGB data ([0..1] for floats or [0..255] for integers).\n",
      "Clipping input data to the valid range for imshow with RGB data ([0..1] for floats or [0..255] for integers).\n"
     ]
    },
    {
     "data": {
      "image/png": "[encoded data removed]",
      "text/plain": [
       "<Figure size 432x288 with 1 Axes>"
      ]
     },
     "metadata": {
      "needs_background": "light"
     },
     "output_type": "display_data"
    }
   ],
   "source": [
    "img_num = 0\n",
    "for image in images:\n",
    "#     image = 'sxm-ecommerce-p66-location-data/version2/training_images/30.166849_-81.748018_19_600x600_approx.png'\n",
    "\n",
    "    with fs.open(image) as f:\n",
    "        i = plt.imread(f, 0)\n",
    "        plt.imshow(i)\n",
    "        #print(i.shape)\n",
    "        flatImage = np.reshape(i, (i.shape[0]*i.shape[1], i.shape[2]))\n",
    "        \n",
    "        uniqueColor, counts = np.unique(flatImage, axis=0, return_counts=True)\n",
    "        #print(counts)\n",
    "        sortedCounts = np.sort(counts)\n",
    "        argSortedCounts = np.argsort(counts)\n",
    "        \n",
    "        kernelO = np.ones((5, 5), np.uint8)\n",
    "        \n",
    "        numColors = 4\n",
    "        maxColor = np.zeros(3)\n",
    "        minColor = np.array([255, 255, 255])\n",
    "        scale_colors(uniqueColor, maxColor, minColor)\n",
    "\n",
    "        contrast = boost_contrast(i, minColor, maxColor)\n",
    "        plt.imshow(contrast)\n",
    "        #plt.show()\n",
    "        \n",
    "        num = 0\n",
    "        for color_idx in argSortedCounts[-numColors:]:\n",
    "            #print(num)\n",
    "            num += 1\n",
    "            color = uniqueColor[color_idx]\n",
    "            \n",
    "            colorImage = i == color\n",
    "\n",
    "            stacked = np.sum(colorImage, axis=2)\n",
    "            stacked = stacked >= 3\n",
    "            stacked = np.asarray(stacked, dtype=float)\n",
    "            opened = cv2.morphologyEx(stacked, cv2.MORPH_OPEN, kernelO)\n",
    "\n",
    "            #lat_coords = df['merchant_location_latitude'].values[img_num]\n",
    "            #long_coords = df['merchant_location_longitude'].values[img_num]\n",
    "#             plt.imshow(opened)\n",
    "#             print(opened.shape)\n",
    "#             plt.title('%f, %f_Freq:%i' % (lat_coords, long_coords, num))\n",
    "#             plt.axis('off')\n",
    "#             plt.savefig('data/training_freqs/img_%f, %f_freq_%i.png' % (lat_coords, long_coords, num), bbox_inches='tight')\n",
    "            image = image.replace('sxm-ecomm-sagemaker-dev/images/', '')\n",
    "            coords_name = image.replace('_19_600x600_approx.png', '')\n",
    "            plt.imsave('data/output/freqs/img_%s_freq_%i.png' % (coords_name, num), opened)\n",
    "            #plt.show()\n",
    "    img_num +=1"
   ]
  },
  {
   "cell_type": "code",
   "execution_count": null,
   "metadata": {},
   "outputs": [],
   "source": []
  }
 ],
 "metadata": {
  "instance_type": "ml.t3.medium",
  "kernelspec": {
   "display_name": "Python 3 (Data Science)",
   "language": "python",
   "name": "python3__SAGEMAKER_INTERNAL__arn:aws:sagemaker:us-east-1:081325390199:image/datascience-1.0"
  },
  "language_info": {
   "codemirror_mode": {
    "name": "ipython",
    "version": 3
   },
   "file_extension": ".py",
   "mimetype": "text/x-python",
   "name": "python",
   "nbconvert_exporter": "python",
   "pygments_lexer": "ipython3",
   "version": "3.7.10"
  }
 },
 "nbformat": 4,
 "nbformat_minor": 4
}
