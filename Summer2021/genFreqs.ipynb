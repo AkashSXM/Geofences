{
 "cells": [
  {
   "cell_type": "code",
   "execution_count": 4,
   "metadata": {},
   "outputs": [],
   "source": [
    "#!pip install opencv-python\n",
    "#!apt-get update ##[edited]\n",
    "#!apt-get install ffmpeg libsm6 libxext6  -y"
   ]
  },
  {
   "cell_type": "code",
   "execution_count": 2,
   "metadata": {},
   "outputs": [],
   "source": [
    "from PIL import Image\n",
    "import pandas as pd\n",
    "import matplotlib.pyplot as plt\n",
    "import s3fs\n",
    "import numpy as np\n",
    "import boto3\n",
    "import cv2"
   ]
  },
  {
   "cell_type": "code",
   "execution_count": 9,
   "metadata": {},
   "outputs": [
    {
     "name": "stdout",
     "output_type": "stream",
     "text": [
      "['sxm-ecommerce-p66-location-data/version2/roadmap_imgs/47.488856_-122.161220_19_600x600_approx.png', 'sxm-ecommerce-p66-location-data/version2/roadmap_imgs/47.501553_-122.334039_19_600x600_approx.png', 'sxm-ecommerce-p66-location-data/version2/roadmap_imgs/47.505142_-122.610819_19_600x600_approx.png', 'sxm-ecommerce-p66-location-data/version2/roadmap_imgs/47.517206_-122.370955_19_600x600_approx.png', 'sxm-ecommerce-p66-location-data/version2/roadmap_imgs/47.519206_-122.627887_19_600x600_approx.png', 'sxm-ecommerce-p66-location-data/version2/roadmap_imgs/47.523816_-122.656330_19_600x600_approx.png', 'sxm-ecommerce-p66-location-data/version2/roadmap_imgs/47.529610_-114.097439_19_600x600_approx.png', 'sxm-ecommerce-p66-location-data/version2/roadmap_imgs/47.534790_-122.280451_19_600x600_approx.png', 'sxm-ecommerce-p66-location-data/version2/roadmap_imgs/47.536425_-122.392496_19_600x600_approx.png', 'sxm-ecommerce-p66-location-data/version2/roadmap_imgs/47.539015_-116.125325_19_600x600_approx.png', 'sxm-ecommerce-p66-location-data/version2/roadmap_imgs/47.544149_-122.036297_19_600x600_approx.png', 'sxm-ecommerce-p66-location-data/version2/roadmap_imgs/47.552759_-120.580584_19_600x600_approx.png', 'sxm-ecommerce-p66-location-data/version2/roadmap_imgs/47.554081_-122.363239_19_600x600_approx.png', 'sxm-ecommerce-p66-location-data/version2/roadmap_imgs/47.556251_-122.120954_19_600x600_approx.png', 'sxm-ecommerce-p66-location-data/version2/roadmap_imgs/47.558453_-111.544227_19_600x600_approx.png', 'sxm-ecommerce-p66-location-data/version2/roadmap_imgs/47.568270_-122.387102_19_600x600_approx.png', 'sxm-ecommerce-p66-location-data/version2/roadmap_imgs/47.570182_-122.662664_19_600x600_approx.png', 'sxm-ecommerce-p66-location-data/version2/roadmap_imgs/47.578095_-122.296505_19_600x600_approx.png', 'sxm-ecommerce-p66-location-data/version2/roadmap_imgs/47.605979_-110.266856_19_600x600_approx.png', 'sxm-ecommerce-p66-location-data/version2/roadmap_imgs/47.607193_-122.628120_19_600x600_approx.png', 'sxm-ecommerce-p66-location-data/version2/roadmap_imgs/47.608223_-114.626364_19_600x600_approx.png', 'sxm-ecommerce-p66-location-data/version2/roadmap_imgs/47.616327_-122.035126_19_600x600_approx.png', 'sxm-ecommerce-p66-location-data/version2/roadmap_imgs/47.617042_-122.184889_19_600x600_approx.png', 'sxm-ecommerce-p66-location-data/version2/roadmap_imgs/47.617209_-117.506079_19_600x600_approx.png', 'sxm-ecommerce-p66-location-data/version2/roadmap_imgs/47.618768_-122.349785_19_600x600_approx.png', 'sxm-ecommerce-p66-location-data/version2/roadmap_imgs/47.620565_-117.506967_19_600x600_approx.png', 'sxm-ecommerce-p66-location-data/version2/roadmap_imgs/47.625259_-122.320252_19_600x600_approx.png', 'sxm-ecommerce-p66-location-data/version2/roadmap_imgs/47.631918_-122.143591_19_600x600_approx.png', 'sxm-ecommerce-p66-location-data/version2/roadmap_imgs/47.635274_-122.227596_19_600x600_approx.png', 'sxm-ecommerce-p66-location-data/version2/roadmap_imgs/47.639385_-122.399879_19_600x600_approx.png', 'sxm-ecommerce-p66-location-data/version2/roadmap_imgs/47.654116_-122.706956_19_600x600_approx.png', 'sxm-ecommerce-p66-location-data/version2/roadmap_imgs/47.656098_-122.384384_19_600x600_approx.png', 'sxm-ecommerce-p66-location-data/version2/roadmap_imgs/47.661011_-122.684270_19_600x600_approx.png', 'sxm-ecommerce-p66-location-data/version2/roadmap_imgs/47.661186_-122.317912_19_600x600_approx.png', 'sxm-ecommerce-p66-location-data/version2/roadmap_imgs/47.662358_-122.349702_19_600x600_approx.png', 'sxm-ecommerce-p66-location-data/version2/roadmap_imgs/47.671045_-122.666950_19_600x600_approx.png', 'sxm-ecommerce-p66-location-data/version2/roadmap_imgs/47.671568_-122.114628_19_600x600_approx.png', 'sxm-ecommerce-p66-location-data/version2/roadmap_imgs/47.673607_-116.757574_19_600x600_approx.png', 'sxm-ecommerce-p66-location-data/version2/roadmap_imgs/47.674129_-117.111743_19_600x600_approx.png', 'sxm-ecommerce-p66-location-data/version2/roadmap_imgs/47.675377_-117.396081_19_600x600_approx.png', 'sxm-ecommerce-p66-location-data/version2/roadmap_imgs/47.677972_-117.426215_19_600x600_approx.png', 'sxm-ecommerce-p66-location-data/version2/roadmap_imgs/47.683347_-122.317742_19_600x600_approx.png', 'sxm-ecommerce-p66-location-data/version2/roadmap_imgs/47.684438_-120.207039_19_600x600_approx.png', 'sxm-ecommerce-p66-location-data/version2/roadmap_imgs/47.689227_-117.378659_19_600x600_approx.png', 'sxm-ecommerce-p66-location-data/version2/roadmap_imgs/47.690249_-122.344052_19_600x600_approx.png', 'sxm-ecommerce-p66-location-data/version2/roadmap_imgs/47.692334_-114.142285_19_600x600_approx.png', 'sxm-ecommerce-p66-location-data/version2/roadmap_imgs/47.692434_-114.137888_19_600x600_approx.png', 'sxm-ecommerce-p66-location-data/version2/roadmap_imgs/47.694240_-114.164094_19_600x600_approx.png', 'sxm-ecommerce-p66-location-data/version2/roadmap_imgs/47.705351_-122.355226_19_600x600_approx.png', 'sxm-ecommerce-p66-location-data/version2/roadmap_imgs/47.705473_-122.354957_19_600x600_approx.png', 'sxm-ecommerce-p66-location-data/version2/roadmap_imgs/47.708431_-122.332244_19_600x600_approx.png', 'sxm-ecommerce-p66-location-data/version2/roadmap_imgs/47.709149_-122.237290_19_600x600_approx.png', 'sxm-ecommerce-p66-location-data/version2/roadmap_imgs/47.710730_-117.364961_19_600x600_approx.png', 'sxm-ecommerce-p66-location-data/version2/roadmap_imgs/47.711345_-116.996878_19_600x600_approx.png', 'sxm-ecommerce-p66-location-data/version2/roadmap_imgs/47.711821_-122.186145_19_600x600_approx.png', 'sxm-ecommerce-p66-location-data/version2/roadmap_imgs/47.715111_-117.384345_19_600x600_approx.png', 'sxm-ecommerce-p66-location-data/version2/roadmap_imgs/47.715489_-117.421043_19_600x600_approx.png', 'sxm-ecommerce-p66-location-data/version2/roadmap_imgs/47.728375_-122.243719_19_600x600_approx.png', 'sxm-ecommerce-p66-location-data/version2/roadmap_imgs/47.728510_-122.243960_19_600x600_approx.png', 'sxm-ecommerce-p66-location-data/version2/roadmap_imgs/47.736163_-117.394453_19_600x600_approx.png', 'sxm-ecommerce-p66-location-data/version2/roadmap_imgs/47.745617_-117.019854_19_600x600_approx.png', 'sxm-ecommerce-p66-location-data/version2/roadmap_imgs/47.758693_-122.211185_19_600x600_approx.png', 'sxm-ecommerce-p66-location-data/version2/roadmap_imgs/47.764878_-122.364661_19_600x600_approx.png', 'sxm-ecommerce-p66-location-data/version2/roadmap_imgs/47.777208_-122.346603_19_600x600_approx.png', 'sxm-ecommerce-p66-location-data/version2/roadmap_imgs/47.787366_-116.789342_19_600x600_approx.png', 'sxm-ecommerce-p66-location-data/version2/roadmap_imgs/47.815225_-122.076155_19_600x600_approx.png', 'sxm-ecommerce-p66-location-data/version2/roadmap_imgs/47.848962_-122.011745_19_600x600_approx.png', 'sxm-ecommerce-p66-location-data/version2/roadmap_imgs/47.849904_-122.220979_19_600x600_approx.png', 'sxm-ecommerce-p66-location-data/version2/roadmap_imgs/47.913304_-122.099022_19_600x600_approx.png', 'sxm-ecommerce-p66-location-data/version2/roadmap_imgs/47.913951_-122.085908_19_600x600_approx.png', 'sxm-ecommerce-p66-location-data/version2/roadmap_imgs/47.914634_-117.349411_19_600x600_approx.png', 'sxm-ecommerce-p66-location-data/version2/roadmap_imgs/47.957976_-117.479032_19_600x600_approx.png', 'sxm-ecommerce-p66-location-data/version2/roadmap_imgs/47.962120_-116.868262_19_600x600_approx.png', 'sxm-ecommerce-p66-location-data/version2/roadmap_imgs/47.970289_-122.201685_19_600x600_approx.png', 'sxm-ecommerce-p66-location-data/version2/roadmap_imgs/47.976122_-122.211728_19_600x600_approx.png', 'sxm-ecommerce-p66-location-data/version2/roadmap_imgs/48.019109_-116.990941_19_600x600_approx.png', 'sxm-ecommerce-p66-location-data/version2/roadmap_imgs/48.051080_-122.167420_19_600x600_approx.png', 'sxm-ecommerce-p66-location-data/version2/roadmap_imgs/48.061666_-122.177340_19_600x600_approx.png', 'sxm-ecommerce-p66-location-data/version2/roadmap_imgs/48.079807_-123.104721_19_600x600_approx.png', 'sxm-ecommerce-p66-location-data/version2/roadmap_imgs/48.112760_-123.414825_19_600x600_approx.png', 'sxm-ecommerce-p66-location-data/version2/roadmap_imgs/48.113158_-123.418207_19_600x600_approx.png', 'sxm-ecommerce-p66-location-data/version2/roadmap_imgs/48.121482_-123.438821_19_600x600_approx.png', 'sxm-ecommerce-p66-location-data/version2/roadmap_imgs/48.185845_-114.307810_19_600x600_approx.png', 'sxm-ecommerce-p66-location-data/version2/roadmap_imgs/48.188274_-122.198764_19_600x600_approx.png', 'sxm-ecommerce-p66-location-data/version2/roadmap_imgs/48.198490_-114.322030_19_600x600_approx.png', 'sxm-ecommerce-p66-location-data/version2/roadmap_imgs/48.201154_-114.322213_19_600x600_approx.png', 'sxm-ecommerce-p66-location-data/version2/roadmap_imgs/48.203147_-114.310217_19_600x600_approx.png', 'sxm-ecommerce-p66-location-data/version2/roadmap_imgs/48.203641_-116.565749_19_600x600_approx.png', 'sxm-ecommerce-p66-location-data/version2/roadmap_imgs/48.215490_-114.274070_19_600x600_approx.png', 'sxm-ecommerce-p66-location-data/version2/roadmap_imgs/48.218943_-114.277633_19_600x600_approx.png', 'sxm-ecommerce-p66-location-data/version2/roadmap_imgs/48.237585_-122.241832_19_600x600_approx.png', 'sxm-ecommerce-p66-location-data/version2/roadmap_imgs/48.241321_-114.327622_19_600x600_approx.png', 'sxm-ecommerce-p66-location-data/version2/roadmap_imgs/48.308384_-116.546972_19_600x600_approx.png', 'sxm-ecommerce-p66-location-data/version2/roadmap_imgs/48.398622_-122.328572_19_600x600_approx.png', 'sxm-ecommerce-p66-location-data/version2/roadmap_imgs/48.435207_-122.290982_19_600x600_approx.png', 'sxm-ecommerce-p66-location-data/version2/roadmap_imgs/48.456223_-107.342429_19_600x600_approx.png', 'sxm-ecommerce-p66-location-data/version2/roadmap_imgs/48.468787_-117.887805_19_600x600_approx.png', 'sxm-ecommerce-p66-location-data/version2/roadmap_imgs/48.496430_-113.982595_19_600x600_approx.png', 'sxm-ecommerce-p66-location-data/version2/roadmap_imgs/48.514343_-110.952104_19_600x600_approx.png', 'sxm-ecommerce-p66-location-data/version2/roadmap_imgs/48.558210_-110.688466_19_600x600_approx.png', 'sxm-ecommerce-p66-location-data/version2/roadmap_imgs/48.607667_-118.072014_19_600x600_approx.png', 'sxm-ecommerce-p66-location-data/version2/roadmap_imgs/48.676875_-116.331476_19_600x600_approx.png', 'sxm-ecommerce-p66-location-data/version2/roadmap_imgs/48.764748_-122.485709_19_600x600_approx.png', 'sxm-ecommerce-p66-location-data/version2/roadmap_imgs/48.786303_-122.519966_19_600x600_approx.png', 'sxm-ecommerce-p66-location-data/version2/roadmap_imgs/48.818652_-122.627434_19_600x600_approx.png', 'sxm-ecommerce-p66-location-data/version2/roadmap_imgs/48.855848_-122.486602_19_600x600_approx.png', 'sxm-ecommerce-p66-location-data/version2/roadmap_imgs/48.891994_-122.442818_19_600x600_approx.png', 'sxm-ecommerce-p66-location-data/version2/roadmap_imgs/53.906781_27.515833_19_600x600_approx.png']\n"
     ]
    }
   ],
   "source": [
    "fs = s3fs.S3FileSystem()\n",
    "\n",
    "# To List 5 files in your accessible bucket\n",
    "images = fs.ls('s3://sxm-ecommerce-p66-location-data/version2/roadmap_imgs')\n",
    "images = (images[1:])\n",
    "#print(images)\n",
    "images = (images[2519:])\n",
    "print(images)"
   ]
  },
  {
   "cell_type": "code",
   "execution_count": 10,
   "metadata": {},
   "outputs": [],
   "source": [
    "# Get coords from s3 file\n",
    "#client = boto3.client('s3')\n",
    "#path = 's3://sxm-ecommerce-p66-location-data/coords/3000_coords.csv'\n",
    "#df = pd.read_csv(path)\n",
    "#df.drop('location_id', axis=1, inplace=True)\n",
    "#df.drop('merchant_location_id', axis=1, inplace=True)\n",
    "#df.sort_values(by=['merchant_location_latitude'], inplace=True)\n",
    "#df.to_csv('sorted_csv.csv', encoding='utf-8', index=False)"
   ]
  },
  {
   "cell_type": "code",
   "execution_count": 11,
   "metadata": {},
   "outputs": [],
   "source": [
    "#df = pd.read_csv('sorted_csv.csv')\n",
    "#df = df.drop(df.index[range(105)])\n",
    "#df.head()"
   ]
  },
  {
   "cell_type": "code",
   "execution_count": 12,
   "metadata": {},
   "outputs": [],
   "source": [
    "def scale_colors(uniqueColor, maxColor, minColor):    \n",
    "    for color_idx in argSortedCounts[-numColors:]:\n",
    "        color = uniqueColor[color_idx]\n",
    "        R = color[0]\n",
    "        G = color[1]\n",
    "        B = color[2]\n",
    "        maxColor = scale_max_color(maxColor, R, G, B)\n",
    "        minColor = scale_min_color(minColor, R, G, B)\n",
    "\n",
    "def scale_max_color(maxColor, R, G, B):\n",
    "    if R > maxColor[0]:\n",
    "            maxColor[0] = R\n",
    "    if G > maxColor[1]:\n",
    "            maxColor[1] = G\n",
    "    if B > maxColor[2]:\n",
    "            maxColor[2] = B\n",
    "    return maxColor\n",
    "                \n",
    "def scale_min_color(minColor, R, G, B):\n",
    "    if R < minColor[0]:\n",
    "        minColor[0] = R\n",
    "    if G < minColor[1]:\n",
    "        minColor[1] = G\n",
    "    if B < minColor[2]:\n",
    "        minColor[2] = B\n",
    "    return minColor"
   ]
  },
  {
   "cell_type": "code",
   "execution_count": 13,
   "metadata": {},
   "outputs": [],
   "source": [
    "def boost_contrast(i, minColor, maxcolor):\n",
    "    iContrast = np.zeros(i.shape)\n",
    "    iContrast = (i - minColor) * 255 / (maxColor - minColor)        \n",
    "    return iContrast"
   ]
  },
  {
   "cell_type": "code",
   "execution_count": null,
   "metadata": {},
   "outputs": [
    {
     "name": "stderr",
     "output_type": "stream",
     "text": [
      "Clipping input data to the valid range for imshow with RGB data ([0..1] for floats or [0..255] for integers).\n",
      "Clipping input data to the valid range for imshow with RGB data ([0..1] for floats or [0..255] for integers).\n",
      "Clipping input data to the valid range for imshow with RGB data ([0..1] for floats or [0..255] for integers).\n",
      "Clipping input data to the valid range for imshow with RGB data ([0..1] for floats or [0..255] for integers).\n",
      "Clipping input data to the valid range for imshow with RGB data ([0..1] for floats or [0..255] for integers).\n",
      "Clipping input data to the valid range for imshow with RGB data ([0..1] for floats or [0..255] for integers).\n",
      "Clipping input data to the valid range for imshow with RGB data ([0..1] for floats or [0..255] for integers).\n",
      "Clipping input data to the valid range for imshow with RGB data ([0..1] for floats or [0..255] for integers).\n"
     ]
    }
   ],
   "source": [
    "img_num = 0\n",
    "for image in images:\n",
    "#     image = 'sxm-ecommerce-p66-location-data/version2/training_images/30.166849_-81.748018_19_600x600_approx.png'\n",
    "\n",
    "    with fs.open(image) as f:\n",
    "        i = plt.imread(f, 0)\n",
    "        plt.imshow(i)\n",
    "        flatImage = np.reshape(i, (i.shape[0]*i.shape[1], i.shape[2]))\n",
    "        \n",
    "        uniqueColor, counts = np.unique(flatImage, axis=0, return_counts=True)\n",
    "        sortedCounts = np.sort(counts)\n",
    "        argSortedCounts = np.argsort(counts)\n",
    "        \n",
    "        kernelO = np.ones((5, 5), np.uint8)\n",
    "        \n",
    "        numColors = 4\n",
    "        maxColor = np.zeros(3)\n",
    "        minColor = np.array([255, 255, 255])\n",
    "        scale_colors(uniqueColor, maxColor, minColor)\n",
    "\n",
    "        contrast = boost_contrast(i, minColor, maxColor)\n",
    "        plt.imshow(contrast)\n",
    "        #plt.show()\n",
    "        \n",
    "        num = 0\n",
    "        for color_idx in argSortedCounts[-numColors:]:\n",
    "            #print(num)\n",
    "            num += 1\n",
    "            color = uniqueColor[color_idx]\n",
    "            \n",
    "            colorImage = i == color\n",
    "\n",
    "            stacked = np.sum(colorImage, axis=2)\n",
    "            stacked = stacked >= 3\n",
    "            stacked = np.asarray(stacked, dtype=float)\n",
    "            opened = cv2.morphologyEx(stacked, cv2.MORPH_OPEN, kernelO)\n",
    "\n",
    "            #lat_coords = df['merchant_location_latitude'].values[img_num]\n",
    "            #long_coords = df['merchant_location_longitude'].values[img_num]\n",
    "#             plt.imshow(opened)\n",
    "#             print(opened.shape)\n",
    "#             plt.title('%f, %f_Freq:%i' % (lat_coords, long_coords, num))\n",
    "#             plt.axis('off')\n",
    "#             plt.savefig('data/training_freqs/img_%f, %f_freq_%i.png' % (lat_coords, long_coords, num), bbox_inches='tight')\n",
    "            image = image.replace('sxm-ecommerce-p66-location-data/version2/roadmap_imgs/', '')\n",
    "            coords_name = image.replace('_19_600x600_approx.png', '')\n",
    "            plt.imsave('data/testing_freqs/img_%s_freq_%i.png' % (coords_name, num), opened)\n",
    "            #plt.show()\n",
    "    img_num +=1"
   ]
  },
  {
   "cell_type": "code",
   "execution_count": null,
   "metadata": {},
   "outputs": [],
   "source": [
    "#get an array of the s3 bucket where all freqs images are stored\n",
    "freq_imgs = fs.ls('s3://sxm-ecommerce-p66-location-data/version1/roadmap_3000_coords/')\n",
    "path = freq_imgs\n",
    "#clean up jargon\n",
    "freq_imgs = [str(freq).replace( 'sxm-ecommerce-p66-location-data/version1/roadmap_3000_coords/img_', '') for freq in freq_imgs]\n",
    "freq_imgs = [str(freq).replace( '.png', '') for freq in freq_imgs]\n",
    "print(freq_imgs)"
   ]
  },
  {
   "cell_type": "code",
   "execution_count": null,
   "metadata": {},
   "outputs": [],
   "source": [
    "#create csv of all freq images to list if img is road or not\n",
    "path = np.array(path)\n",
    "road_or_not = {'img': freq_imgs, 'type': [0] * len(freq_imgs), 'path': path}\n",
    "road_or_not_df = pd.DataFrame(road_or_not) \n",
    "road_or_not_df.to_csv('data/road_or_other3000.csv')"
   ]
  },
  {
   "cell_type": "code",
   "execution_count": 11,
   "metadata": {},
   "outputs": [],
   "source": [
    "# import os\n",
    "# files_in_directory = os.listdir()\n",
    "# filtered_files = [file for file in files_in_directory if file.endswith(\".out\")]\n",
    "# for file in filtered_files:\n",
    "# \tpath_to_file = file\n",
    "# \tos.remove(path_to_file)"
   ]
  },
  {
   "cell_type": "code",
   "execution_count": 24,
   "metadata": {},
   "outputs": [
    {
     "data": {
      "text/plain": [
       "(600, 600, 4)"
      ]
     },
     "execution_count": 24,
     "metadata": {},
     "output_type": "execute_result"
    }
   ],
   "source": [
    "image = plt.imread('data/training_freqs/img_21.331533, -157.865814_freq_1_600_600.png', 0)\n",
    "image.shape"
   ]
  },
  {
   "cell_type": "code",
   "execution_count": null,
   "metadata": {},
   "outputs": [],
   "source": []
  }
 ],
 "metadata": {
  "instance_type": "ml.m5.large",
  "kernelspec": {
   "display_name": "Python 3 (Data Science)",
   "language": "python",
   "name": "python3__SAGEMAKER_INTERNAL__arn:aws:sagemaker:us-east-1:081325390199:image/datascience-1.0"
  },
  "language_info": {
   "codemirror_mode": {
    "name": "ipython",
    "version": 3
   },
   "file_extension": ".py",
   "mimetype": "text/x-python",
   "name": "python",
   "nbconvert_exporter": "python",
   "pygments_lexer": "ipython3",
   "version": "3.7.10"
  }
 },
 "nbformat": 4,
 "nbformat_minor": 4
}
