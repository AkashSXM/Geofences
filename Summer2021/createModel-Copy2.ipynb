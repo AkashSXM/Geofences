{
 "cells": [
  {
   "cell_type": "code",
   "execution_count": 1,
   "metadata": {},
   "outputs": [
    {
     "name": "stdout",
     "output_type": "stream",
     "text": [
      "811284229777.dkr.ecr.us-east-1.amazonaws.com/image-classification:latest\n"
     ]
    }
   ],
   "source": [
    "import boto3\n",
    "import re\n",
    "from sagemaker import get_execution_role\n",
    "\n",
    "role = get_execution_role()\n",
    "\n",
    "bucket = 'sxm-ecommerce-p66-location-data'\n",
    "container = {'us-east-1': '811284229777.dkr.ecr.us-east-1.amazonaws.com/image-classification:latest',}\n",
    "training_image = container[boto3.Session().region_name]\n",
    "print(training_image)"
   ]
  },
  {
   "cell_type": "code",
   "execution_count": 2,
   "metadata": {},
   "outputs": [],
   "source": [
    "import pandas as pd\n",
    "from sklearn.model_selection import train_test_split"
   ]
  },
  {
   "cell_type": "code",
   "execution_count": 3,
   "metadata": {},
   "outputs": [
    {
     "data": {
      "text/html": [
       "<div>\n",
       "<style scoped>\n",
       "    .dataframe tbody tr th:only-of-type {\n",
       "        vertical-align: middle;\n",
       "    }\n",
       "\n",
       "    .dataframe tbody tr th {\n",
       "        vertical-align: top;\n",
       "    }\n",
       "\n",
       "    .dataframe thead th {\n",
       "        text-align: right;\n",
       "    }\n",
       "</style>\n",
       "<table border=\"1\" class=\"dataframe\">\n",
       "  <thead>\n",
       "    <tr style=\"text-align: right;\">\n",
       "      <th></th>\n",
       "      <th>imgs</th>\n",
       "      <th>type</th>\n",
       "      <th>path</th>\n",
       "    </tr>\n",
       "  </thead>\n",
       "  <tbody>\n",
       "    <tr>\n",
       "      <th>0</th>\n",
       "      <td>21.331533, -157.865814_freq_1</td>\n",
       "      <td>0</td>\n",
       "      <td>sxm-ecommerce-p66-location-data/freqs/img_21.3...</td>\n",
       "    </tr>\n",
       "    <tr>\n",
       "      <th>1</th>\n",
       "      <td>21.331533, -157.865814_freq_2</td>\n",
       "      <td>0</td>\n",
       "      <td>sxm-ecommerce-p66-location-data/freqs/img_21.3...</td>\n",
       "    </tr>\n",
       "    <tr>\n",
       "      <th>2</th>\n",
       "      <td>21.331533, -157.865814_freq_3</td>\n",
       "      <td>1</td>\n",
       "      <td>sxm-ecommerce-p66-location-data/freqs/img_21.3...</td>\n",
       "    </tr>\n",
       "    <tr>\n",
       "      <th>3</th>\n",
       "      <td>21.331533, -157.865814_freq_4</td>\n",
       "      <td>0</td>\n",
       "      <td>sxm-ecommerce-p66-location-data/freqs/img_21.3...</td>\n",
       "    </tr>\n",
       "    <tr>\n",
       "      <th>4</th>\n",
       "      <td>28.782888, -97.045563_freq_1</td>\n",
       "      <td>0</td>\n",
       "      <td>sxm-ecommerce-p66-location-data/freqs/img_28.7...</td>\n",
       "    </tr>\n",
       "  </tbody>\n",
       "</table>\n",
       "</div>"
      ],
      "text/plain": [
       "                            imgs  type  \\\n",
       "0  21.331533, -157.865814_freq_1     0   \n",
       "1  21.331533, -157.865814_freq_2     0   \n",
       "2  21.331533, -157.865814_freq_3     1   \n",
       "3  21.331533, -157.865814_freq_4     0   \n",
       "4   28.782888, -97.045563_freq_1     0   \n",
       "\n",
       "                                                path  \n",
       "0  sxm-ecommerce-p66-location-data/freqs/img_21.3...  \n",
       "1  sxm-ecommerce-p66-location-data/freqs/img_21.3...  \n",
       "2  sxm-ecommerce-p66-location-data/freqs/img_21.3...  \n",
       "3  sxm-ecommerce-p66-location-data/freqs/img_21.3...  \n",
       "4  sxm-ecommerce-p66-location-data/freqs/img_28.7...  "
      ]
     },
     "execution_count": 3,
     "metadata": {},
     "output_type": "execute_result"
    }
   ],
   "source": [
    "data = pd.read_csv('data/freqs/road_or_building.csv')\n",
    "data = data.drop(['weird_imgs','Unnamed: 0'], axis =1)\n",
    "data.head()"
   ]
  },
  {
   "cell_type": "code",
   "execution_count": 4,
   "metadata": {},
   "outputs": [
    {
     "data": {
      "text/plain": [
       "0    sxm-ecommerce-p66-location-data/freqs/img_21.3...\n",
       "1    sxm-ecommerce-p66-location-data/freqs/img_21.3...\n",
       "2    sxm-ecommerce-p66-location-data/freqs/img_21.3...\n",
       "3    sxm-ecommerce-p66-location-data/freqs/img_21.3...\n",
       "4    sxm-ecommerce-p66-location-data/freqs/img_28.7...\n",
       "Name: path, dtype: object"
      ]
     },
     "execution_count": 4,
     "metadata": {},
     "output_type": "execute_result"
    }
   ],
   "source": [
    "X = data.path\n",
    "y = data.type\n",
    "X.head()"
   ]
  },
  {
   "cell_type": "code",
   "execution_count": 5,
   "metadata": {},
   "outputs": [],
   "source": [
    "path = [str(path).replace( 'sxm-ecommerce-p66-location-data/', '') for path in X]"
   ]
  },
  {
   "cell_type": "code",
   "execution_count": 6,
   "metadata": {},
   "outputs": [],
   "source": [
    "X_train, X_test, y_train, y_test = train_test_split(X, y,test_size=0.2, shuffle = True)"
   ]
  },
  {
   "cell_type": "code",
   "execution_count": 7,
   "metadata": {},
   "outputs": [
    {
     "data": {
      "text/plain": [
       "387    sxm-ecommerce-p66-location-data/freqs/img_46.3...\n",
       "277    sxm-ecommerce-p66-location-data/freqs/img_39.3...\n",
       "94     sxm-ecommerce-p66-location-data/freqs/img_34.4...\n",
       "161    sxm-ecommerce-p66-location-data/freqs/img_36.4...\n",
       "216    sxm-ecommerce-p66-location-data/freqs/img_38.4...\n",
       "Name: path, dtype: object"
      ]
     },
     "execution_count": 7,
     "metadata": {},
     "output_type": "execute_result"
    }
   ],
   "source": [
    "X_train.head()"
   ]
  },
  {
   "cell_type": "code",
   "execution_count": 50,
   "metadata": {},
   "outputs": [
    {
     "name": "stdout",
     "output_type": "stream",
     "text": [
      "<File-like object S3FileSystem, sxm-ecommerce-p66-location-data/freqs/img_39.914940, -105.006603_freq_2.png>\n",
      "<File-like object S3FileSystem, sxm-ecommerce-p66-location-data/freqs/img_33.611694, -114.725608_freq_4.png>\n",
      "<File-like object S3FileSystem, sxm-ecommerce-p66-location-data/freqs/img_46.599908, -120.572529_freq_4.png>\n",
      "<File-like object S3FileSystem, sxm-ecommerce-p66-location-data/freqs/img_38.701206, -90.263960_freq_4.png>\n",
      "<File-like object S3FileSystem, sxm-ecommerce-p66-location-data/freqs/img_39.695696, -105.071700_freq_3.png>\n",
      "<File-like object S3FileSystem, sxm-ecommerce-p66-location-data/freqs/img_34.983854, -97.370283_freq_4.png>\n",
      "<File-like object S3FileSystem, sxm-ecommerce-p66-location-data/freqs/img_38.502609, -90.298036_freq_2.png>\n",
      "<File-like object S3FileSystem, sxm-ecommerce-p66-location-data/freqs/img_40.364099, -111.742177_freq_4.png>\n",
      "<File-like object S3FileSystem, sxm-ecommerce-p66-location-data/freqs/img_21.331533, -157.865814_freq_4.png>\n",
      "<File-like object S3FileSystem, sxm-ecommerce-p66-location-data/freqs/img_42.325612, -88.983268_freq_4.png>\n",
      "<File-like object S3FileSystem, sxm-ecommerce-p66-location-data/freqs/img_30.166849, -81.748018_freq_2.png>\n",
      "<File-like object S3FileSystem, sxm-ecommerce-p66-location-data/freqs/img_39.781769, -86.083413_freq_4.png>\n",
      "<File-like object S3FileSystem, sxm-ecommerce-p66-location-data/freqs/img_45.415814, -122.593356_freq_1.png>\n",
      "<File-like object S3FileSystem, sxm-ecommerce-p66-location-data/freqs/img_34.042803, -118.219286_freq_3.png>\n",
      "<File-like object S3FileSystem, sxm-ecommerce-p66-location-data/freqs/img_36.168284, -95.922185_freq_2.png>\n",
      "<File-like object S3FileSystem, sxm-ecommerce-p66-location-data/freqs/img_37.568253, -122.026146_freq_4.png>\n",
      "<File-like object S3FileSystem, sxm-ecommerce-p66-location-data/freqs/img_41.651033, -86.216179_freq_3.png>\n",
      "<File-like object S3FileSystem, sxm-ecommerce-p66-location-data/freqs/img_38.542992, -90.192497_freq_2.png>\n",
      "<File-like object S3FileSystem, sxm-ecommerce-p66-location-data/freqs/img_45.504331, -122.475114_freq_1.png>\n",
      "<File-like object S3FileSystem, sxm-ecommerce-p66-location-data/freqs/img_28.782888, -97.045563_freq_1.png>\n",
      "<File-like object S3FileSystem, sxm-ecommerce-p66-location-data/freqs/img_30.742342, -99.225417_freq_1.png>\n",
      "<File-like object S3FileSystem, sxm-ecommerce-p66-location-data/freqs/img_38.664221, -121.272608_freq_4.png>\n",
      "<File-like object S3FileSystem, sxm-ecommerce-p66-location-data/freqs/img_40.826027, -91.208710_freq_4.png>\n",
      "<File-like object S3FileSystem, sxm-ecommerce-p66-location-data/freqs/img_35.218759, -97.422209_freq_2.png>\n",
      "<File-like object S3FileSystem, sxm-ecommerce-p66-location-data/freqs/img_34.311032, -92.413717_freq_1.png>\n",
      "<File-like object S3FileSystem, sxm-ecommerce-p66-location-data/freqs/img_32.755714, -117.126091_freq_1.png>\n",
      "<File-like object S3FileSystem, sxm-ecommerce-p66-location-data/freqs/img_33.037973, -111.378656_freq_3.png>\n",
      "<File-like object S3FileSystem, sxm-ecommerce-p66-location-data/freqs/img_32.012106, -90.357557_freq_3.png>\n",
      "<File-like object S3FileSystem, sxm-ecommerce-p66-location-data/freqs/img_43.467882, -112.003715_freq_3.png>\n",
      "<File-like object S3FileSystem, sxm-ecommerce-p66-location-data/freqs/img_40.588079, -111.958350_freq_1.png>\n",
      "<File-like object S3FileSystem, sxm-ecommerce-p66-location-data/freqs/img_39.875982, -75.121634_freq_3.png>\n",
      "<File-like object S3FileSystem, sxm-ecommerce-p66-location-data/freqs/img_32.781604, -97.388521_freq_1.png>\n",
      "<File-like object S3FileSystem, sxm-ecommerce-p66-location-data/freqs/img_35.270870, -111.544006_freq_2.png>\n",
      "<File-like object S3FileSystem, sxm-ecommerce-p66-location-data/freqs/img_36.889373, -89.543597_freq_2.png>\n",
      "<File-like object S3FileSystem, sxm-ecommerce-p66-location-data/freqs/img_32.012106, -90.357557_freq_4.png>\n",
      "<File-like object S3FileSystem, sxm-ecommerce-p66-location-data/freqs/img_38.798163, -90.559493_freq_2.png>\n",
      "<File-like object S3FileSystem, sxm-ecommerce-p66-location-data/freqs/img_37.761433, -122.477325_freq_3.png>\n",
      "<File-like object S3FileSystem, sxm-ecommerce-p66-location-data/freqs/img_45.306483, -122.948029_freq_2.png>\n",
      "<File-like object S3FileSystem, sxm-ecommerce-p66-location-data/freqs/img_39.392193, -119.790039_freq_2.png>\n",
      "<File-like object S3FileSystem, sxm-ecommerce-p66-location-data/freqs/img_38.051319, -97.935127_freq_2.png>\n",
      "<File-like object S3FileSystem, sxm-ecommerce-p66-location-data/freqs/img_39.855786, -104.956085_freq_4.png>\n",
      "<File-like object S3FileSystem, sxm-ecommerce-p66-location-data/freqs/img_45.504331, -122.475114_freq_3.png>\n",
      "<File-like object S3FileSystem, sxm-ecommerce-p66-location-data/freqs/img_37.754088, -100.044436_freq_1.png>\n",
      "<File-like object S3FileSystem, sxm-ecommerce-p66-location-data/freqs/img_36.493792, -90.064697_freq_2.png>\n",
      "<File-like object S3FileSystem, sxm-ecommerce-p66-location-data/freqs/img_39.914940, -105.006603_freq_1.png>\n",
      "<File-like object S3FileSystem, sxm-ecommerce-p66-location-data/freqs/img_31.782211, -97.576846_freq_2.png>\n",
      "<File-like object S3FileSystem, sxm-ecommerce-p66-location-data/freqs/img_35.467226, -93.831410_freq_2.png>\n",
      "<File-like object S3FileSystem, sxm-ecommerce-p66-location-data/freqs/img_35.270870, -111.544006_freq_4.png>\n",
      "<File-like object S3FileSystem, sxm-ecommerce-p66-location-data/freqs/img_34.556566, -117.288937_freq_4.png>\n",
      "<File-like object S3FileSystem, sxm-ecommerce-p66-location-data/freqs/img_37.810012, -122.245290_freq_2.png>\n",
      "<File-like object S3FileSystem, sxm-ecommerce-p66-location-data/freqs/img_38.542992, -90.192497_freq_1.png>\n",
      "<File-like object S3FileSystem, sxm-ecommerce-p66-location-data/freqs/img_36.168284, -95.922185_freq_1.png>\n",
      "<File-like object S3FileSystem, sxm-ecommerce-p66-location-data/freqs/img_40.804153, -96.682148_freq_2.png>\n",
      "<File-like object S3FileSystem, sxm-ecommerce-p66-location-data/freqs/img_32.621311, -93.268366_freq_1.png>\n",
      "<File-like object S3FileSystem, sxm-ecommerce-p66-location-data/freqs/img_41.260788, -96.177233_freq_2.png>\n",
      "<File-like object S3FileSystem, sxm-ecommerce-p66-location-data/freqs/img_38.502609, -90.298036_freq_4.png>\n",
      "<File-like object S3FileSystem, sxm-ecommerce-p66-location-data/freqs/img_37.570248, -90.286181_freq_3.png>\n",
      "<File-like object S3FileSystem, sxm-ecommerce-p66-location-data/freqs/img_38.701206, -90.263960_freq_2.png>\n",
      "<File-like object S3FileSystem, sxm-ecommerce-p66-location-data/freqs/img_44.067844, -103.195831_freq_3.png>\n",
      "<File-like object S3FileSystem, sxm-ecommerce-p66-location-data/freqs/img_38.685054, -90.339324_freq_3.png>\n",
      "<File-like object S3FileSystem, sxm-ecommerce-p66-location-data/freqs/img_32.755714, -117.126091_freq_4.png>\n",
      "<File-like object S3FileSystem, sxm-ecommerce-p66-location-data/freqs/img_39.781769, -86.083413_freq_1.png>\n",
      "<File-like object S3FileSystem, sxm-ecommerce-p66-location-data/freqs/img_30.742342, -99.225417_freq_4.png>\n",
      "<File-like object S3FileSystem, sxm-ecommerce-p66-location-data/freqs/img_39.695696, -105.071700_freq_2.png>\n",
      "<File-like object S3FileSystem, sxm-ecommerce-p66-location-data/freqs/img_47.138551, -122.525624_freq_1.png>\n",
      "<File-like object S3FileSystem, sxm-ecommerce-p66-location-data/freqs/img_32.156635, -94.345393_freq_3.png>\n",
      "<File-like object S3FileSystem, sxm-ecommerce-p66-location-data/freqs/img_39.620273, -104.888916_freq_3.png>\n",
      "<File-like object S3FileSystem, sxm-ecommerce-p66-location-data/freqs/img_37.673163, -122.085555_freq_1.png>\n",
      "<File-like object S3FileSystem, sxm-ecommerce-p66-location-data/freqs/img_39.781769, -86.083413_freq_2.png>\n",
      "<File-like object S3FileSystem, sxm-ecommerce-p66-location-data/freqs/img_37.754088, -100.044436_freq_4.png>\n",
      "<File-like object S3FileSystem, sxm-ecommerce-p66-location-data/freqs/img_32.012106, -90.357557_freq_2.png>\n",
      "<File-like object S3FileSystem, sxm-ecommerce-p66-location-data/freqs/img_39.855786, -104.956085_freq_3.png>\n",
      "<File-like object S3FileSystem, sxm-ecommerce-p66-location-data/freqs/img_34.077039, -118.046992_freq_1.png>\n",
      "<File-like object S3FileSystem, sxm-ecommerce-p66-location-data/freqs/img_33.037973, -111.378656_freq_2.png>\n",
      "<File-like object S3FileSystem, sxm-ecommerce-p66-location-data/freqs/img_32.781604, -97.388521_freq_4.png>\n",
      "<File-like object S3FileSystem, sxm-ecommerce-p66-location-data/freqs/img_38.502609, -90.298036_freq_1.png>\n",
      "<File-like object S3FileSystem, sxm-ecommerce-p66-location-data/freqs/img_38.886021, -94.724304_freq_3.png>\n",
      "<File-like object S3FileSystem, sxm-ecommerce-p66-location-data/freqs/img_33.836291, -118.328960_freq_2.png>\n",
      "<File-like object S3FileSystem, sxm-ecommerce-p66-location-data/freqs/img_38.306587, -90.531544_freq_3.png>\n",
      "<File-like object S3FileSystem, sxm-ecommerce-p66-location-data/freqs/img_38.883829, -94.800514_freq_2.png>\n",
      "<File-like object S3FileSystem, sxm-ecommerce-p66-location-data/freqs/img_34.556566, -117.288937_freq_1.png>\n",
      "<File-like object S3FileSystem, sxm-ecommerce-p66-location-data/freqs/img_21.331533, -157.865814_freq_1.png>\n",
      "<File-like object S3FileSystem, sxm-ecommerce-p66-location-data/freqs/img_39.392193, -119.790039_freq_4.png>\n"
     ]
    },
    {
     "ename": "KeyboardInterrupt",
     "evalue": "",
     "output_type": "error",
     "traceback": [
      "\u001b[0;31m---------------------------------------------------------------------------\u001b[0m",
      "\u001b[0;31mKeyboardInterrupt\u001b[0m                         Traceback (most recent call last)",
      "\u001b[0;32m<ipython-input-50-12dfa9e1fd85>\u001b[0m in \u001b[0;36m<module>\u001b[0;34m\u001b[0m\n\u001b[1;32m      4\u001b[0m \u001b[0mfs\u001b[0m \u001b[0;34m=\u001b[0m \u001b[0ms3fs\u001b[0m\u001b[0;34m.\u001b[0m\u001b[0mS3FileSystem\u001b[0m\u001b[0;34m(\u001b[0m\u001b[0;34m)\u001b[0m\u001b[0;34m\u001b[0m\u001b[0;34m\u001b[0m\u001b[0m\n\u001b[1;32m      5\u001b[0m \u001b[0;32mfor\u001b[0m \u001b[0mpath\u001b[0m \u001b[0;32min\u001b[0m \u001b[0mX_train\u001b[0m\u001b[0;34m:\u001b[0m\u001b[0;34m\u001b[0m\u001b[0;34m\u001b[0m\u001b[0m\n\u001b[0;32m----> 6\u001b[0;31m     \u001b[0;32mwith\u001b[0m \u001b[0mfs\u001b[0m\u001b[0;34m.\u001b[0m\u001b[0mopen\u001b[0m\u001b[0;34m(\u001b[0m\u001b[0;34mf's3://'\u001b[0m \u001b[0;34m+\u001b[0m \u001b[0mstr\u001b[0m\u001b[0;34m(\u001b[0m\u001b[0mpath\u001b[0m\u001b[0;34m)\u001b[0m\u001b[0;34m)\u001b[0m \u001b[0;32mas\u001b[0m \u001b[0mf\u001b[0m\u001b[0;34m:\u001b[0m\u001b[0;34m\u001b[0m\u001b[0;34m\u001b[0m\u001b[0m\n\u001b[0m\u001b[1;32m      7\u001b[0m         \u001b[0mprint\u001b[0m\u001b[0;34m(\u001b[0m\u001b[0mf\u001b[0m\u001b[0;34m)\u001b[0m\u001b[0;34m\u001b[0m\u001b[0;34m\u001b[0m\u001b[0m\n",
      "\u001b[0;32m/opt/conda/lib/python3.7/site-packages/fsspec/spec.py\u001b[0m in \u001b[0;36mopen\u001b[0;34m(self, path, mode, block_size, cache_options, **kwargs)\u001b[0m\n\u001b[1;32m    946\u001b[0m                 \u001b[0mautocommit\u001b[0m\u001b[0;34m=\u001b[0m\u001b[0mac\u001b[0m\u001b[0;34m,\u001b[0m\u001b[0;34m\u001b[0m\u001b[0;34m\u001b[0m\u001b[0m\n\u001b[1;32m    947\u001b[0m                 \u001b[0mcache_options\u001b[0m\u001b[0;34m=\u001b[0m\u001b[0mcache_options\u001b[0m\u001b[0;34m,\u001b[0m\u001b[0;34m\u001b[0m\u001b[0;34m\u001b[0m\u001b[0m\n\u001b[0;32m--> 948\u001b[0;31m                 \u001b[0;34m**\u001b[0m\u001b[0mkwargs\u001b[0m\u001b[0;34m,\u001b[0m\u001b[0;34m\u001b[0m\u001b[0;34m\u001b[0m\u001b[0m\n\u001b[0m\u001b[1;32m    949\u001b[0m             )\n\u001b[1;32m    950\u001b[0m             \u001b[0;32mif\u001b[0m \u001b[0;32mnot\u001b[0m \u001b[0mac\u001b[0m \u001b[0;32mand\u001b[0m \u001b[0;34m\"r\"\u001b[0m \u001b[0;32mnot\u001b[0m \u001b[0;32min\u001b[0m \u001b[0mmode\u001b[0m\u001b[0;34m:\u001b[0m\u001b[0;34m\u001b[0m\u001b[0;34m\u001b[0m\u001b[0m\n",
      "\u001b[0;32m/opt/conda/lib/python3.7/site-packages/s3fs/core.py\u001b[0m in \u001b[0;36m_open\u001b[0;34m(self, path, mode, block_size, acl, version_id, fill_cache, cache_type, autocommit, requester_pays, **kwargs)\u001b[0m\n\u001b[1;32m    507\u001b[0m             \u001b[0mcache_type\u001b[0m\u001b[0;34m=\u001b[0m\u001b[0mcache_type\u001b[0m\u001b[0;34m,\u001b[0m\u001b[0;34m\u001b[0m\u001b[0;34m\u001b[0m\u001b[0m\n\u001b[1;32m    508\u001b[0m             \u001b[0mautocommit\u001b[0m\u001b[0;34m=\u001b[0m\u001b[0mautocommit\u001b[0m\u001b[0;34m,\u001b[0m\u001b[0;34m\u001b[0m\u001b[0;34m\u001b[0m\u001b[0m\n\u001b[0;32m--> 509\u001b[0;31m             \u001b[0mrequester_pays\u001b[0m\u001b[0;34m=\u001b[0m\u001b[0mrequester_pays\u001b[0m\u001b[0;34m,\u001b[0m\u001b[0;34m\u001b[0m\u001b[0;34m\u001b[0m\u001b[0m\n\u001b[0m\u001b[1;32m    510\u001b[0m         )\n\u001b[1;32m    511\u001b[0m \u001b[0;34m\u001b[0m\u001b[0m\n",
      "\u001b[0;32m/opt/conda/lib/python3.7/site-packages/s3fs/core.py\u001b[0m in \u001b[0;36m__init__\u001b[0;34m(self, s3, path, mode, block_size, acl, version_id, fill_cache, s3_additional_kwargs, autocommit, cache_type, requester_pays)\u001b[0m\n\u001b[1;32m   1737\u001b[0m                 \u001b[0mself\u001b[0m\u001b[0;34m.\u001b[0m\u001b[0mversion_id\u001b[0m \u001b[0;34m=\u001b[0m \u001b[0mself\u001b[0m\u001b[0;34m.\u001b[0m\u001b[0mdetails\u001b[0m\u001b[0;34m.\u001b[0m\u001b[0mget\u001b[0m\u001b[0;34m(\u001b[0m\u001b[0;34m\"VersionId\"\u001b[0m\u001b[0;34m)\u001b[0m\u001b[0;34m\u001b[0m\u001b[0;34m\u001b[0m\u001b[0m\n\u001b[1;32m   1738\u001b[0m         super().__init__(\n\u001b[0;32m-> 1739\u001b[0;31m             \u001b[0ms3\u001b[0m\u001b[0;34m,\u001b[0m \u001b[0mpath\u001b[0m\u001b[0;34m,\u001b[0m \u001b[0mmode\u001b[0m\u001b[0;34m,\u001b[0m \u001b[0mblock_size\u001b[0m\u001b[0;34m,\u001b[0m \u001b[0mautocommit\u001b[0m\u001b[0;34m=\u001b[0m\u001b[0mautocommit\u001b[0m\u001b[0;34m,\u001b[0m \u001b[0mcache_type\u001b[0m\u001b[0;34m=\u001b[0m\u001b[0mcache_type\u001b[0m\u001b[0;34m\u001b[0m\u001b[0;34m\u001b[0m\u001b[0m\n\u001b[0m\u001b[1;32m   1740\u001b[0m         )\n\u001b[1;32m   1741\u001b[0m         \u001b[0mself\u001b[0m\u001b[0;34m.\u001b[0m\u001b[0ms3\u001b[0m \u001b[0;34m=\u001b[0m \u001b[0mself\u001b[0m\u001b[0;34m.\u001b[0m\u001b[0mfs\u001b[0m  \u001b[0;31m# compatibility\u001b[0m\u001b[0;34m\u001b[0m\u001b[0;34m\u001b[0m\u001b[0m\n",
      "\u001b[0;32m/opt/conda/lib/python3.7/site-packages/fsspec/spec.py\u001b[0m in \u001b[0;36m__init__\u001b[0;34m(self, fs, path, mode, block_size, autocommit, cache_type, cache_options, **kwargs)\u001b[0m\n\u001b[1;32m   1268\u001b[0m         \u001b[0;32mif\u001b[0m \u001b[0mmode\u001b[0m \u001b[0;34m==\u001b[0m \u001b[0;34m\"rb\"\u001b[0m\u001b[0;34m:\u001b[0m\u001b[0;34m\u001b[0m\u001b[0;34m\u001b[0m\u001b[0m\n\u001b[1;32m   1269\u001b[0m             \u001b[0;32mif\u001b[0m \u001b[0;32mnot\u001b[0m \u001b[0mhasattr\u001b[0m\u001b[0;34m(\u001b[0m\u001b[0mself\u001b[0m\u001b[0;34m,\u001b[0m \u001b[0;34m\"details\"\u001b[0m\u001b[0;34m)\u001b[0m\u001b[0;34m:\u001b[0m\u001b[0;34m\u001b[0m\u001b[0;34m\u001b[0m\u001b[0m\n\u001b[0;32m-> 1270\u001b[0;31m                 \u001b[0mself\u001b[0m\u001b[0;34m.\u001b[0m\u001b[0mdetails\u001b[0m \u001b[0;34m=\u001b[0m \u001b[0mfs\u001b[0m\u001b[0;34m.\u001b[0m\u001b[0minfo\u001b[0m\u001b[0;34m(\u001b[0m\u001b[0mpath\u001b[0m\u001b[0;34m)\u001b[0m\u001b[0;34m\u001b[0m\u001b[0;34m\u001b[0m\u001b[0m\n\u001b[0m\u001b[1;32m   1271\u001b[0m             \u001b[0mself\u001b[0m\u001b[0;34m.\u001b[0m\u001b[0msize\u001b[0m \u001b[0;34m=\u001b[0m \u001b[0mself\u001b[0m\u001b[0;34m.\u001b[0m\u001b[0mdetails\u001b[0m\u001b[0;34m[\u001b[0m\u001b[0;34m\"size\"\u001b[0m\u001b[0;34m]\u001b[0m\u001b[0;34m\u001b[0m\u001b[0;34m\u001b[0m\u001b[0m\n\u001b[1;32m   1272\u001b[0m             self.cache = caches[cache_type](\n",
      "\u001b[0;32m/opt/conda/lib/python3.7/site-packages/fsspec/asyn.py\u001b[0m in \u001b[0;36mwrapper\u001b[0;34m(*args, **kwargs)\u001b[0m\n\u001b[1;32m     70\u001b[0m     \u001b[0;32mdef\u001b[0m \u001b[0mwrapper\u001b[0m\u001b[0;34m(\u001b[0m\u001b[0;34m*\u001b[0m\u001b[0margs\u001b[0m\u001b[0;34m,\u001b[0m \u001b[0;34m**\u001b[0m\u001b[0mkwargs\u001b[0m\u001b[0;34m)\u001b[0m\u001b[0;34m:\u001b[0m\u001b[0;34m\u001b[0m\u001b[0;34m\u001b[0m\u001b[0m\n\u001b[1;32m     71\u001b[0m         \u001b[0mself\u001b[0m \u001b[0;34m=\u001b[0m \u001b[0mobj\u001b[0m \u001b[0;32mor\u001b[0m \u001b[0margs\u001b[0m\u001b[0;34m[\u001b[0m\u001b[0;36m0\u001b[0m\u001b[0;34m]\u001b[0m\u001b[0;34m\u001b[0m\u001b[0;34m\u001b[0m\u001b[0m\n\u001b[0;32m---> 72\u001b[0;31m         \u001b[0;32mreturn\u001b[0m \u001b[0msync\u001b[0m\u001b[0;34m(\u001b[0m\u001b[0mself\u001b[0m\u001b[0;34m.\u001b[0m\u001b[0mloop\u001b[0m\u001b[0;34m,\u001b[0m \u001b[0mfunc\u001b[0m\u001b[0;34m,\u001b[0m \u001b[0;34m*\u001b[0m\u001b[0margs\u001b[0m\u001b[0;34m,\u001b[0m \u001b[0;34m**\u001b[0m\u001b[0mkwargs\u001b[0m\u001b[0;34m)\u001b[0m\u001b[0;34m\u001b[0m\u001b[0;34m\u001b[0m\u001b[0m\n\u001b[0m\u001b[1;32m     73\u001b[0m \u001b[0;34m\u001b[0m\u001b[0m\n\u001b[1;32m     74\u001b[0m     \u001b[0;32mreturn\u001b[0m \u001b[0mwrapper\u001b[0m\u001b[0;34m\u001b[0m\u001b[0;34m\u001b[0m\u001b[0m\n",
      "\u001b[0;32m/opt/conda/lib/python3.7/site-packages/fsspec/asyn.py\u001b[0m in \u001b[0;36msync\u001b[0;34m(loop, func, timeout, *args, **kwargs)\u001b[0m\n\u001b[1;32m     49\u001b[0m     \u001b[0mevent\u001b[0m \u001b[0;34m=\u001b[0m \u001b[0mthreading\u001b[0m\u001b[0;34m.\u001b[0m\u001b[0mEvent\u001b[0m\u001b[0;34m(\u001b[0m\u001b[0;34m)\u001b[0m\u001b[0;34m\u001b[0m\u001b[0;34m\u001b[0m\u001b[0m\n\u001b[1;32m     50\u001b[0m     \u001b[0masyncio\u001b[0m\u001b[0;34m.\u001b[0m\u001b[0mrun_coroutine_threadsafe\u001b[0m\u001b[0;34m(\u001b[0m\u001b[0m_runner\u001b[0m\u001b[0;34m(\u001b[0m\u001b[0mevent\u001b[0m\u001b[0;34m,\u001b[0m \u001b[0mcoro\u001b[0m\u001b[0;34m,\u001b[0m \u001b[0mresult\u001b[0m\u001b[0;34m,\u001b[0m \u001b[0mtimeout\u001b[0m\u001b[0;34m)\u001b[0m\u001b[0;34m,\u001b[0m \u001b[0mloop\u001b[0m\u001b[0;34m)\u001b[0m\u001b[0;34m\u001b[0m\u001b[0;34m\u001b[0m\u001b[0m\n\u001b[0;32m---> 51\u001b[0;31m     \u001b[0mevent\u001b[0m\u001b[0;34m.\u001b[0m\u001b[0mwait\u001b[0m\u001b[0;34m(\u001b[0m\u001b[0mtimeout\u001b[0m\u001b[0;34m)\u001b[0m\u001b[0;34m\u001b[0m\u001b[0;34m\u001b[0m\u001b[0m\n\u001b[0m\u001b[1;32m     52\u001b[0m     \u001b[0;32mif\u001b[0m \u001b[0misinstance\u001b[0m\u001b[0;34m(\u001b[0m\u001b[0mresult\u001b[0m\u001b[0;34m[\u001b[0m\u001b[0;36m0\u001b[0m\u001b[0;34m]\u001b[0m\u001b[0;34m,\u001b[0m \u001b[0mBaseException\u001b[0m\u001b[0;34m)\u001b[0m\u001b[0;34m:\u001b[0m\u001b[0;34m\u001b[0m\u001b[0;34m\u001b[0m\u001b[0m\n\u001b[1;32m     53\u001b[0m         \u001b[0;32mraise\u001b[0m \u001b[0mresult\u001b[0m\u001b[0;34m[\u001b[0m\u001b[0;36m0\u001b[0m\u001b[0;34m]\u001b[0m\u001b[0;34m\u001b[0m\u001b[0;34m\u001b[0m\u001b[0m\n",
      "\u001b[0;32m/opt/conda/lib/python3.7/threading.py\u001b[0m in \u001b[0;36mwait\u001b[0;34m(self, timeout)\u001b[0m\n\u001b[1;32m    550\u001b[0m             \u001b[0msignaled\u001b[0m \u001b[0;34m=\u001b[0m \u001b[0mself\u001b[0m\u001b[0;34m.\u001b[0m\u001b[0m_flag\u001b[0m\u001b[0;34m\u001b[0m\u001b[0;34m\u001b[0m\u001b[0m\n\u001b[1;32m    551\u001b[0m             \u001b[0;32mif\u001b[0m \u001b[0;32mnot\u001b[0m \u001b[0msignaled\u001b[0m\u001b[0;34m:\u001b[0m\u001b[0;34m\u001b[0m\u001b[0;34m\u001b[0m\u001b[0m\n\u001b[0;32m--> 552\u001b[0;31m                 \u001b[0msignaled\u001b[0m \u001b[0;34m=\u001b[0m \u001b[0mself\u001b[0m\u001b[0;34m.\u001b[0m\u001b[0m_cond\u001b[0m\u001b[0;34m.\u001b[0m\u001b[0mwait\u001b[0m\u001b[0;34m(\u001b[0m\u001b[0mtimeout\u001b[0m\u001b[0;34m)\u001b[0m\u001b[0;34m\u001b[0m\u001b[0;34m\u001b[0m\u001b[0m\n\u001b[0m\u001b[1;32m    553\u001b[0m             \u001b[0;32mreturn\u001b[0m \u001b[0msignaled\u001b[0m\u001b[0;34m\u001b[0m\u001b[0;34m\u001b[0m\u001b[0m\n\u001b[1;32m    554\u001b[0m \u001b[0;34m\u001b[0m\u001b[0m\n",
      "\u001b[0;32m/opt/conda/lib/python3.7/threading.py\u001b[0m in \u001b[0;36mwait\u001b[0;34m(self, timeout)\u001b[0m\n\u001b[1;32m    294\u001b[0m         \u001b[0;32mtry\u001b[0m\u001b[0;34m:\u001b[0m    \u001b[0;31m# restore state no matter what (e.g., KeyboardInterrupt)\u001b[0m\u001b[0;34m\u001b[0m\u001b[0;34m\u001b[0m\u001b[0m\n\u001b[1;32m    295\u001b[0m             \u001b[0;32mif\u001b[0m \u001b[0mtimeout\u001b[0m \u001b[0;32mis\u001b[0m \u001b[0;32mNone\u001b[0m\u001b[0;34m:\u001b[0m\u001b[0;34m\u001b[0m\u001b[0;34m\u001b[0m\u001b[0m\n\u001b[0;32m--> 296\u001b[0;31m                 \u001b[0mwaiter\u001b[0m\u001b[0;34m.\u001b[0m\u001b[0macquire\u001b[0m\u001b[0;34m(\u001b[0m\u001b[0;34m)\u001b[0m\u001b[0;34m\u001b[0m\u001b[0;34m\u001b[0m\u001b[0m\n\u001b[0m\u001b[1;32m    297\u001b[0m                 \u001b[0mgotit\u001b[0m \u001b[0;34m=\u001b[0m \u001b[0;32mTrue\u001b[0m\u001b[0;34m\u001b[0m\u001b[0;34m\u001b[0m\u001b[0m\n\u001b[1;32m    298\u001b[0m             \u001b[0;32melse\u001b[0m\u001b[0;34m:\u001b[0m\u001b[0;34m\u001b[0m\u001b[0;34m\u001b[0m\u001b[0m\n",
      "\u001b[0;31mKeyboardInterrupt\u001b[0m: "
     ]
    }
   ],
   "source": [
    "from PIL import Image\n",
    "import s3fs\n",
    "\n",
    "fs = s3fs.S3FileSystem()\n",
    "for path in X_train:\n",
    "    with fs.open(f's3://' + str(path)) as f:\n",
    "        print(f)"
   ]
  },
  {
   "cell_type": "code",
   "execution_count": null,
   "metadata": {},
   "outputs": [],
   "source": [
    "y_train.head()"
   ]
  },
  {
   "cell_type": "code",
   "execution_count": null,
   "metadata": {},
   "outputs": [],
   "source": []
  }
 ],
 "metadata": {
  "instance_type": "ml.g4dn.xlarge",
  "kernelspec": {
   "display_name": "Python 3 (Data Science)",
   "language": "python",
   "name": "python3__SAGEMAKER_INTERNAL__arn:aws:sagemaker:us-east-1:081325390199:image/datascience-1.0"
  },
  "language_info": {
   "codemirror_mode": {
    "name": "ipython",
    "version": 3
   },
   "file_extension": ".py",
   "mimetype": "text/x-python",
   "name": "python",
   "nbconvert_exporter": "python",
   "pygments_lexer": "ipython3",
   "version": "3.7.10"
  }
 },
 "nbformat": 4,
 "nbformat_minor": 4
}
