{
 "cells": [
  {
   "cell_type": "code",
   "execution_count": 18,
   "metadata": {},
   "outputs": [],
   "source": [
    "from PIL import Image\n",
    "import pandas as pd\n",
    "import matplotlib.pyplot as plt\n",
    "import s3fs\n",
    "import numpy as np\n",
    "import boto3\n",
    "import cv2\n",
    "s3 = boto3.client('s3')\n"
   ]
  },
  {
   "cell_type": "code",
   "execution_count": 19,
   "metadata": {},
   "outputs": [],
   "source": [
    "fs = s3fs.S3FileSystem()\n",
    "image_paths = fs.ls('s3://sxm-ecommerce-p66-location-data/roadmap_3000_coords/')\n",
    "bucket_path = 'sxm-ecommerce-p66-location-data'"
   ]
  },
  {
   "cell_type": "code",
   "execution_count": 28,
   "metadata": {},
   "outputs": [],
   "source": [
    "image_paths = [path.replace(\"sxm-ecommerce-p66-location-data/roadmap_3000_coords/\", \"\") for path in image_paths]"
   ]
  },
  {
   "cell_type": "code",
   "execution_count": 31,
   "metadata": {},
   "outputs": [],
   "source": [
    "counter = 0\n",
    "folder_name = ''\n",
    "for image in image_paths:\n",
    "    if counter % 100 == 0:\n",
    "        folder_name = \"roadmap_3000_coords/raw_roadmap_\" + str(counter//100)\n",
    "        print(folder_name)\n",
    "    \n",
    "    s3 = boto3.resource('s3')\n",
    "    copy_source = {\n",
    "        'Bucket': bucket_path,\n",
    "        'Key': 'roadmap_3000_coords/' + image\n",
    "    }\n",
    "#     print(bucket_path)\n",
    "#     print(folder_name + '/' + image)\n",
    "    s3.meta.client.copy(copy_source, bucket_path, folder_name + '/' + image)\n",
    "    \n",
    "    counter += 1"
   ]
  }
 ],
 "metadata": {
  "instance_type": "ml.t3.medium",
  "kernelspec": {
   "display_name": "Python 3 (Data Science)",
   "language": "python",
   "name": "python3__SAGEMAKER_INTERNAL__arn:aws:sagemaker:us-east-1:081325390199:image/datascience-1.0"
  },
  "language_info": {
   "codemirror_mode": {
    "name": "ipython",
    "version": 3
   },
   "file_extension": ".py",
   "mimetype": "text/x-python",
   "name": "python",
   "nbconvert_exporter": "python",
   "pygments_lexer": "ipython3",
   "version": "3.7.10"
  }
 },
 "nbformat": 4,
 "nbformat_minor": 4
}
